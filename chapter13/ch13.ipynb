{
  "nbformat": 4,
  "nbformat_minor": 0,
  "metadata": {
    "accelerator": "GPU",
    "colab": {
      "name": "ch13.ipynb",
      "provenance": [],
      "collapsed_sections": []
    },
    "kernelspec": {
      "display_name": "Python 3",
      "name": "python3"
    }
  },
  "cells": [
    {
      "cell_type": "markdown",
      "metadata": {
        "id": "E0DIZQALOE23"
      },
      "source": [
        "# Object Detection\n",
        "\n",
        "Image classification involves assigning a class label to an image, whereas object localization involves drawing a bounding box around one or more objects in an image. Object detection is more challenging and combines these two tasks and draws a bounding box around each object of interest in the image and assigns them a class label.\n",
        "\n",
        "For an excellent overview, peruse:\n",
        "\n",
        "https://www.fritz.ai/object-detection/\n",
        "\n",
        "Technical resources:\n",
        "\n",
        "https://machinelearningmastery.com/object-recognition-with-deep-learning/\n",
        "\n",
        "https://www.tensorflow.org/hub/tutorials/object_detection\n",
        "\n",
        "https://www.tensorflow.org/hub/tutorials/tf2_object_detection"
      ]
    },
    {
      "cell_type": "markdown",
      "metadata": {
        "id": "KyHEcXv30Bhf"
      },
      "source": [
        "**Image classification** predicts the type (or class) of an object in an image.\n",
        "* Input: an image with a single object, such as a photograph.\n",
        "* Output: a class label (e.g. one or more integers that are mapped to class labels).\n",
        "\n",
        "**Object localization** involves locating the presence of objects in an image and indicating their location with a bounding box.\n",
        "* Input: an image with one or more objects, such as a photograph.\n",
        "* Output: one or more bounding boxes (e.g. defined by a point, width, and height).\n",
        "\n",
        "**Object Detection** involved locating the presence of objects with a bounding box and types (or classes) of the located objects in an image.\n",
        "* Input: an image with one or more objects, such as a photograph.\n",
        "* Output: one or more bounding boxes (e.g. defined by a point, width, and height), and a class label for each bounding box."
      ]
    },
    {
      "cell_type": "markdown",
      "metadata": {
        "id": "ioHCOdEcTX1X"
      },
      "source": [
        "# Import **tensorflow** library"
      ]
    },
    {
      "cell_type": "markdown",
      "metadata": {
        "id": "VpygsU5NTY4O"
      },
      "source": [
        "Import library and alias it:"
      ]
    },
    {
      "cell_type": "code",
      "metadata": {
        "id": "prmzt6Q0TdMM"
      },
      "source": [
        "import tensorflow as tf"
      ],
      "execution_count": null,
      "outputs": []
    },
    {
      "cell_type": "markdown",
      "metadata": {
        "id": "z1PaVreZTcPm"
      },
      "source": [
        "# GPU Hardware Accelerator\n",
        "\n",
        "To vastly speed up processing, we can use the GPU available from the Google Colab cloud service. Colab provides a free Tesla K80 GPU of about 12 GB. It’s very easy to enable the GPU in a Colab notebook:\n",
        "\n",
        "1.\tclick **Runtime** in the top left menu\n",
        "2.\tclick **Change runtime** type from the drop-down menu\n",
        "3.\tchoose **GPU** from the Hardware accelerator drop-down menu\n",
        "4.\tclick **SAVE**"
      ]
    },
    {
      "cell_type": "markdown",
      "metadata": {
        "id": "nu9mIFhNTgeW"
      },
      "source": [
        "Verify that GPU is available:"
      ]
    },
    {
      "cell_type": "code",
      "metadata": {
        "id": "P-LVWYafThG_"
      },
      "source": [
        "tf.__version__, tf.test.gpu_device_name()"
      ],
      "execution_count": null,
      "outputs": []
    },
    {
      "cell_type": "markdown",
      "metadata": {
        "id": "GcllIuuxVKfX"
      },
      "source": [
        "# Import Requisite Libraries"
      ]
    },
    {
      "cell_type": "markdown",
      "metadata": {
        "id": "n5eRwZX4VN8e"
      },
      "source": [
        "Enable access to the TF-hub module:"
      ]
    },
    {
      "cell_type": "code",
      "metadata": {
        "id": "64LS09veVKkf"
      },
      "source": [
        "import tensorflow_hub as hub"
      ],
      "execution_count": null,
      "outputs": []
    },
    {
      "cell_type": "markdown",
      "metadata": {
        "id": "jXmVNSq125tR"
      },
      "source": [
        "For processing an image:"
      ]
    },
    {
      "cell_type": "code",
      "metadata": {
        "id": "gfSSdjOs2xn5"
      },
      "source": [
        "import matplotlib.pyplot as plt\n",
        "import tempfile\n",
        "from six.moves.urllib.request import urlopen\n",
        "from six import BytesIO"
      ],
      "execution_count": null,
      "outputs": []
    },
    {
      "cell_type": "markdown",
      "metadata": {
        "id": "ShgoLJx03I57"
      },
      "source": [
        "For drawing onto an image:"
      ]
    },
    {
      "cell_type": "code",
      "metadata": {
        "id": "BBklNNna2xqH"
      },
      "source": [
        "from PIL import Image\n",
        "from PIL import ImageColor\n",
        "from PIL import ImageDraw\n",
        "from PIL import ImageFont\n",
        "from PIL import ImageOps"
      ],
      "execution_count": null,
      "outputs": []
    },
    {
      "cell_type": "markdown",
      "metadata": {
        "id": "cBPWSJGt3Tv-"
      },
      "source": [
        "General library:"
      ]
    },
    {
      "cell_type": "code",
      "metadata": {
        "id": "04F-SfvO2weY"
      },
      "source": [
        "import numpy as np"
      ],
      "execution_count": null,
      "outputs": []
    },
    {
      "cell_type": "markdown",
      "metadata": {
        "id": "S4FHO1NvlCKj"
      },
      "source": [
        "# Create Functions"
      ]
    },
    {
      "cell_type": "markdown",
      "metadata": {
        "id": "QPWJrS7A3hhw"
      },
      "source": [
        "Display an image:"
      ]
    },
    {
      "cell_type": "code",
      "metadata": {
        "id": "4rHLLedC3hnY"
      },
      "source": [
        "def display_image(image):\n",
        "  fig = plt.figure(figsize=(20, 15))\n",
        "  plt.grid(False)\n",
        "  plt.imshow(image)\n",
        "  plt.axis('off')"
      ],
      "execution_count": null,
      "outputs": []
    },
    {
      "cell_type": "markdown",
      "metadata": {
        "id": "nBDlPpFr3h2x"
      },
      "source": [
        "Draw bounding box on image:"
      ]
    },
    {
      "cell_type": "code",
      "metadata": {
        "id": "wFw5dU2lOY6s"
      },
      "source": [
        "def draw_bounding_box_on_image(\n",
        "    image, ymin, xmin, ymax, xmax,\n",
        "    color, font, thickness=4, display_str_list=()):\n",
        "  \"\"\"Adds a bounding box to an image.\"\"\"\n",
        "  draw = ImageDraw.Draw(image)\n",
        "  im_width, im_height = image.size\n",
        "  (left, right, top, bottom) = (\n",
        "      xmin * im_width, xmax * im_width,\n",
        "      ymin * im_height, ymax * im_height)\n",
        "  draw.line([(left, top), (left, bottom),\n",
        "             (right, bottom), (right, top),\n",
        "             (left, top)],\n",
        "             width=thickness, fill=color)\n",
        "  # If the total height of the display strings added to the top of the bounding\n",
        "  # box exceeds the top of the image, stack the strings below the bounding box\n",
        "  # instead of above.\n",
        "  display_str_heights = [font.getsize(ds)[1]\n",
        "                         for ds in display_str_list]\n",
        "  # Each display_str has a top and bottom margin of 0.05x.\n",
        "  total_display_str_height = (\n",
        "      1 + 2 * 0.05) * sum(display_str_heights)\n",
        "  if top > total_display_str_height:\n",
        "    text_bottom = top\n",
        "  else:\n",
        "    text_bottom = top + total_display_str_height\n",
        "  # Reverse list and print from bottom to top.\n",
        "  for display_str in display_str_list[::-1]:\n",
        "    text_width, text_height = font.getsize(display_str)\n",
        "    margin = np.ceil(0.05 * text_height)\n",
        "    draw.rectangle(\n",
        "        [(left, text_bottom - text_height - 2 * margin),\n",
        "         (left + text_width, text_bottom)], fill=color)\n",
        "    draw.text(\n",
        "        (left + margin, text_bottom - text_height - margin),\n",
        "        display_str, fill='black', font=font)\n",
        "    text_bottom -= text_height - 2 * margin"
      ],
      "execution_count": null,
      "outputs": []
    },
    {
      "cell_type": "markdown",
      "metadata": {
        "id": "GLuQrUEI4W7j"
      },
      "source": [
        "Draw boxes:"
      ]
    },
    {
      "cell_type": "code",
      "metadata": {
        "id": "LKYEjDCV4XDh"
      },
      "source": [
        "def draw_boxes(\n",
        "    image, boxes, class_names, scores,\n",
        "    max_boxes=10, min_score=0.1):\n",
        "  # Overlay labeled boxes on an image with formatted scores and label names.\n",
        "  colors = list(ImageColor.colormap.values())\n",
        "  one = '/usr/share/fonts/truetype/liberation/'\n",
        "  two =  'LiberationSansNarrow-Regular.ttf'\n",
        "  font_url = one + two\n",
        "  try:\n",
        "    font = ImageFont.truetype(font_url, 25)\n",
        "  except IOError:\n",
        "    print('Font not found, using default font.')\n",
        "    font = ImageFont.load_default()\n",
        "  for i in range(min(boxes.shape[0], max_boxes)):\n",
        "    if scores[i] >= min_score:\n",
        "      ymin, xmin, ymax, xmax = tuple(boxes[i])\n",
        "      display_str = '{}: {}%'.format(\n",
        "          class_names[i].decode('ascii'),\n",
        "          int(100 * scores[i]))\n",
        "      color = colors[hash(class_names[i]) % len(colors)]\n",
        "      image_pil = Image.fromarray(\n",
        "          np.uint8(image)).convert('RGB')\n",
        "      draw_bounding_box_on_image(\n",
        "          image_pil, ymin, xmin, ymax, xmax,\n",
        "          color, font, display_str_list=[display_str])\n",
        "      np.copyto(image, np.array(image_pil))\n",
        "  return image"
      ],
      "execution_count": null,
      "outputs": []
    },
    {
      "cell_type": "markdown",
      "metadata": {
        "id": "KAJ6T8rwlG_r"
      },
      "source": [
        "# Load a Module"
      ]
    },
    {
      "cell_type": "markdown",
      "metadata": {
        "id": "UsDHqwFGume8"
      },
      "source": [
        "Load an object detection module and apply on the downloaded image:"
      ]
    },
    {
      "cell_type": "code",
      "metadata": {
        "id": "eRzfuloFch98"
      },
      "source": [
        "p1 = 'https://tfhub.dev/google/faster_rcnn/'\n",
        "p2 = 'openimages_v4/inception_resnet_v2/1'\n",
        "URL = p1 + p2\n",
        "module_handle = URL\n",
        "obj_detect = hub.load(module_handle).signatures['default']"
      ],
      "execution_count": null,
      "outputs": []
    },
    {
      "cell_type": "markdown",
      "metadata": {
        "id": "ecLagjrvoDwf"
      },
      "source": [
        "# Load an Image from Google Drive"
      ]
    },
    {
      "cell_type": "markdown",
      "metadata": {
        "id": "40HKDybrap1O"
      },
      "source": [
        "Mount Google Drive to Colab:"
      ]
    },
    {
      "cell_type": "code",
      "metadata": {
        "id": "WjJU3p7ZWWA9"
      },
      "source": [
        "from google.colab import drive\n",
        "drive.mount('/content/gdrive')"
      ],
      "execution_count": null,
      "outputs": []
    },
    {
      "cell_type": "markdown",
      "metadata": {
        "id": "xzORL-s8hfuB"
      },
      "source": [
        "Be sure that the image is in the *appropriate directory* in **your** Google Drive!"
      ]
    },
    {
      "cell_type": "markdown",
      "metadata": {
        "id": "DCJtHQI8av6u"
      },
      "source": [
        "Access and display the image:"
      ]
    },
    {
      "cell_type": "code",
      "metadata": {
        "id": "hopHBZv5WWF0"
      },
      "source": [
        "img_path = 'gdrive/My Drive/Colab Notebooks/images/cats_dogs.jpg'\n",
        "pil_image = Image.open(img_path)\n",
        "display_image(pil_image)"
      ],
      "execution_count": null,
      "outputs": []
    },
    {
      "cell_type": "markdown",
      "metadata": {
        "id": "srFfloYEmQyf"
      },
      "source": [
        "Convert the JPEG image to a PIL image and display it. The Python Imaging Library (PIL) is a library that supports opening, manipulating, and saving many different image file formats. It is also known as the Pillow library."
      ]
    },
    {
      "cell_type": "markdown",
      "metadata": {
        "id": "XjDrsbPcf5rb"
      },
      "source": [
        "Check image size:"
      ]
    },
    {
      "cell_type": "code",
      "metadata": {
        "id": "iLAeneBzf5xW"
      },
      "source": [
        "pil_image.size"
      ],
      "execution_count": null,
      "outputs": []
    },
    {
      "cell_type": "markdown",
      "metadata": {
        "id": "EbguQJnPa4X_"
      },
      "source": [
        "# Prepare the Image"
      ]
    },
    {
      "cell_type": "markdown",
      "metadata": {
        "id": "P6aUN33EbA8X"
      },
      "source": [
        "Generate a temporary path for the image file:"
      ]
    },
    {
      "cell_type": "code",
      "metadata": {
        "id": "3XRWXtATVZ5w"
      },
      "source": [
        "_, filename = tempfile.mkstemp(suffix='.jpg')\n",
        "filename"
      ],
      "execution_count": null,
      "outputs": []
    },
    {
      "cell_type": "markdown",
      "metadata": {
        "id": "p3Cm2VY1bQqO"
      },
      "source": [
        "Prepare the image for processing and save it to the temporary file path:"
      ]
    },
    {
      "cell_type": "code",
      "metadata": {
        "id": "bMGTrcS3VeAn"
      },
      "source": [
        "pil_image_rgb = pil_image.convert('RGB')\n",
        "pil_image_rgb.save(filename, format='JPEG', quality=90)\n",
        "print('Image downloaded to %s.' % filename)\n",
        "display_image(pil_image)"
      ],
      "execution_count": null,
      "outputs": []
    },
    {
      "cell_type": "markdown",
      "metadata": {
        "id": "HerwlpasbpGw"
      },
      "source": [
        "# Run Object Detection on the Image"
      ]
    },
    {
      "cell_type": "markdown",
      "metadata": {
        "id": "tIBbI_FTbvNA"
      },
      "source": [
        "Create a function to load the image:"
      ]
    },
    {
      "cell_type": "code",
      "metadata": {
        "id": "z0GKiXdHXm8l"
      },
      "source": [
        "def load_img(path):\n",
        "  img = tf.io.read_file(path)\n",
        "  img = tf.image.decode_jpeg(img, channels=3)\n",
        "  return img"
      ],
      "execution_count": null,
      "outputs": []
    },
    {
      "cell_type": "markdown",
      "metadata": {
        "id": "aGoscR93kXO6"
      },
      "source": [
        " The function loads the image and prepares it for the pretrained model."
      ]
    },
    {
      "cell_type": "markdown",
      "metadata": {
        "id": "HVoX8yK3b1WG"
      },
      "source": [
        "Create a function to run object detection:"
      ]
    },
    {
      "cell_type": "code",
      "metadata": {
        "id": "ITZL7Hm4Xs9N"
      },
      "source": [
        "def run_detector(detector, path):\n",
        "  img = load_img(path)\n",
        "  converted_img  = tf.image.convert_image_dtype(\n",
        "      img, tf.float32)[tf.newaxis, ...]\n",
        "  result = detector(converted_img)\n",
        "  result = {key:value.numpy()\n",
        "            for key,value in result.items()}\n",
        "  print(\"Found %d objects.\" %\\\n",
        "        len(result[\"detection_scores\"]))\n",
        "  image_with_boxes = draw_boxes(\n",
        "      img.numpy(), result[\"detection_boxes\"],\n",
        "      result[\"detection_class_entities\"],\n",
        "      result[\"detection_scores\"])\n",
        "  display_image(image_with_boxes)"
      ],
      "execution_count": null,
      "outputs": []
    },
    {
      "cell_type": "markdown",
      "metadata": {
        "id": "_5IvmbkFcDwP"
      },
      "source": [
        "Invoke the detector:"
      ]
    },
    {
      "cell_type": "code",
      "metadata": {
        "id": "BO-5-gvPVeC2"
      },
      "source": [
        "run_detector(obj_detect, filename)"
      ],
      "execution_count": null,
      "outputs": []
    },
    {
      "cell_type": "markdown",
      "metadata": {
        "id": "NNODcAcxqM4a"
      },
      "source": [
        "The detector did really well with this image!"
      ]
    },
    {
      "cell_type": "markdown",
      "metadata": {
        "id": "ay-rQAFT3gyf"
      },
      "source": [
        "Let's try another one:"
      ]
    },
    {
      "cell_type": "code",
      "metadata": {
        "id": "kYsnzP9_3g5h"
      },
      "source": [
        "img_path = 'gdrive/My Drive/Colab Notebooks/images/butterfly.jpg'\n",
        "pil_image = Image.open(img_path)\n",
        "display_image(pil_image)"
      ],
      "execution_count": null,
      "outputs": []
    },
    {
      "cell_type": "markdown",
      "metadata": {
        "id": "qYJH5Aht3x_g"
      },
      "source": [
        "Process:"
      ]
    },
    {
      "cell_type": "code",
      "metadata": {
        "id": "sVNrKuPQ3yHG"
      },
      "source": [
        "_, filename = tempfile.mkstemp(suffix='.jpg')\n",
        "pil_image_rgb = pil_image.convert('RGB')\n",
        "pil_image_rgb.save(filename, format='JPEG', quality=90)\n",
        "print('Image downloaded to %s.' % filename)"
      ],
      "execution_count": null,
      "outputs": []
    },
    {
      "cell_type": "markdown",
      "metadata": {
        "id": "0wmfNIy03t46"
      },
      "source": [
        "Run detector:"
      ]
    },
    {
      "cell_type": "code",
      "metadata": {
        "id": "7XSDT4-U3uB3"
      },
      "source": [
        "run_detector(obj_detect, filename)"
      ],
      "execution_count": null,
      "outputs": []
    },
    {
      "cell_type": "markdown",
      "metadata": {
        "id": "1LUdwtCtk2oI"
      },
      "source": [
        "# Download Images from Wikimedia Commons\n",
        "\n",
        "We have **already located images** from Wikimedia Commons!"
      ]
    },
    {
      "cell_type": "markdown",
      "metadata": {
        "id": "P5OIRTMT5kNn"
      },
      "source": [
        "## Get Your Own Images\n",
        "\n",
        "However, you can locate your own images from Wikimedia Commons by following a few simple steps:\n",
        "\n",
        "1. go to the following URL: https://commons.wikimedia.org/wiki/Main_Page\n",
        "2. click **Images**\n",
        "3. click on an image\n",
        "4. right click the image\n",
        "5. select 'Copy link address' from the drop-down menu\n",
        "6. paste the link address into a code cell\n",
        "7. surround the link address with single or double quotes\n",
        "8. assign to a variable "
      ]
    },
    {
      "cell_type": "markdown",
      "metadata": {
        "id": "cu67rIHhaaFX"
      },
      "source": [
        "## Create a Function to Download an Image"
      ]
    },
    {
      "cell_type": "markdown",
      "metadata": {
        "id": "ajBJgW9GlBCR"
      },
      "source": [
        "Create a function to download, process, and save an image to a temporary file path:"
      ]
    },
    {
      "cell_type": "code",
      "metadata": {
        "id": "1mpV9YdWRlV4"
      },
      "source": [
        "def download_and_resize_image(\n",
        "    url, new_width=256, new_height=256,\n",
        "    display=False):\n",
        "  _, filename = tempfile.mkstemp(suffix='.jpg')\n",
        "  response = urlopen(url)\n",
        "  image_data = response.read()\n",
        "  image_data = BytesIO(image_data)\n",
        "  pil_image = Image.open(image_data)\n",
        "  pil_image = ImageOps.fit(\n",
        "      pil_image, (new_width, new_height),\n",
        "      Image.ANTIALIAS)\n",
        "  pil_image_rgb = pil_image.convert('RGB')\n",
        "  pil_image_rgb.save(\n",
        "      filename, format='JPEG', quality=90)\n",
        "  print('Image downloaded to %s.' % filename)\n",
        "  if display:\n",
        "    display_image(pil_image)\n",
        "  return filename"
      ],
      "execution_count": null,
      "outputs": []
    },
    {
      "cell_type": "markdown",
      "metadata": {
        "id": "Z1bTQoHOlWz7"
      },
      "source": [
        "The function generates a temporary path for the image file. It then reads the image file from the supplied URL. The function continues by converting the image file to a PIL image. The PIL image is then resized, converted to RGB, and saved to the temporary file path."
      ]
    },
    {
      "cell_type": "markdown",
      "metadata": {
        "id": "t2_x4X-_6TGn"
      },
      "source": [
        "## Load an Image from a URL"
      ]
    },
    {
      "cell_type": "markdown",
      "metadata": {
        "id": "jpN8_TVilHIB"
      },
      "source": [
        "Load an image from a Wikimedia Commons URL:"
      ]
    },
    {
      "cell_type": "code",
      "metadata": {
        "id": "CoRu59zqQ-39"
      },
      "source": [
        "p1 = 'https://upload.wikimedia.org/wikipedia/commons/7/79/'\n",
        "p2 = 'At_taverna_under_the_church%2C_Ano_Potamia%2C_Naxos%'\n",
        "p3 = '2C_190574.jpg'\n",
        "URL = p1 + p2 + p3\n",
        "\n",
        "downloaded_image_path = download_and_resize_image(\n",
        "    URL, 1280, 856, True)"
      ],
      "execution_count": null,
      "outputs": []
    },
    {
      "cell_type": "markdown",
      "metadata": {
        "id": "PJ4le3Kv5I4Q"
      },
      "source": [
        "The source for the image is located at:\n",
        "\n",
        "https://commons.wikimedia.org/wiki/File:At_taverna_under_the_church,_Ano_Potamia,_Naxos,_190574.jpg"
      ]
    },
    {
      "cell_type": "markdown",
      "metadata": {
        "id": "7flJ9_Lf5arh"
      },
      "source": [
        "# Run Object Detection"
      ]
    },
    {
      "cell_type": "markdown",
      "metadata": {
        "id": "eNyNz8l76nSv"
      },
      "source": [
        "Run object detection with the function we created earlier in this notebook:"
      ]
    },
    {
      "cell_type": "code",
      "metadata": {
        "id": "OjC_YBCNQY6x"
      },
      "source": [
        "run_detector(obj_detect, downloaded_image_path)"
      ],
      "execution_count": null,
      "outputs": []
    },
    {
      "cell_type": "markdown",
      "metadata": {
        "id": "d3psLQ1cqfeD"
      },
      "source": [
        "Pretty good. But, not perfect."
      ]
    },
    {
      "cell_type": "markdown",
      "metadata": {
        "id": "O0YdtejOqpQV"
      },
      "source": [
        "Let's try some more images. Piece together some paths:"
      ]
    },
    {
      "cell_type": "code",
      "metadata": {
        "id": "cHoDWnFYSu5B"
      },
      "source": [
        "p1 = 'https://upload.wikimedia.org/wikipedia/commons/4/45/'\n",
        "p2 = 'Green_Dragon_Tavern_%2836196%29.jpg'\n",
        "tavern = p1 + p2\n",
        "\n",
        "p1 = 'https://upload.wikimedia.org/wikipedia/commons/3/31/'\n",
        "p2 = 'Circus_Circus_Hotel-Casino_sign.jpg'\n",
        "casino = p1 + p2\n",
        "\n",
        "p1 = 'https://upload.wikimedia.org/wikipedia/commons/9/91/'\n",
        "p2 = 'Leon_hot_air_balloon_festival_2010.jpg'\n",
        "balloon = p1 + p2\n",
        "\n",
        "p1 = 'https://upload.wikimedia.org/wikipedia/commons/d/d8/'\n",
        "p2 = '2012_Festival_of_Sail_-_7943922284.jpg'\n",
        "sail = p1 + p2\n",
        "\n",
        "p1 = 'https://upload.wikimedia.org/wikipedia/commons/a/ab/'\n",
        "p2 = '17_mai_2018.jpg'\n",
        "flag = p1 + p2\n",
        "\n",
        "p1 = 'https://upload.wikimedia.org/wikipedia/commons/4/43/'\n",
        "p2 = 'Fruit_baskets.jpg'\n",
        "basket= p1 + p2\n",
        "\n",
        "p1 = 'https://upload.wikimedia.org/wikipedia/commons/c/c7/'\n",
        "p2 = 'Fruit_stands%2C_Rue_de_Seine%2C_Paris_22_May_2014.jpg'\n",
        "stand= p1 + p2\n",
        "\n",
        "p1 = 'https://upload.wikimedia.org/wikipedia/commons/9/95/'\n",
        "p2 = 'Wine_tasting_%40_brown_brothers.jpg'\n",
        "wine = p1 + p2"
      ],
      "execution_count": null,
      "outputs": []
    },
    {
      "cell_type": "markdown",
      "metadata": {
        "id": "6zm_g-zDVYH8"
      },
      "source": [
        "Create a function to detect images:"
      ]
    },
    {
      "cell_type": "code",
      "metadata": {
        "id": "WiVSKq0wqwZa"
      },
      "source": [
        "def detect_img(image_url):\n",
        "  image_path = download_and_resize_image(image_url, 640, 480)\n",
        "  run_detector(obj_detect, image_path)"
      ],
      "execution_count": null,
      "outputs": []
    },
    {
      "cell_type": "markdown",
      "metadata": {
        "id": "SH9NQ6rKWgmQ"
      },
      "source": [
        "Run object detection on one of the images:"
      ]
    },
    {
      "cell_type": "code",
      "metadata": {
        "id": "dKcbX8XDVAIl"
      },
      "source": [
        "detect_img(wine)"
      ],
      "execution_count": null,
      "outputs": []
    },
    {
      "cell_type": "markdown",
      "metadata": {
        "id": "wtpHJW2HrHn8"
      },
      "source": [
        "Try another one:"
      ]
    },
    {
      "cell_type": "code",
      "metadata": {
        "id": "VDgw71-iaWo2"
      },
      "source": [
        "detect_img(sail)"
      ],
      "execution_count": null,
      "outputs": []
    },
    {
      "cell_type": "markdown",
      "metadata": {
        "id": "PSxuN78P7KRo"
      },
      "source": [
        "Try some of the other scenes."
      ]
    },
    {
      "cell_type": "markdown",
      "metadata": {
        "id": "cz1Xs_t-r3j1"
      },
      "source": [
        "# Find the Source\n",
        "\n",
        "We can translate the JPEG link to find the source:\n",
        "\n",
        "1. substitute **commons** for *upload*\n",
        "2. change *wikipedia* to **wiki**\n",
        "3. substitute *commons/(number)/(number)* for **File:**\n",
        "4. translate the *%(number)* to **HTML encoded equivalent**\n",
        "\n",
        "Find the encoded equivalent:\n",
        "\n",
        "https://krypted.com/utilities/html-encoding-reference/"
      ]
    },
    {
      "cell_type": "markdown",
      "metadata": {
        "id": "k-2mAQrj2XHU"
      },
      "source": [
        "## The First One\n",
        "\n",
        "Let's try the tavern image:\n",
        "\n",
        "https://upload.wikimedia.org/wikipedia/commons/4/45/Green_Dragon_Tavern_%2836196%29.jpg"
      ]
    },
    {
      "cell_type": "markdown",
      "metadata": {
        "id": "U0VX_l6MxF6V"
      },
      "source": [
        "Substitute **commons**:\n",
        "\n",
        "https://commons.wikimedia.org/wikipedia/commons/4/45/Green_Dragon_Tavern_%2836196%29.jpg"
      ]
    },
    {
      "cell_type": "markdown",
      "metadata": {
        "id": "-qblYaQjxbTv"
      },
      "source": [
        "Change to **wiki**:\n",
        "\n",
        "https://commons.wikimedia.org/wiki/commons/4/45/Green_Dragon_Tavern_%2836196%29.jpg"
      ]
    },
    {
      "cell_type": "markdown",
      "metadata": {
        "id": "X5gXZPaIxkF4"
      },
      "source": [
        "Change to **File:**\n",
        "\n",
        "https://commons.wikimedia.org/wiki/File:Green_Dragon_Tavern_%2836196%29.jpg"
      ]
    },
    {
      "cell_type": "markdown",
      "metadata": {
        "id": "RtMaoWLJxxMo"
      },
      "source": [
        "Translate:\n",
        "\n",
        "https://commons.wikimedia.org/wiki/File:Green_Dragon_Tavern_(36196).jpg\n",
        "\n",
        "From the HTML Encoding Reference, **%28:(** and **%29:)**."
      ]
    },
    {
      "cell_type": "markdown",
      "metadata": {
        "id": "K5X1DWYV1_7t"
      },
      "source": [
        "Here is the resource for the image:"
      ]
    },
    {
      "cell_type": "code",
      "metadata": {
        "id": "04sgzu3TYAJ-"
      },
      "source": [
        "# https://commons.wikimedia.org/wiki/File:Green_Dragon_Tavern_(36196).jpg"
      ],
      "execution_count": null,
      "outputs": []
    },
    {
      "cell_type": "markdown",
      "metadata": {
        "id": "i-ZaSmf3yFAR"
      },
      "source": [
        "Just copy (sans the hash symbol) and paste into your favorite browser to find the resource for the image! Sometimes the URL doesn't translate correctly in a text cell. So we placed it in a code cell and commented it out."
      ]
    },
    {
      "cell_type": "markdown",
      "metadata": {
        "id": "KdUiZXRJz5xD"
      },
      "source": [
        "## The Second One\n",
        "\n",
        "Let's try the next one."
      ]
    },
    {
      "cell_type": "markdown",
      "metadata": {
        "id": "VMlvSWek2Ov0"
      },
      "source": [
        "Result:"
      ]
    },
    {
      "cell_type": "code",
      "metadata": {
        "id": "7e9MG7Rn2JZ8"
      },
      "source": [
        "# https://commons.wikimedia.org/wiki/File:Circus_Circus_Hotel-Casino_sign.jpg"
      ],
      "execution_count": null,
      "outputs": []
    },
    {
      "cell_type": "markdown",
      "metadata": {
        "id": "XVCwtiIU0F00"
      },
      "source": [
        "This one was easy because we didn't need to translate."
      ]
    },
    {
      "cell_type": "markdown",
      "metadata": {
        "id": "cJ-bw6qg2pAn"
      },
      "source": [
        "## The Rest\n",
        "\n",
        "Results:"
      ]
    },
    {
      "cell_type": "code",
      "metadata": {
        "id": "PyjoS4sO2rvN"
      },
      "source": [
        "'''\n",
        "https://commons.wikimedia.org/wiki/File:Leon_hot_air_balloon_festival_2010.jpg\n",
        "https://commons.wikimedia.org/wiki/File:2012_Festival_of_Sail_-_7943922284.jpg\n",
        "https://commons.wikimedia.org/wiki/File:17_mai_2018.jpg\n",
        "https://commons.wikimedia.org/wiki/File:Fruit_baskets.jpg\n",
        "https://commons.wikimedia.org/wiki/File:Fruit_stands,_Rue_de_Seine,_Paris_22_May_2014.jpg\n",
        "https://commons.wikimedia.org/wiki/File:Wine_tasting_@_brown_brothers.jpg\n",
        "'''"
      ],
      "execution_count": null,
      "outputs": []
    },
    {
      "cell_type": "markdown",
      "metadata": {
        "id": "U0m6TX8uZCSb"
      },
      "source": [
        "Just copy and paste to a browser."
      ]
    }
  ]
}