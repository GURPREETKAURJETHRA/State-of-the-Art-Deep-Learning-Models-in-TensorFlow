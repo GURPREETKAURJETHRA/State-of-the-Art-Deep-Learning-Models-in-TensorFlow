{
  "nbformat": 4,
  "nbformat_minor": 0,
  "metadata": {
    "accelerator": "GPU",
    "colab": {
      "name": "ch14.ipynb",
      "provenance": [],
      "collapsed_sections": []
    },
    "kernelspec": {
      "display_name": "Python 3",
      "name": "python3"
    }
  },
  "cells": [
    {
      "cell_type": "markdown",
      "metadata": {
        "id": "E0DIZQALOE23"
      },
      "source": [
        "# Reinforcement Learning\n",
        "\n",
        "Reinforcement learning is training machine learning models to make a sequence of decisions. A software **agent** makes **observations** and takes actions within an **environment** to receive rewards. Its objective is to learn to act in a way that maximizes its expected rewards over time.  \n",
        "\n",
        "The model employs trial and error to come up with a solution to the problem. It gets either rewards or penalties for the actions it performs with the goal to maximize the total reward. Although the designer sets the reward policy (the rules of the game), he/she gives the model no hints or suggestions for how to solve the game. The model must figure out how to perform the task to maximize the reward."
      ]
    },
    {
      "cell_type": "markdown",
      "metadata": {
        "id": "l7TtAR5kxYoy"
      },
      "source": [
        "# Policy Search\n",
        "\n",
        "A **policy** is the algorithm a software agent uses to determine its actions. The **policy space** is a mapping from perceived states of the environment to actions to be taken when in those states."
      ]
    },
    {
      "cell_type": "markdown",
      "metadata": {
        "id": "KyHEcXv30Bhf"
      },
      "source": [
        "# OpenAI Gym\n",
        "\n",
        "We need a working environment to train an agent. *OpenAI Gym* is a toolkit that provides a wide variety of simulated environments including Atari games, board games, 2D and 3d physical simulations, and so on.\n",
        "\n",
        "Resources:\n",
        "\n",
        "https://colab.research.google.com/drive/18LdlDDT87eb8cCTHZsXyS9ksQPzL3i6H\n",
        "\n",
        "https://colab.research.google.com/drive/1flu31ulJlgiRL1dnN2ir8wGh9p7Zij2t\n",
        "\n",
        "https://stackoverflow.com/questions/50107530/how-to-render-openai-gym-in-google-colab"
      ]
    },
    {
      "cell_type": "markdown",
      "metadata": {
        "id": "kKvaJr-1ycnw"
      },
      "source": [
        "# Install and Configure OpenAI Gym on Colab"
      ]
    },
    {
      "cell_type": "markdown",
      "metadata": {
        "id": "7idcsVDny7vw"
      },
      "source": [
        "Most of the requirements of python packages are already fulfilled on CoLab. To run Gym, install prerequisites:"
      ]
    },
    {
      "cell_type": "code",
      "metadata": {
        "colab": {
          "base_uri": "https://localhost:8080/"
        },
        "id": "POuTao38ycwe",
        "outputId": "a35d51dd-3fc1-4449-b2de-0c32959da32d"
      },
      "source": [
        "!pip install gym\n",
        "!apt-get install python-opengl -y\n",
        "!apt install xvfb -y"
      ],
      "execution_count": 1,
      "outputs": [
        {
          "output_type": "stream",
          "text": [
            "Requirement already satisfied: gym in /usr/local/lib/python3.7/dist-packages (0.17.3)\n",
            "Requirement already satisfied: cloudpickle<1.7.0,>=1.2.0 in /usr/local/lib/python3.7/dist-packages (from gym) (1.3.0)\n",
            "Requirement already satisfied: pyglet<=1.5.0,>=1.4.0 in /usr/local/lib/python3.7/dist-packages (from gym) (1.5.0)\n",
            "Requirement already satisfied: numpy>=1.10.4 in /usr/local/lib/python3.7/dist-packages (from gym) (1.19.5)\n",
            "Requirement already satisfied: scipy in /usr/local/lib/python3.7/dist-packages (from gym) (1.4.1)\n",
            "Requirement already satisfied: future in /usr/local/lib/python3.7/dist-packages (from pyglet<=1.5.0,>=1.4.0->gym) (0.16.0)\n",
            "Reading package lists... Done\n",
            "Building dependency tree       \n",
            "Reading state information... Done\n",
            "Suggested packages:\n",
            "  libgle3\n",
            "The following NEW packages will be installed:\n",
            "  python-opengl\n",
            "0 upgraded, 1 newly installed, 0 to remove and 39 not upgraded.\n",
            "Need to get 496 kB of archives.\n",
            "After this operation, 5,416 kB of additional disk space will be used.\n",
            "Get:1 http://archive.ubuntu.com/ubuntu bionic/universe amd64 python-opengl all 3.1.0+dfsg-1 [496 kB]\n",
            "Fetched 496 kB in 2s (289 kB/s)\n",
            "Selecting previously unselected package python-opengl.\n",
            "(Reading database ... 160772 files and directories currently installed.)\n",
            "Preparing to unpack .../python-opengl_3.1.0+dfsg-1_all.deb ...\n",
            "Unpacking python-opengl (3.1.0+dfsg-1) ...\n",
            "Setting up python-opengl (3.1.0+dfsg-1) ...\n",
            "Reading package lists... Done\n",
            "Building dependency tree       \n",
            "Reading state information... Done\n",
            "The following NEW packages will be installed:\n",
            "  xvfb\n",
            "0 upgraded, 1 newly installed, 0 to remove and 39 not upgraded.\n",
            "Need to get 784 kB of archives.\n",
            "After this operation, 2,270 kB of additional disk space will be used.\n",
            "Get:1 http://archive.ubuntu.com/ubuntu bionic-updates/universe amd64 xvfb amd64 2:1.19.6-1ubuntu4.9 [784 kB]\n",
            "Fetched 784 kB in 2s (366 kB/s)\n",
            "Selecting previously unselected package xvfb.\n",
            "(Reading database ... 163127 files and directories currently installed.)\n",
            "Preparing to unpack .../xvfb_2%3a1.19.6-1ubuntu4.9_amd64.deb ...\n",
            "Unpacking xvfb (2:1.19.6-1ubuntu4.9) ...\n",
            "Setting up xvfb (2:1.19.6-1ubuntu4.9) ...\n",
            "Processing triggers for man-db (2.8.3-2ubuntu0.1) ...\n"
          ],
          "name": "stdout"
        }
      ]
    },
    {
      "cell_type": "markdown",
      "metadata": {
        "id": "qeq9tJI6zWPQ"
      },
      "source": [
        "For the rendering environment, use pyvirtualdisplay:"
      ]
    },
    {
      "cell_type": "code",
      "metadata": {
        "colab": {
          "base_uri": "https://localhost:8080/"
        },
        "id": "Lm_X9tCMzWxG",
        "outputId": "93b0e6f0-6c85-4567-e0f7-c5cab02999fd"
      },
      "source": [
        "!pip install pyvirtualdisplay\n",
        "!pip install piglet"
      ],
      "execution_count": 2,
      "outputs": [
        {
          "output_type": "stream",
          "text": [
            "Collecting pyvirtualdisplay\n",
            "  Downloading https://files.pythonhosted.org/packages/79/30/e99e0c480a858410757e7516958e149285ea08ed6c9cfe201ed0aa12cee2/PyVirtualDisplay-2.2-py3-none-any.whl\n",
            "Collecting EasyProcess\n",
            "  Downloading https://files.pythonhosted.org/packages/48/3c/75573613641c90c6d094059ac28adb748560d99bd27ee6f80cce398f404e/EasyProcess-0.3-py2.py3-none-any.whl\n",
            "Installing collected packages: EasyProcess, pyvirtualdisplay\n",
            "Successfully installed EasyProcess-0.3 pyvirtualdisplay-2.2\n",
            "Collecting piglet\n",
            "  Downloading https://files.pythonhosted.org/packages/11/56/6840e5f45626dc7eb7cd5dff57d11880b3113723b3b7b1fb1fa537855b75/piglet-1.0.0-py2.py3-none-any.whl\n",
            "Collecting piglet-templates\n",
            "\u001b[?25l  Downloading https://files.pythonhosted.org/packages/f1/cc/bad8acca362189a05a58523f376d24a0a2578a0e386e34e969310ced3100/piglet_templates-1.2.0-py3-none-any.whl (67kB)\n",
            "\u001b[K     |████████████████████████████████| 71kB 3.8MB/s \n",
            "\u001b[?25hRequirement already satisfied: attrs in /usr/local/lib/python3.7/dist-packages (from piglet-templates->piglet) (21.2.0)\n",
            "Requirement already satisfied: markupsafe in /usr/local/lib/python3.7/dist-packages (from piglet-templates->piglet) (2.0.1)\n",
            "Requirement already satisfied: pyparsing in /usr/local/lib/python3.7/dist-packages (from piglet-templates->piglet) (2.4.7)\n",
            "Requirement already satisfied: astunparse in /usr/local/lib/python3.7/dist-packages (from piglet-templates->piglet) (1.6.3)\n",
            "Requirement already satisfied: wheel<1.0,>=0.23.0 in /usr/local/lib/python3.7/dist-packages (from astunparse->piglet-templates->piglet) (0.36.2)\n",
            "Requirement already satisfied: six<2.0,>=1.6.1 in /usr/local/lib/python3.7/dist-packages (from astunparse->piglet-templates->piglet) (1.15.0)\n",
            "Installing collected packages: piglet-templates, piglet\n",
            "Successfully installed piglet-1.0.0 piglet-templates-1.2.0\n"
          ],
          "name": "stdout"
        }
      ]
    },
    {
      "cell_type": "markdown",
      "metadata": {
        "id": "ioHCOdEcTX1X"
      },
      "source": [
        "# Import **tensorflow** library"
      ]
    },
    {
      "cell_type": "markdown",
      "metadata": {
        "id": "VpygsU5NTY4O"
      },
      "source": [
        "Import library and alias it:"
      ]
    },
    {
      "cell_type": "code",
      "metadata": {
        "id": "prmzt6Q0TdMM"
      },
      "source": [
        "import tensorflow as tf"
      ],
      "execution_count": 3,
      "outputs": []
    },
    {
      "cell_type": "markdown",
      "metadata": {
        "id": "z1PaVreZTcPm"
      },
      "source": [
        "# GPU Hardware Accelerator\n",
        "\n",
        "To vastly speed up processing, we can use the GPU available from the Google Colab cloud service. Colab provides a free Tesla K80 GPU of about 12 GB. It’s very easy to enable the GPU in a Colab notebook:\n",
        "\n",
        "1.\tclick **Runtime** in the top left menu\n",
        "2.\tclick **Change runtime** type from the drop-down menu\n",
        "3.\tchoose **GPU** from the Hardware accelerator drop-down menu\n",
        "4.\tclick **SAVE**"
      ]
    },
    {
      "cell_type": "markdown",
      "metadata": {
        "id": "nu9mIFhNTgeW"
      },
      "source": [
        "Verify that GPU is available:"
      ]
    },
    {
      "cell_type": "code",
      "metadata": {
        "colab": {
          "base_uri": "https://localhost:8080/"
        },
        "id": "P-LVWYafThG_",
        "outputId": "2966a6e8-14cb-424a-b5c2-5b8382796925"
      },
      "source": [
        "tf.__version__, tf.test.gpu_device_name()"
      ],
      "execution_count": 4,
      "outputs": [
        {
          "output_type": "execute_result",
          "data": {
            "text/plain": [
              "('2.5.0', '/device:GPU:0')"
            ]
          },
          "metadata": {
            "tags": []
          },
          "execution_count": 4
        }
      ]
    },
    {
      "cell_type": "markdown",
      "metadata": {
        "id": "GcllIuuxVKfX"
      },
      "source": [
        "# Import Requisite Libraries"
      ]
    },
    {
      "cell_type": "markdown",
      "metadata": {
        "id": "n5eRwZX4VN8e"
      },
      "source": [
        "To activate the virtual display:"
      ]
    },
    {
      "cell_type": "code",
      "metadata": {
        "id": "64LS09veVKkf"
      },
      "source": [
        "import pyvirtualdisplay\n",
        "\n",
        "display = pyvirtualdisplay.Display(\n",
        "    visible=0, size=(1400, 900)).start()"
      ],
      "execution_count": 5,
      "outputs": []
    },
    {
      "cell_type": "markdown",
      "metadata": {
        "id": "7ZPIX52b01YV"
      },
      "source": [
        "Import the **gym** library:"
      ]
    },
    {
      "cell_type": "code",
      "metadata": {
        "id": "ITRgIvjo01ok"
      },
      "source": [
        "import gym"
      ],
      "execution_count": 6,
      "outputs": []
    },
    {
      "cell_type": "markdown",
      "metadata": {
        "id": "jXmVNSq125tR"
      },
      "source": [
        "# Create an Environment"
      ]
    },
    {
      "cell_type": "markdown",
      "metadata": {
        "id": "fPvqGtus1ftj"
      },
      "source": [
        "Create a **CartPole** environment:"
      ]
    },
    {
      "cell_type": "code",
      "metadata": {
        "id": "JBw199AS1mse"
      },
      "source": [
        "env = gym.make('CartPole-v1')"
      ],
      "execution_count": 7,
      "outputs": []
    },
    {
      "cell_type": "markdown",
      "metadata": {
        "id": "W51giejf2Hd6"
      },
      "source": [
        "The *CartPole* environment is a 2D simulation that accelerates a cart left or right to balance a pole placed on top of it. A pole is attached by an un-actuated joint to a cart, which moves along a frictionless track. The system is controlled by applying a force of +1 or -1 to the cart. The pendulum starts upright and the goal is to prevent it from falling over."
      ]
    },
    {
      "cell_type": "markdown",
      "metadata": {
        "id": "7USxVMBS1qBU"
      },
      "source": [
        "Initialize the environment by calling is reset() method, which returns an observation:"
      ]
    },
    {
      "cell_type": "code",
      "metadata": {
        "colab": {
          "base_uri": "https://localhost:8080/"
        },
        "id": "NmamatDR1qNV",
        "outputId": "75b2b63e-ca31-45c3-994d-2a75af0ff3ca"
      },
      "source": [
        "env.seed(0)\n",
        "obs = env.reset()\n",
        "obs"
      ],
      "execution_count": 8,
      "outputs": [
        {
          "output_type": "execute_result",
          "data": {
            "text/plain": [
              "array([-0.04456399,  0.04653909,  0.01326909, -0.02099827])"
            ]
          },
          "metadata": {
            "tags": []
          },
          "execution_count": 8
        }
      ]
    },
    {
      "cell_type": "markdown",
      "metadata": {
        "id": "f__W2QpG18E6"
      },
      "source": [
        "Observations vary depending on the environment. In this case, it is a 1D numpy array composed of 4 floats that represent the cart's horizontal position, velocity, angle of the pole (0 = vertical), and angular velocity. Any positive number indicates movement to the **right** for angle of the pole and angular velocity. Any negative number indicates movement to the **left**. For horizontal position, a negative number means that it is tilting left and a positive number to the right. For velocity, a positive number means the cart is speeding up and a negative number slowing down.\n",
        "\n",
        "So the pole is not completely horizontal (obs[0] is slightly negative), its velocity is slowly increasing (obs[1] is slightly positive), the pole is angled slightly to the right (obs[2] is slightly positive), and the angular velocity is going toward the left (obs[3] is slightly negative)."
      ]
    },
    {
      "cell_type": "markdown",
      "metadata": {
        "id": "rlZ8s-jA2xVR"
      },
      "source": [
        "An environment can be visualized by calling its render() method, and you can pick the rendering mode (the rendering options depend on the environment)."
      ]
    },
    {
      "cell_type": "code",
      "metadata": {
        "id": "gfSSdjOs2xn5",
        "colab": {
          "base_uri": "https://localhost:8080/"
        },
        "outputId": "0e58f9af-9de9-4d67-d24f-0c04047c4afc"
      },
      "source": [
        "env.render()"
      ],
      "execution_count": 9,
      "outputs": [
        {
          "output_type": "execute_result",
          "data": {
            "text/plain": [
              "True"
            ]
          },
          "metadata": {
            "tags": []
          },
          "execution_count": 9
        }
      ]
    },
    {
      "cell_type": "markdown",
      "metadata": {
        "id": "1_hK5kSb37LJ"
      },
      "source": [
        "# Display the Environment"
      ]
    },
    {
      "cell_type": "markdown",
      "metadata": {
        "id": "ShgoLJx03I57"
      },
      "source": [
        "Set mode='rgb_array' to get an image of the environment as a NumPy array:"
      ]
    },
    {
      "cell_type": "code",
      "metadata": {
        "id": "BBklNNna2xqH",
        "colab": {
          "base_uri": "https://localhost:8080/"
        },
        "outputId": "074c7621-af6e-467b-fed7-afa6e5b2149e"
      },
      "source": [
        "img = env.render(mode='rgb_array')\n",
        "img.shape"
      ],
      "execution_count": 10,
      "outputs": [
        {
          "output_type": "execute_result",
          "data": {
            "text/plain": [
              "(400, 600, 3)"
            ]
          },
          "metadata": {
            "tags": []
          },
          "execution_count": 10
        }
      ]
    },
    {
      "cell_type": "markdown",
      "metadata": {
        "id": "cBPWSJGt3Tv-"
      },
      "source": [
        "Create a function to display the environment as configured:"
      ]
    },
    {
      "cell_type": "code",
      "metadata": {
        "id": "04F-SfvO2weY"
      },
      "source": [
        "def plot_environment(env, figsize=(5,4)):\n",
        "  plt.figure(figsize=figsize)\n",
        "  img = env.render(mode='rgb_array')\n",
        "  plt.imshow(img)\n",
        "  plt.axis('off')\n",
        "  return img"
      ],
      "execution_count": 11,
      "outputs": []
    },
    {
      "cell_type": "markdown",
      "metadata": {
        "id": "H4Tiiw9p4KZ9"
      },
      "source": [
        "Display:"
      ]
    },
    {
      "cell_type": "code",
      "metadata": {
        "colab": {
          "base_uri": "https://localhost:8080/",
          "height": 217
        },
        "id": "BaW5Ec0k3rsI",
        "outputId": "1b4c0faa-570e-4af9-e46d-723671d6222c"
      },
      "source": [
        "import matplotlib.pyplot as plt\n",
        "\n",
        "plot_environment(env)\n",
        "plt.show()"
      ],
      "execution_count": 12,
      "outputs": [
        {
          "output_type": "display_data",
          "data": {
            "image/png": "[encoded data removed]",
            "text/plain": [
              "<Figure size 360x288 with 1 Axes>"
            ]
          },
          "metadata": {
            "tags": [],
            "needs_background": "light"
          }
        }
      ]
    },
    {
      "cell_type": "markdown",
      "metadata": {
        "id": "S4FHO1NvlCKj"
      },
      "source": [
        "# Display Actions\n",
        "\n",
        "Let's see how to interact with the environment we created. The agent needs to select an action from an action space. An **action space** is the set of possible actions that an agent can take."
      ]
    },
    {
      "cell_type": "markdown",
      "metadata": {
        "id": "QPWJrS7A3hhw"
      },
      "source": [
        "Ask the environment about possible actions:"
      ]
    },
    {
      "cell_type": "code",
      "metadata": {
        "id": "4rHLLedC3hnY",
        "colab": {
          "base_uri": "https://localhost:8080/"
        },
        "outputId": "262fa567-8500-4e5b-96a9-b843ef0590e0"
      },
      "source": [
        "env.action_space"
      ],
      "execution_count": 13,
      "outputs": [
        {
          "output_type": "execute_result",
          "data": {
            "text/plain": [
              "Discrete(2)"
            ]
          },
          "metadata": {
            "tags": []
          },
          "execution_count": 13
        }
      ]
    },
    {
      "cell_type": "markdown",
      "metadata": {
        "id": "iAM4OypW4mM3"
      },
      "source": [
        "**Discrete(2)** means that the possible actions are integers 0 and 1, which represents accelerating left (0) or right (1). So the environment's action space has two possible actions. The agent can accelerate towards the left or towards the right. Of course, other environments may have additional discrete actions or other kinds of actions like continuous ones."
      ]
    },
    {
      "cell_type": "markdown",
      "metadata": {
        "id": "cfjOQx6b5k_h"
      },
      "source": [
        "Reset the enviroment and see how the pole is leaning by looking at its angle:"
      ]
    },
    {
      "cell_type": "code",
      "metadata": {
        "colab": {
          "base_uri": "https://localhost:8080/"
        },
        "id": "3fPLhxvb5lFn",
        "outputId": "9ccaacf2-509d-4a1d-8d07-00d37cb200c5"
      },
      "source": [
        "env.seed(0)\n",
        "obs = env.reset()\n",
        "indx = 2\n",
        "obs[indx]"
      ],
      "execution_count": 14,
      "outputs": [
        {
          "output_type": "execute_result",
          "data": {
            "text/plain": [
              "0.013269094558410327"
            ]
          },
          "metadata": {
            "tags": []
          },
          "execution_count": 14
        }
      ]
    },
    {
      "cell_type": "markdown",
      "metadata": {
        "id": "RpHkDKBI6PsM"
      },
      "source": [
        "The third position (index of 2) in the *obs* array is the angle of the pole. If the value is below 0, the pole angles to the left. If above 0, it angles to the right. The pole is moving slightly toward the right because **obs[2] is > 0**."
      ]
    },
    {
      "cell_type": "markdown",
      "metadata": {
        "id": "wZr3IKt05OE7"
      },
      "source": [
        "The CartPole environment only has two actions, left (0) or right (1). Let's accelerate the cart toward the right by setting **action=1**:"
      ]
    },
    {
      "cell_type": "code",
      "metadata": {
        "id": "ZWJzRa1K3h8L",
        "colab": {
          "base_uri": "https://localhost:8080/"
        },
        "outputId": "ed2c10d4-947d-4c81-ffce-732911a8b792"
      },
      "source": [
        "action = 1\n",
        "obs, reward, done, info = env.step(action)\n",
        "print ('obs array:', obs)\n",
        "print ('reward:', reward)\n",
        "print ('done:', done)\n",
        "print ('info:', info)"
      ],
      "execution_count": 15,
      "outputs": [
        {
          "output_type": "stream",
          "text": [
            "obs array: [-0.04363321  0.24146826  0.01284913 -0.30946528]\n",
            "reward: 1.0\n",
            "done: False\n",
            "info: {}\n"
          ],
          "name": "stdout"
        }
      ]
    },
    {
      "cell_type": "markdown",
      "metadata": {
        "id": "JqMUcvC--WZ2"
      },
      "source": [
        "The **step()** method executes the given action and returns four values. **obs** is the new observation. The cart is now moving toward the right because **obs[1] > 0**. The pole is still tilted toward the right because **obs[2] > 0**, but its angular velocity is now negative because **obs[3] < 0**. So it will likely be tilted toward the left after the next step. In this simple environment, *reward* is always *1.0* at every step. So the goal is to keep the episode running as long as possible. The *done* value is *True* when the episode is over. The episode is over if the pole tilts too much, goes off the screen or we win the game. The *info* value provides extra information. Once we finish using an environment, call the **close()** method to free resources."
      ]
    },
    {
      "cell_type": "markdown",
      "metadata": {
        "id": "Lygt0lKu8em7"
      },
      "source": [
        "The environment tells the agent each new observation, the reward, when the game is over, and information it got during the last step."
      ]
    },
    {
      "cell_type": "markdown",
      "metadata": {
        "id": "GLuQrUEI4W7j"
      },
      "source": [
        "Display the pole position:"
      ]
    },
    {
      "cell_type": "code",
      "metadata": {
        "id": "LKYEjDCV4XDh",
        "colab": {
          "base_uri": "https://localhost:8080/",
          "height": 217
        },
        "outputId": "7f029973-4caf-4b38-d946-fa92949cac02"
      },
      "source": [
        "plot_environment(env)\n",
        "plt.show()"
      ],
      "execution_count": 16,
      "outputs": [
        {
          "output_type": "display_data",
          "data": {
            "image/png": "[encoded data removed]",
            "text/plain": [
              "<Figure size 360x288 with 1 Axes>"
            ]
          },
          "metadata": {
            "tags": [],
            "needs_background": "light"
          }
        }
      ]
    },
    {
      "cell_type": "markdown",
      "metadata": {
        "id": "zTI_Rppf8ahK"
      },
      "source": [
        "Here is the reward the agent got during the last step:"
      ]
    },
    {
      "cell_type": "code",
      "metadata": {
        "colab": {
          "base_uri": "https://localhost:8080/"
        },
        "id": "BjXiCaJ98am7",
        "outputId": "3932ab2b-e0fe-4ad8-b398-5cab72c66712"
      },
      "source": [
        "reward"
      ],
      "execution_count": 17,
      "outputs": [
        {
          "output_type": "execute_result",
          "data": {
            "text/plain": [
              "1.0"
            ]
          },
          "metadata": {
            "tags": []
          },
          "execution_count": 17
        }
      ]
    },
    {
      "cell_type": "markdown",
      "metadata": {
        "id": "laPUdSGn8_4_"
      },
      "source": [
        "The game is not over yet:"
      ]
    },
    {
      "cell_type": "code",
      "metadata": {
        "colab": {
          "base_uri": "https://localhost:8080/"
        },
        "id": "rvEaZPSv8_-Z",
        "outputId": "04b5d114-2ab5-4a4d-c807-63632ec50720"
      },
      "source": [
        "done"
      ],
      "execution_count": 18,
      "outputs": [
        {
          "output_type": "execute_result",
          "data": {
            "text/plain": [
              "False"
            ]
          },
          "metadata": {
            "tags": []
          },
          "execution_count": 18
        }
      ]
    },
    {
      "cell_type": "markdown",
      "metadata": {
        "id": "G2E5BsJ79Fhl"
      },
      "source": [
        "The sequence of steps between the moment the environment is reset until it is done is called an **episode**. At the end of an episode (i.e., when step() returns done=True), reset the environment before continuing to use it."
      ]
    },
    {
      "cell_type": "code",
      "metadata": {
        "colab": {
          "base_uri": "https://localhost:8080/"
        },
        "id": "I7Tl8ZCk9Fq_",
        "outputId": "b0f9bdad-50a8-4792-8b1b-c9aa655112b9"
      },
      "source": [
        "if done:\n",
        "  obs = env.reset()\n",
        "else:\n",
        "  print ('game is not over!')"
      ],
      "execution_count": 19,
      "outputs": [
        {
          "output_type": "stream",
          "text": [
            "game is not over!\n"
          ],
          "name": "stdout"
        }
      ]
    },
    {
      "cell_type": "markdown",
      "metadata": {
        "id": "KAJ6T8rwlG_r"
      },
      "source": [
        "# Simple Neural Network Policy\n",
        "\n",
        "How can we make the poll remain upright? We need to define a policy, which is the strategy that the agent uses to select an action at each step. It can use all past actions and observations to decide what to do.\n",
        "\n",
        "Let's create a neural network that takes observations as inputs and output the action to take for each observation. To choose an action, the network estimates a probability for each action and selects an action randomly according to the estimated probabilities. In the case of the Cart-Pole environment, there are just two possible actions (left or right). So we only need one output neuron that outputs the probability *p* of the action 0 (left), and of course the probability of action 1 (right) will be *1 - p*."
      ]
    },
    {
      "cell_type": "markdown",
      "metadata": {
        "id": "UsDHqwFGume8"
      },
      "source": [
        "Clear previous models and generate a seed:"
      ]
    },
    {
      "cell_type": "code",
      "metadata": {
        "id": "eRzfuloFch98"
      },
      "source": [
        "import numpy as np\n",
        "\n",
        "tf.keras.backend.clear_session()\n",
        "tf.random.set_seed(0)\n",
        "np.random.seed(0)"
      ],
      "execution_count": 20,
      "outputs": []
    },
    {
      "cell_type": "markdown",
      "metadata": {
        "id": "reGJMdgl-9lB"
      },
      "source": [
        "Determine the observation space:"
      ]
    },
    {
      "cell_type": "code",
      "metadata": {
        "colab": {
          "base_uri": "https://localhost:8080/"
        },
        "id": "R_SDjROO-9qx",
        "outputId": "21d1b8e9-7fb8-4593-babe-701a16809152"
      },
      "source": [
        "obs_space = env.observation_space.shape\n",
        "obs_space"
      ],
      "execution_count": 22,
      "outputs": [
        {
          "output_type": "execute_result",
          "data": {
            "text/plain": [
              "(4,)"
            ]
          },
          "metadata": {
            "tags": []
          },
          "execution_count": 22
        }
      ]
    },
    {
      "cell_type": "markdown",
      "metadata": {
        "id": "mIUGfNjUAhOQ"
      },
      "source": [
        "As shown earlier in this notebook, the observation (or policy) space is a 1D numpy array composed of 4 floats that represent the cart's horizontal position, velocity, angle of the pole (0 = vertical), and angular velocity. So the policy space is 4."
      ]
    },
    {
      "cell_type": "markdown",
      "metadata": {
        "id": "scad5XmbAG1o"
      },
      "source": [
        "Set the number of inputs:"
      ]
    },
    {
      "cell_type": "code",
      "metadata": {
        "colab": {
          "base_uri": "https://localhost:8080/"
        },
        "id": "Rp1JFv9uAHEH",
        "outputId": "1999b0ff-26c8-4d86-9289-6eb2beae8260"
      },
      "source": [
        "n_inputs = env.observation_space.shape[0]\n",
        "n_inputs"
      ],
      "execution_count": 23,
      "outputs": [
        {
          "output_type": "execute_result",
          "data": {
            "text/plain": [
              "4"
            ]
          },
          "metadata": {
            "tags": []
          },
          "execution_count": 23
        }
      ]
    },
    {
      "cell_type": "markdown",
      "metadata": {
        "id": "rzF54s8ZBLoi"
      },
      "source": [
        "Create a model:"
      ]
    },
    {
      "cell_type": "code",
      "metadata": {
        "id": "QtQY2wezBLx5"
      },
      "source": [
        "from tensorflow.keras.models import Sequential\n",
        "from tensorflow.keras.layers import Dense\n",
        "\n",
        "model = Sequential([\n",
        "  Dense(5, activation='elu', input_shape=[n_inputs]),\n",
        "  Dense(1, activation='sigmoid')\n",
        "])"
      ],
      "execution_count": 24,
      "outputs": []
    },
    {
      "cell_type": "markdown",
      "metadata": {
        "id": "fGh5pcfvxZDv"
      },
      "source": [
        "The model is a simple *Sequential* model that defines the policy network. The number of inputs is the size of the observation space, which is 4 in our case. We include only 5 neurons in the first layer because this is such a simple problem. We output a single probability (the probability of going left) so we have a single output neuron using sigmoid activation. If we had more than two possible actions, we would use one output neuron per action and substitute softmax activation."
      ]
    },
    {
      "cell_type": "markdown",
      "metadata": {
        "id": "YzNjnJ3lBTZF"
      },
      "source": [
        "In this particular environment, past actions and observations can safely be ignored because each observation contains the environment's full state. If there were some hidden state, we may need to consider past actions and observations to try to infer the hidden state of the environment. For example, if the environment only revealed the position of the cart but not its velocity, we have to consider not only the current observation but also the previous observation in order to estimate the current velocity. Another example is if the observations are noisy, we may want to use the past few observations to estimate the most likely current state. Our problem is as simple as can be because the current observation is noise-free and contains the environment's full state.\n",
        "\n",
        "Why do we pick a random action based on the probability given by the policy network rather than just picking the action with the highest probability? This approach lets the agent find the right balance between exploring new actions and exploiting the actions that are known to work well."
      ]
    },
    {
      "cell_type": "markdown",
      "metadata": {
        "id": "HfttE66yDx3n"
      },
      "source": [
        "# Model Predictions"
      ]
    },
    {
      "cell_type": "markdown",
      "metadata": {
        "id": "zT2VWBh9C_pj"
      },
      "source": [
        "Create a function that runs the model to play one episode and return the frames so we can display an animation:"
      ]
    },
    {
      "cell_type": "code",
      "metadata": {
        "id": "gOGOvhbwDAP6"
      },
      "source": [
        "def render_policy_net(model, n_max_steps=200, seed=0):\n",
        "  frames = []\n",
        "  env = gym.make('CartPole-v1')\n",
        "  env.seed(seed)\n",
        "  np.random.seed(seed)\n",
        "  obs = env.reset()\n",
        "  for step in range(n_max_steps):\n",
        "    frames.append(env.render(mode='rgb_array'))\n",
        "    left_proba = model.predict(obs.reshape(1, -1))\n",
        "    action = int(np.random.rand() > left_proba)\n",
        "    obs, reward, done, info = env.step(action)\n",
        "    if done:\n",
        "      break\n",
        "  env.close()\n",
        "  return frames"
      ],
      "execution_count": 25,
      "outputs": []
    },
    {
      "cell_type": "markdown",
      "metadata": {
        "id": "-7bGd7QFDAZ5"
      },
      "source": [
        "Establish the environment and reset it. Create a loop to run a number of steps until the episode is over. Begin each step by appending the visualization of the environment to the *frames* list. Continue making action predictions with the model. Next, establish an action based on prediction. Execute the *step()* method based on the action. Continue looping until the episode is over. End by returning the list of frames."
      ]
    },
    {
      "cell_type": "markdown",
      "metadata": {
        "id": "XgDPjvJQGOA5"
      },
      "source": [
        "Create functions to show animation of the frames:"
      ]
    },
    {
      "cell_type": "code",
      "metadata": {
        "id": "gBQIf2HOGOHQ"
      },
      "source": [
        "import matplotlib.animation as animation\n",
        "import matplotlib as mpl\n",
        "\n",
        "def update_scene(num, frames, patch):\n",
        "  patch.set_data(frames[num])\n",
        "  return patch,\n",
        "\n",
        "def plot_animation(frames, repeat=False, interval=40):\n",
        "  fig = plt.figure()\n",
        "  patch = plt.imshow(frames[0])\n",
        "  plt.axis('off')\n",
        "  anim = animation.FuncAnimation(\n",
        "      fig, update_scene, fargs=(frames, patch), blit=True,\n",
        "      frames=len(frames), repeat=repeat, interval=interval)\n",
        "  plt.close()\n",
        "  return anim"
      ],
      "execution_count": 26,
      "outputs": []
    },
    {
      "cell_type": "markdown",
      "metadata": {
        "id": "uFHd7hL3NQNX"
      },
      "source": [
        "Model predictions:"
      ]
    },
    {
      "cell_type": "code",
      "metadata": {
        "id": "8LKp7JecDAf5"
      },
      "source": [
        "frames = render_policy_net(model)"
      ],
      "execution_count": 27,
      "outputs": []
    },
    {
      "cell_type": "markdown",
      "metadata": {
        "id": "pp_0qgYDNpNc"
      },
      "source": [
        "# Animate\n",
        "\n",
        "Additional resources:\n",
        "\n",
        "https://colab.research.google.com/github/jckantor/CBE30338/blob/master/docs/A.03-Animation-in-Jupyter-Notebooks.ipynb\n",
        "\n",
        "https://colab.research.google.com/github/phoebe-project/phoebe2-docs/blob/2.1/tutorials/animations.ipynb"
      ]
    },
    {
      "cell_type": "markdown",
      "metadata": {
        "id": "eJduad0gNhjk"
      },
      "source": [
        "Create the animation:"
      ]
    },
    {
      "cell_type": "code",
      "metadata": {
        "id": "LMySFUOQNkN9"
      },
      "source": [
        "anim = plot_animation(frames, interval=100)"
      ],
      "execution_count": 32,
      "outputs": []
    },
    {
      "cell_type": "markdown",
      "metadata": {
        "id": "Xf6KzHroRZL3"
      },
      "source": [
        "Experiment with the **interval** parameter size."
      ]
    },
    {
      "cell_type": "markdown",
      "metadata": {
        "id": "qio2krN7NuGk"
      },
      "source": [
        "Render and display the animation. We show two ways to accomplish this. The first method uses the HTML library to display HTML elements. The animation is rendered to html5 video with the to_html5_video() function and then displayed with HTML():"
      ]
    },
    {
      "cell_type": "code",
      "metadata": {
        "colab": {
          "base_uri": "https://localhost:8080/",
          "height": 309
        },
        "id": "5qQBctubHgDr",
        "outputId": "b7370452-9089-4f22-c0f4-a9f0a40202ea"
      },
      "source": [
        "from IPython.display import HTML\n",
        "\n",
        "method1 = HTML(anim.to_html5_video())\n",
        "method1"
      ],
      "execution_count": 34,
      "outputs": [
        {
          "output_type": "execute_result",
          "data": {
            "text/html": [
              "<video width=\"432\" height=\"288\" controls autoplay>\n",
              "  <source type=\"video/mp4\" src=\"data:video/mp4;base64,AAAAHGZ0eXBNNFYgAAACAGlzb21pc28yYXZjMQAAAAhmcmVlAAAKPW1kYXQAAAKuBgX//6rcRem9\n",
              "5tlIt5Ys2CDZI+7veDI2NCAtIGNvcmUgMTUyIHIyODU0IGU5YTU5MDMgLSBILjI2NC9NUEVHLTQg\n",
              "QVZDIGNvZGVjIC0gQ29weWxlZnQgMjAwMy0yMDE3IC0gaHR0cDovL3d3dy52aWRlb2xhbi5vcmcv\n",
              "eDI2NC5odG1sIC0gb3B0aW9uczogY2FiYWM9MSByZWY9MyBkZWJsb2NrPTE6MDowIGFuYWx5c2U9\n",
              "MHgzOjB4MTEzIG1lPWhleCBzdWJtZT03IHBzeT0xIHBzeV9yZD0xLjAwOjAuMDAgbWl4ZWRfcmVm\n",
              "PTEgbWVfcmFuZ2U9MTYgY2hyb21hX21lPTEgdHJlbGxpcz0xIDh4OGRjdD0xIGNxbT0wIGRlYWR6\n",
              "b25lPTIxLDExIGZhc3RfcHNraXA9MSBjaHJvbWFfcXBfb2Zmc2V0PS0yIHRocmVhZHM9MyBsb29r\n",
              "YWhlYWRfdGhyZWFkcz0xIHNsaWNlZF90aHJlYWRzPTAgbnI9MCBkZWNpbWF0ZT0xIGludGVybGFj\n",
              "ZWQ9MCBibHVyYXlfY29tcGF0PTAgY29uc3RyYWluZWRfaW50cmE9MCBiZnJhbWVzPTMgYl9weXJh\n",
              "bWlkPTIgYl9hZGFwdD0xIGJfYmlhcz0wIGRpcmVjdD0xIHdlaWdodGI9MSBvcGVuX2dvcD0wIHdl\n",
              "aWdodHA9MiBrZXlpbnQ9MjUwIGtleWludF9taW49MTAgc2NlbmVjdXQ9NDAgaW50cmFfcmVmcmVz\n",
              "aD0wIHJjX2xvb2thaGVhZD00MCByYz1jcmYgbWJ0cmVlPTEgY3JmPTIzLjAgcWNvbXA9MC42MCBx\n",
              "cG1pbj0wIHFwbWF4PTY5IHFwc3RlcD00IGlwX3JhdGlvPTEuNDAgYXE9MToxLjAwAIAAAAFpZYiE\n",
              "ABH//veIHzLLafk613IR560urR9Q7kZxXqS9/iAAAAMAFpyZQ/thx05aw0AAQoAAhYvTSyyCQ/2M\n",
              "DHQ9lx4lw1yeZeE+K5+ZInZYppS1fnSP4fr3oI+Or/sFPamauDJXm7iUqVJKH5NQNuMUKlyfoGem\n",
              "Ih7dVIkf+VpClSbn1lY4PlcLVb9djohSQdoTQ532f3E4UUjlxsZvv8wFmYeekO6mZYLrawpo5bWD\n",
              "3xQ2p58GQ/xqN3Ix5uUrtNLkHmON+YzwQ3ieIMIFxCQd1I1TuOQVHKsfZkdbhowIUG+ccLHQsawq\n",
              "WJcsFoiMMjANJD6/Z/vV6JXTNlAg0g/0G2T6Q7Xp0el2L1NuYpgv+/Wd/8fn62mEqO+53KLoPRiL\n",
              "Ptu/5sLHg9MQZJQyb6KjQNfBQ/7+hy8foUsVZApsgT7J8S6gAqofvAZ5yhaTNvzWrKWWlMCpqvdu\n",
              "/lG9acd3BLiwAAADAAAJmQAAAJNBmiNsQR/+tSqAALKASqvZULEgAg5awUAP5ECh82boNPn5yE9D\n",
              "qPYW7m4un1ByjxuYAselIr3IR665Y5wd/TodDIgFhhVpeaQol26+ZheydfnJ+rY3cPOulJAQcPfC\n",
              "ovCjoagHxVXcu2Jh2RSAHH1ODtbrad7vQk+UVUgwRPbXIOKG1Wfeffrp78x1RZB2LuM96KAAAABH\n",
              "QZ5BeIb/AAPMfJ9rDnfRfgSkA1n/AIL1PJnky+ivRkPyl1Q3U76HhWXO12utbUrrmkuJxjGvA4sz\n",
              "rMYELNXuY2pUIfaujmEAAAAoAZ5iakN/AAPMUQvDvntGdgALjgtApkhsdkkJzI8//jesyiaOy2wE\n",
              "IAAAAMhBmmZJqEFomUwII//+tSqAAFmhdTKAEBpQN4koakJudQxI1HU16Jtp7ONksaOvSckBaxjD\n",
              "G9dXrQtNi5H9dhj94u3kL9J9fpwOj+ECBhEL6ee+ig2L3Kmx+Yu5LakuvJjhC0J6gvwuoq5RueGj\n",
              "pSUUu9eIbPkDWwXkthOKYx/evppKfox1MbCszCCA0x43S5bii414AGnLarz6Y0gjM6ktZFCZ5cnk\n",
              "fu9NIPdehpU/3ShU1T2su46aL3ZHj0A/b2ksoeBDbB1/NQAAADFBnoRFESw3/wADy21RrYKJgxX9\n",
              "V0MA6ujXZU0xfACRXfSt23RMxS82tJ+zWPoH3MJZAAAALwGepWpDfwAB5RoJ1YBtJ2KsGpSAHHBH\n",
              "1nDpY7gMFdtKyyGoMrJu5i/SamINSf3bAAAAwUGaqkmoQWyZTAgj//61KoAAs30GJs3G5zmMaLgA\n",
              "4ONZVUiqFnA3brBp7WTEHKVJQJChRcv0pdp6fkj+OkyUbvX/uBGYhTa2m1GWbcm23/kP1U6rflIz\n",
              "8PjSLCbrXonEo/MoFc34Yw71FYbGGXJDer/g2f1Tr2qeCrsQqLrWgGYYzD6CvhG3ivI8ujok7dF5\n",
              "I5JPczRKTqosfrn/AUgsq7IdqLGS6jIqPCA7EzqdML2XN+LHPdrfaT3gD49MNmuh+iMAAABDQZ7I\n",
              "RRUsO/8AAVt42i/NhoANpAnIMoOAd5rEXPpgCau8CNXHZw11TgCz+vOnC/U+1qkiEYoakd90aUUr\n",
              "8TlGCL742gAAACQBnud0Q38AAeAq73ERQQiJLkbCHjztT4fGcwMIp0z8+UXUUYAAAAAzAZ7pakN/\n",
              "AAHlkm7hkgBb07uY8hseB9IHSP5zxZ1aTj/cCasT6L66sEbqGJPQMZCkgfe3AAAApkGa7kmoQWyZ\n",
              "TAgh//6qVQAAsxkAtzA18AN/vZM6QiCd2R7qOchb7utKAYLseeBhRW0DYib2G+obRB7oPIrvGlY6\n",
              "yfRyNO7pZOckzHs49MOZO2Pjd2y1zSnZUP+kNfLl2RY/+E1q4eW89qp8BS27/Qdn5edrsmWpN71w\n",
              "6AaeuCsA9VicGx4M9ByZBduMvJgfd+LaVtbYNRT+B1xz1f2wrrJj//1jn8wAAABVQZ8MRRUsO/8A\n",
              "Arir+pzNWhni/oALlAEuUJVKDAvh96AD1xjFS0CcSpKPqtMHywEaNL+su6+ljpFrng2uSCvXeLtO\n",
              "9GMbc9DXk+jBJt4X0tQDfsE2gAAAAB4Bnyt0Q38AA8x8rH8yVi3aCQeD8HtaqYXvNzv3AVUAAAAl\n",
              "AZ8takN/AAPMpUix37u/3iUKl5aOa9u5MBYCmGyDdscvFcXI+wAAAGNBmzJJqEFsmUwId//+qZYA\n",
              "ArpifZnZ6DSFLXCNKQfACvwF3V2ks91PfyKsGuy8WkRmCuS6nVrnErEA+d3J4+/kKDvKbTgpVmcZ\n",
              "O4EoNav9UZBsN21GHkfvsuK/9dKwos5XFkcAAAA8QZ9QRRUsO/8AArjFv749R4BxcwA2m+ePibdj\n",
              "9o4hhu6ek05NbOOk6zs5tYGxvXQmxtzADgjDNY7JXE8sAAAAKwGfb3RDfwADwqqQZMDH7WWgE8Vn\n",
              "JP1B0TeyZRQP4ndgmrpKdy6hiYp3aoAAAAAeAZ9xakN/AAPCqpBjMWEeBwvVALSsc9RUQUYm0uzJ\n",
              "AAAAH0Gbc0moQWyZTAhv//6nhAAFZAWcRE3I8oVSM0nRemAAAAQObW9vdgAAAGxtdmhkAAAAAAAA\n",
              "AAAAAAAAAAAD6AAAB9AAAQAAAQAAAAAAAAAAAAAAAAEAAAAAAAAAAAAAAAAAAAABAAAAAAAAAAAA\n",
              "AAAAAABAAAAAAAAAAAAAAAAAAAAAAAAAAAAAAAAAAAAAAAAAAgAAAzh0cmFrAAAAXHRraGQAAAAD\n",
              "AAAAAAAAAAAAAAABAAAAAAAAB9AAAAAAAAAAAAAAAAAAAAAAAAEAAAAAAAAAAAAAAAAAAAABAAAA\n",
              "AAAAAAAAAAAAAABAAAAAAbAAAAEgAAAAAAAkZWR0cwAAABxlbHN0AAAAAAAAAAEAAAfQAAAIAAAB\n",
              "AAAAAAKwbWRpYQAAACBtZGhkAAAAAAAAAAAAAAAAAAAoAAAAUABVxAAAAAAALWhkbHIAAAAAAAAA\n",
              "AHZpZGUAAAAAAAAAAAAAAABWaWRlb0hhbmRsZXIAAAACW21pbmYAAAAUdm1oZAAAAAEAAAAAAAAA\n",
              "AAAAACRkaW5mAAAAHGRyZWYAAAAAAAAAAQAAAAx1cmwgAAAAAQAAAhtzdGJsAAAAs3N0c2QAAAAA\n",
              "AAAAAQAAAKNhdmMxAAAAAAAAAAEAAAAAAAAAAAAAAAAAAAAAAbABIABIAAAASAAAAAAAAAABAAAA\n",
              "AAAAAAAAAAAAAAAAAAAAAAAAAAAAAAAAAAAAAAAAGP//AAAAMWF2Y0MBZAAV/+EAGGdkABWs2UGw\n",
              "loQAAAMABAAAAwBQPFi2WAEABmjr48siwAAAABx1dWlka2hA8l8kT8W6OaUbzwMj8wAAAAAAAAAY\n",
              "c3R0cwAAAAAAAAABAAAAFAAABAAAAAAUc3RzcwAAAAAAAAABAAAAAQAAAKBjdHRzAAAAAAAAABIA\n",
              "AAABAAAIAAAAAAEAABAAAAAAAgAABAAAAAABAAAQAAAAAAIAAAQAAAAAAQAAFAAAAAABAAAIAAAA\n",
              "AAEAAAAAAAAAAQAABAAAAAABAAAUAAAAAAEAAAgAAAAAAQAAAAAAAAABAAAEAAAAAAEAABQAAAAA\n",
              "AQAACAAAAAABAAAAAAAAAAEAAAQAAAAAAQAACAAAAAAcc3RzYwAAAAAAAAABAAAAAQAAABQAAAAB\n",
              "AAAAZHN0c3oAAAAAAAAAAAAAABQAAAQfAAAAlwAAAEsAAAAsAAAAzAAAADUAAAAzAAAAxQAAAEcA\n",
              "AAAoAAAANwAAAKoAAABZAAAAIgAAACkAAABnAAAAQAAAAC8AAAAiAAAAIwAAABRzdGNvAAAAAAAA\n",
              "AAEAAAAsAAAAYnVkdGEAAABabWV0YQAAAAAAAAAhaGRscgAAAAAAAAAAbWRpcmFwcGwAAAAAAAAA\n",
              "AAAAAAAtaWxzdAAAACWpdG9vAAAAHWRhdGEAAAABAAAAAExhdmY1Ny44My4xMDA=\n",
              "\">\n",
              "  Your browser does not support the video tag.\n",
              "</video>"
            ],
            "text/plain": [
              "<IPython.core.display.HTML object>"
            ]
          },
          "metadata": {
            "tags": []
          },
          "execution_count": 34
        }
      ]
    },
    {
      "cell_type": "markdown",
      "metadata": {
        "id": "xWFZ2GnYPMel"
      },
      "source": [
        "The second method uses the runtime configuration library:"
      ]
    },
    {
      "cell_type": "code",
      "metadata": {
        "id": "ICp6akcSIBRN"
      },
      "source": [
        "from matplotlib import rc\n",
        "\n",
        "method2 = rc('animation', html='html5')"
      ],
      "execution_count": 35,
      "outputs": []
    },
    {
      "cell_type": "markdown",
      "metadata": {
        "id": "0fgGmae8Q8Vu"
      },
      "source": [
        "Run the animation:"
      ]
    },
    {
      "cell_type": "code",
      "metadata": {
        "colab": {
          "base_uri": "https://localhost:8080/",
          "height": 309
        },
        "id": "vxH4f32GIBTb",
        "outputId": "345ec0b3-b826-4d00-dcfc-11afaaa1947c"
      },
      "source": [
        "anim"
      ],
      "execution_count": 36,
      "outputs": [
        {
          "output_type": "execute_result",
          "data": {
            "text/html": [
              "<video width=\"432\" height=\"288\" controls autoplay>\n",
              "  <source type=\"video/mp4\" src=\"data:video/mp4;base64,AAAAHGZ0eXBNNFYgAAACAGlzb21pc28yYXZjMQAAAAhmcmVlAAAKPW1kYXQAAAKuBgX//6rcRem9\n",
              "5tlIt5Ys2CDZI+7veDI2NCAtIGNvcmUgMTUyIHIyODU0IGU5YTU5MDMgLSBILjI2NC9NUEVHLTQg\n",
              "QVZDIGNvZGVjIC0gQ29weWxlZnQgMjAwMy0yMDE3IC0gaHR0cDovL3d3dy52aWRlb2xhbi5vcmcv\n",
              "eDI2NC5odG1sIC0gb3B0aW9uczogY2FiYWM9MSByZWY9MyBkZWJsb2NrPTE6MDowIGFuYWx5c2U9\n",
              "MHgzOjB4MTEzIG1lPWhleCBzdWJtZT03IHBzeT0xIHBzeV9yZD0xLjAwOjAuMDAgbWl4ZWRfcmVm\n",
              "PTEgbWVfcmFuZ2U9MTYgY2hyb21hX21lPTEgdHJlbGxpcz0xIDh4OGRjdD0xIGNxbT0wIGRlYWR6\n",
              "b25lPTIxLDExIGZhc3RfcHNraXA9MSBjaHJvbWFfcXBfb2Zmc2V0PS0yIHRocmVhZHM9MyBsb29r\n",
              "YWhlYWRfdGhyZWFkcz0xIHNsaWNlZF90aHJlYWRzPTAgbnI9MCBkZWNpbWF0ZT0xIGludGVybGFj\n",
              "ZWQ9MCBibHVyYXlfY29tcGF0PTAgY29uc3RyYWluZWRfaW50cmE9MCBiZnJhbWVzPTMgYl9weXJh\n",
              "bWlkPTIgYl9hZGFwdD0xIGJfYmlhcz0wIGRpcmVjdD0xIHdlaWdodGI9MSBvcGVuX2dvcD0wIHdl\n",
              "aWdodHA9MiBrZXlpbnQ9MjUwIGtleWludF9taW49MTAgc2NlbmVjdXQ9NDAgaW50cmFfcmVmcmVz\n",
              "aD0wIHJjX2xvb2thaGVhZD00MCByYz1jcmYgbWJ0cmVlPTEgY3JmPTIzLjAgcWNvbXA9MC42MCBx\n",
              "cG1pbj0wIHFwbWF4PTY5IHFwc3RlcD00IGlwX3JhdGlvPTEuNDAgYXE9MToxLjAwAIAAAAFpZYiE\n",
              "ABH//veIHzLLafk613IR560urR9Q7kZxXqS9/iAAAAMAFpyZQ/thx05aw0AAQoAAhYvTSyyCQ/2M\n",
              "DHQ9lx4lw1yeZeE+K5+ZInZYppS1fnSP4fr3oI+Or/sFPamauDJXm7iUqVJKH5NQNuMUKlyfoGem\n",
              "Ih7dVIkf+VpClSbn1lY4PlcLVb9djohSQdoTQ532f3E4UUjlxsZvv8wFmYeekO6mZYLrawpo5bWD\n",
              "3xQ2p58GQ/xqN3Ix5uUrtNLkHmON+YzwQ3ieIMIFxCQd1I1TuOQVHKsfZkdbhowIUG+ccLHQsawq\n",
              "WJcsFoiMMjANJD6/Z/vV6JXTNlAg0g/0G2T6Q7Xp0el2L1NuYpgv+/Wd/8fn62mEqO+53KLoPRiL\n",
              "Ptu/5sLHg9MQZJQyb6KjQNfBQ/7+hy8foUsVZApsgT7J8S6gAqofvAZ5yhaTNvzWrKWWlMCpqvdu\n",
              "/lG9acd3BLiwAAADAAAJmQAAAJNBmiNsQR/+tSqAALKASqvZULEgAg5awUAP5ECh82boNPn5yE9D\n",
              "qPYW7m4un1ByjxuYAselIr3IR665Y5wd/TodDIgFhhVpeaQol26+ZheydfnJ+rY3cPOulJAQcPfC\n",
              "ovCjoagHxVXcu2Jh2RSAHH1ODtbrad7vQk+UVUgwRPbXIOKG1Wfeffrp78x1RZB2LuM96KAAAABH\n",
              "QZ5BeIb/AAPMfJ9rDnfRfgSkA1n/AIL1PJnky+ivRkPyl1Q3U76HhWXO12utbUrrmkuJxjGvA4sz\n",
              "rMYELNXuY2pUIfaujmEAAAAoAZ5iakN/AAPMUQvDvntGdgALjgtApkhsdkkJzI8//jesyiaOy2wE\n",
              "IAAAAMhBmmZJqEFomUwII//+tSqAAFmhdTKAEBpQN4koakJudQxI1HU16Jtp7ONksaOvSckBaxjD\n",
              "G9dXrQtNi5H9dhj94u3kL9J9fpwOj+ECBhEL6ee+ig2L3Kmx+Yu5LakuvJjhC0J6gvwuoq5RueGj\n",
              "pSUUu9eIbPkDWwXkthOKYx/evppKfox1MbCszCCA0x43S5bii414AGnLarz6Y0gjM6ktZFCZ5cnk\n",
              "fu9NIPdehpU/3ShU1T2su46aL3ZHj0A/b2ksoeBDbB1/NQAAADFBnoRFESw3/wADy21RrYKJgxX9\n",
              "V0MA6ujXZU0xfACRXfSt23RMxS82tJ+zWPoH3MJZAAAALwGepWpDfwAB5RoJ1YBtJ2KsGpSAHHBH\n",
              "1nDpY7gMFdtKyyGoMrJu5i/SamINSf3bAAAAwUGaqkmoQWyZTAgj//61KoAAs30GJs3G5zmMaLgA\n",
              "4ONZVUiqFnA3brBp7WTEHKVJQJChRcv0pdp6fkj+OkyUbvX/uBGYhTa2m1GWbcm23/kP1U6rflIz\n",
              "8PjSLCbrXonEo/MoFc34Yw71FYbGGXJDer/g2f1Tr2qeCrsQqLrWgGYYzD6CvhG3ivI8ujok7dF5\n",
              "I5JPczRKTqosfrn/AUgsq7IdqLGS6jIqPCA7EzqdML2XN+LHPdrfaT3gD49MNmuh+iMAAABDQZ7I\n",
              "RRUsO/8AAVt42i/NhoANpAnIMoOAd5rEXPpgCau8CNXHZw11TgCz+vOnC/U+1qkiEYoakd90aUUr\n",
              "8TlGCL742gAAACQBnud0Q38AAeAq73ERQQiJLkbCHjztT4fGcwMIp0z8+UXUUYAAAAAzAZ7pakN/\n",
              "AAHlkm7hkgBb07uY8hseB9IHSP5zxZ1aTj/cCasT6L66sEbqGJPQMZCkgfe3AAAApkGa7kmoQWyZ\n",
              "TAgh//6qVQAAsxkAtzA18AN/vZM6QiCd2R7qOchb7utKAYLseeBhRW0DYib2G+obRB7oPIrvGlY6\n",
              "yfRyNO7pZOckzHs49MOZO2Pjd2y1zSnZUP+kNfLl2RY/+E1q4eW89qp8BS27/Qdn5edrsmWpN71w\n",
              "6AaeuCsA9VicGx4M9ByZBduMvJgfd+LaVtbYNRT+B1xz1f2wrrJj//1jn8wAAABVQZ8MRRUsO/8A\n",
              "Arir+pzNWhni/oALlAEuUJVKDAvh96AD1xjFS0CcSpKPqtMHywEaNL+su6+ljpFrng2uSCvXeLtO\n",
              "9GMbc9DXk+jBJt4X0tQDfsE2gAAAAB4Bnyt0Q38AA8x8rH8yVi3aCQeD8HtaqYXvNzv3AVUAAAAl\n",
              "AZ8takN/AAPMpUix37u/3iUKl5aOa9u5MBYCmGyDdscvFcXI+wAAAGNBmzJJqEFsmUwId//+qZYA\n",
              "ArpifZnZ6DSFLXCNKQfACvwF3V2ks91PfyKsGuy8WkRmCuS6nVrnErEA+d3J4+/kKDvKbTgpVmcZ\n",
              "O4EoNav9UZBsN21GHkfvsuK/9dKwos5XFkcAAAA8QZ9QRRUsO/8AArjFv749R4BxcwA2m+ePibdj\n",
              "9o4hhu6ek05NbOOk6zs5tYGxvXQmxtzADgjDNY7JXE8sAAAAKwGfb3RDfwADwqqQZMDH7WWgE8Vn\n",
              "JP1B0TeyZRQP4ndgmrpKdy6hiYp3aoAAAAAeAZ9xakN/AAPCqpBjMWEeBwvVALSsc9RUQUYm0uzJ\n",
              "AAAAH0Gbc0moQWyZTAhv//6nhAAFZAWcRE3I8oVSM0nRemAAAAQObW9vdgAAAGxtdmhkAAAAAAAA\n",
              "AAAAAAAAAAAD6AAAB9AAAQAAAQAAAAAAAAAAAAAAAAEAAAAAAAAAAAAAAAAAAAABAAAAAAAAAAAA\n",
              "AAAAAABAAAAAAAAAAAAAAAAAAAAAAAAAAAAAAAAAAAAAAAAAAgAAAzh0cmFrAAAAXHRraGQAAAAD\n",
              "AAAAAAAAAAAAAAABAAAAAAAAB9AAAAAAAAAAAAAAAAAAAAAAAAEAAAAAAAAAAAAAAAAAAAABAAAA\n",
              "AAAAAAAAAAAAAABAAAAAAbAAAAEgAAAAAAAkZWR0cwAAABxlbHN0AAAAAAAAAAEAAAfQAAAIAAAB\n",
              "AAAAAAKwbWRpYQAAACBtZGhkAAAAAAAAAAAAAAAAAAAoAAAAUABVxAAAAAAALWhkbHIAAAAAAAAA\n",
              "AHZpZGUAAAAAAAAAAAAAAABWaWRlb0hhbmRsZXIAAAACW21pbmYAAAAUdm1oZAAAAAEAAAAAAAAA\n",
              "AAAAACRkaW5mAAAAHGRyZWYAAAAAAAAAAQAAAAx1cmwgAAAAAQAAAhtzdGJsAAAAs3N0c2QAAAAA\n",
              "AAAAAQAAAKNhdmMxAAAAAAAAAAEAAAAAAAAAAAAAAAAAAAAAAbABIABIAAAASAAAAAAAAAABAAAA\n",
              "AAAAAAAAAAAAAAAAAAAAAAAAAAAAAAAAAAAAAAAAGP//AAAAMWF2Y0MBZAAV/+EAGGdkABWs2UGw\n",
              "loQAAAMABAAAAwBQPFi2WAEABmjr48siwAAAABx1dWlka2hA8l8kT8W6OaUbzwMj8wAAAAAAAAAY\n",
              "c3R0cwAAAAAAAAABAAAAFAAABAAAAAAUc3RzcwAAAAAAAAABAAAAAQAAAKBjdHRzAAAAAAAAABIA\n",
              "AAABAAAIAAAAAAEAABAAAAAAAgAABAAAAAABAAAQAAAAAAIAAAQAAAAAAQAAFAAAAAABAAAIAAAA\n",
              "AAEAAAAAAAAAAQAABAAAAAABAAAUAAAAAAEAAAgAAAAAAQAAAAAAAAABAAAEAAAAAAEAABQAAAAA\n",
              "AQAACAAAAAABAAAAAAAAAAEAAAQAAAAAAQAACAAAAAAcc3RzYwAAAAAAAAABAAAAAQAAABQAAAAB\n",
              "AAAAZHN0c3oAAAAAAAAAAAAAABQAAAQfAAAAlwAAAEsAAAAsAAAAzAAAADUAAAAzAAAAxQAAAEcA\n",
              "AAAoAAAANwAAAKoAAABZAAAAIgAAACkAAABnAAAAQAAAAC8AAAAiAAAAIwAAABRzdGNvAAAAAAAA\n",
              "AAEAAAAsAAAAYnVkdGEAAABabWV0YQAAAAAAAAAhaGRscgAAAAAAAAAAbWRpcmFwcGwAAAAAAAAA\n",
              "AAAAAAAtaWxzdAAAACWpdG9vAAAAHWRhdGEAAAABAAAAAExhdmY1Ny44My4xMDA=\n",
              "\">\n",
              "  Your browser does not support the video tag.\n",
              "</video>"
            ],
            "text/plain": [
              "<matplotlib.animation.FuncAnimation at 0x7f1f6dad5610>"
            ]
          },
          "metadata": {
            "tags": []
          },
          "execution_count": 36
        }
      ]
    },
    {
      "cell_type": "markdown",
      "metadata": {
        "id": "UQsn8wjOze5b"
      },
      "source": [
        "Ugh! The pole is falling to the left! But, we didn't implement our basic policy to go left if the pole is tilting left and go right if it is tilting right.\n"
      ]
    },
    {
      "cell_type": "markdown",
      "metadata": {
        "id": "oXmO464g3oSP"
      },
      "source": [
        "# Implement a Basic Policy\n",
        "\n",
        "Make the network play in 50 different environments in parallel to give us a diverse training batch at each step. Train for 5,000 iterations. Use the RMSProp optimizer. And, use binary cross-entropy for the loss function because we only have two discrete possible actions. Finally, reset the environments when they are done to free resources. We train with a custom training loop so we can easily use the predictions at each training step to advance the environments."
      ]
    },
    {
      "cell_type": "markdown",
      "metadata": {
        "id": "ycCLwZNG4INQ"
      },
      "source": [
        "Train with a basic policy:"
      ]
    },
    {
      "cell_type": "code",
      "metadata": {
        "colab": {
          "base_uri": "https://localhost:8080/"
        },
        "id": "tqNtwd6c4ITJ",
        "outputId": "ec7d3233-37bd-4a2d-82f6-fec818d96844"
      },
      "source": [
        "n_environments = 50\n",
        "n_iterations = 5000\n",
        "\n",
        "envs = [gym.make(\n",
        "    'CartPole-v1') for _ in range(n_environments)]\n",
        "for index, env in enumerate(envs):\n",
        "  env.seed(index)\n",
        "np.random.seed(0)\n",
        "observations = [env.reset() for env in envs]\n",
        "optimizer = tf.keras.optimizers.RMSprop()\n",
        "loss_fn = tf.keras.losses.binary_crossentropy\n",
        "\n",
        "for iteration in range(n_iterations):\n",
        "  # if angle < 0, we want proba(left) = 1., or else proba(left) = 0.\n",
        "  target_probas = np.array(\n",
        "      [([1.] if obs[2] < 0 else [0.]) \n",
        "      for obs in observations])\n",
        "  with tf.GradientTape() as tape:\n",
        "    left_probas = model(np.array(observations))\n",
        "    loss = tf.reduce_mean(\n",
        "        loss_fn(target_probas, left_probas))\n",
        "    print('\\rIteration: {}, Loss: {:.3f}'.\\\n",
        "          format(iteration, loss.numpy()), end='')\n",
        "    grads = tape.gradient(loss, model.trainable_variables)\n",
        "    optimizer.apply_gradients(\n",
        "        zip(grads, model.trainable_variables))\n",
        "    actions = (np.random.rand(n_environments, 1) >\\\n",
        "               left_probas.numpy()).astype(np.int32)\n",
        "  for env_index, env in enumerate(envs):\n",
        "    obs, reward, done, info = env.step(\n",
        "        actions[env_index][0])\n",
        "    observations[env_index] = obs if not done else env.reset()\n",
        "\n",
        "for env in envs:\n",
        "  env.close()"
      ],
      "execution_count": 37,
      "outputs": [
        {
          "output_type": "stream",
          "text": [
            "Iteration: 4999, Loss: 0.155"
          ],
          "name": "stdout"
        }
      ]
    },
    {
      "cell_type": "markdown",
      "metadata": {
        "id": "M4lPmolg4IYI"
      },
      "source": [
        "Create the frames for an animation:"
      ]
    },
    {
      "cell_type": "code",
      "metadata": {
        "id": "NDbhNVGV4IdM"
      },
      "source": [
        "frames = render_policy_net(model)"
      ],
      "execution_count": 38,
      "outputs": []
    },
    {
      "cell_type": "markdown",
      "metadata": {
        "id": "8yhP-8aO4Ii7"
      },
      "source": [
        "Animate:"
      ]
    },
    {
      "cell_type": "code",
      "metadata": {
        "colab": {
          "base_uri": "https://localhost:8080/",
          "height": 309
        },
        "id": "T58qIy4m4Iny",
        "outputId": "b6a06496-1b0d-4d80-f6c9-acd79700d3a7"
      },
      "source": [
        "anim = plot_animation(frames, repeat=True, interval=100)\n",
        "anim"
      ],
      "execution_count": 39,
      "outputs": [
        {
          "output_type": "execute_result",
          "data": {
            "text/html": [
              "<video width=\"432\" height=\"288\" controls autoplay loop>\n",
              "  <source type=\"video/mp4\" src=\"data:video/mp4;base64,AAAAHGZ0eXBNNFYgAAACAGlzb21pc28yYXZjMQAAAAhmcmVlAAATzm1kYXQAAAKuBgX//6rcRem9\n",
              "5tlIt5Ys2CDZI+7veDI2NCAtIGNvcmUgMTUyIHIyODU0IGU5YTU5MDMgLSBILjI2NC9NUEVHLTQg\n",
              "QVZDIGNvZGVjIC0gQ29weWxlZnQgMjAwMy0yMDE3IC0gaHR0cDovL3d3dy52aWRlb2xhbi5vcmcv\n",
              "eDI2NC5odG1sIC0gb3B0aW9uczogY2FiYWM9MSByZWY9MyBkZWJsb2NrPTE6MDowIGFuYWx5c2U9\n",
              "MHgzOjB4MTEzIG1lPWhleCBzdWJtZT03IHBzeT0xIHBzeV9yZD0xLjAwOjAuMDAgbWl4ZWRfcmVm\n",
              "PTEgbWVfcmFuZ2U9MTYgY2hyb21hX21lPTEgdHJlbGxpcz0xIDh4OGRjdD0xIGNxbT0wIGRlYWR6\n",
              "b25lPTIxLDExIGZhc3RfcHNraXA9MSBjaHJvbWFfcXBfb2Zmc2V0PS0yIHRocmVhZHM9MyBsb29r\n",
              "YWhlYWRfdGhyZWFkcz0xIHNsaWNlZF90aHJlYWRzPTAgbnI9MCBkZWNpbWF0ZT0xIGludGVybGFj\n",
              "ZWQ9MCBibHVyYXlfY29tcGF0PTAgY29uc3RyYWluZWRfaW50cmE9MCBiZnJhbWVzPTMgYl9weXJh\n",
              "bWlkPTIgYl9hZGFwdD0xIGJfYmlhcz0wIGRpcmVjdD0xIHdlaWdodGI9MSBvcGVuX2dvcD0wIHdl\n",
              "aWdodHA9MiBrZXlpbnQ9MjUwIGtleWludF9taW49MTAgc2NlbmVjdXQ9NDAgaW50cmFfcmVmcmVz\n",
              "aD0wIHJjX2xvb2thaGVhZD00MCByYz1jcmYgbWJ0cmVlPTEgY3JmPTIzLjAgcWNvbXA9MC42MCBx\n",
              "cG1pbj0wIHFwbWF4PTY5IHFwc3RlcD00IGlwX3JhdGlvPTEuNDAgYXE9MToxLjAwAIAAAAF7ZYiE\n",
              "ABH//veIHzLLafk613IR560urR9Q7kZxXqS9/iAAAAMAFpyZQ/thx05aw0AAQoAAhYvTSyyCZP/g\n",
              "tHwBRqeMTpsXQqzu/ejX++ORnI3DvsdeqHKuZwywcjNWeoOLrQbwxoRtr2kamNvezdVYmHr4pG7v\n",
              "LtC5/an5bSdNBTewy7dW6MY2tOzEZVJS5GP+4quZIz1azk/ktsqPf6Xj8CgmsrrCBdNqbQL2z7y+\n",
              "QN2zqirbb/MmxBX+L4V2fCw1YwA84ef/P/LtuFEkRvsJ6XNgmH5LR3Br4P4qYBhX6AtDrvABhpAN\n",
              "FqTs9MEOnKI15fc5/eWvQl6pSUbeYvvV0PZVRWq2IFE7p1Uf1e0vmuXZg/jarVc3VszYzzRWjxQc\n",
              "qUsqyidAgcXL2JzWwNxICVjxXZ90qrp8PWTBSM8w3Z7ax4mA9v8F6WHOqntV/A4uLUH+vp4Szk0B\n",
              "UICAdwybPKMHsurYggXqdzgj0oBHl0YYLMcBPgAAAwA7YQAAAKFBmiNsQR/+tSqAALKASqvY9zLM\n",
              "AKht2xsz96KoDiIrr+/+6VC2eDlSaWYvUL2z67wNUupukiuGuvRpc7VP6E2SxfVTUO3aAiNkphon\n",
              "er+FcJwSj9yW26mV3WsC8MqQ9JqP3QU9IQTeeviI6ERm6T+5Wjb8a+2ger+UBKzSlqxDs53cCkD8\n",
              "/631UGj2XhhwjGtL7R5U1m6yIYh2nCJZe8L5qAAAAERBnkF4hv8AA8x8n2sPTDWWRAMTm4QQ3dbc\n",
              "nA/h5oOFEmdbqTa9Mmq/AJ27UOikbiKckQrO6dZDLrpRcudwCVv/QRx9gQAAACkBnmJqQ38AA8xQ\n",
              "/c92lWEN4ABccFYEjoU/sqzUuaDNYmyEVl3ZCzEMQgAAALJBmmdJqEFomUwII//+tSqAAFk3779N\n",
              "7QAg0jjfhpBzdTiWJsOCjxp3p4r1S+E4e0E23cEwJM3x2ZHZvouCbg+Y3zm7ulRGP0oOkHYVr+Q+\n",
              "Ni6C3ooz/XZczD/rrcKSFj4Lzci1UtDLqY3cJ5Ayd06C0w1EiJ92/yTZTy1ZtHA4i2bmG1MyH2V6\n",
              "z0MQGEMmGSua+eZKIiF8AUXcGMpUQ+tlw46wFrkGiqnPkh7hfi5WBquhAAAAN0GehUURLDv/AAFb\n",
              "1GkGigNbJ6B8xH24nSM2yAEzmT2Dk8FgfQHARvZHWx7TW/rtx0LV2rmxQX0AAAAuAZ6kdEN/AAHl\n",
              "YaTiSlVPqVfE9rJKOdAkxAAQ3E4CumeknExfNgeYcH8EcGdwQQAAACUBnqZqQ38AAPKNtLdVTCJr\n",
              "oXvg6gn3ElABq3oerpVLI9ggQgJBAAAAgUGaq0moQWyZTAgh//6qVQAAso3Un+zOQKzftp5qpkvW\n",
              "kC1PJPbZg0NqO3RZX/lbYbyt4uJpgw5GFrSavi1Pt6PleViLFs+65PBPHX7mmPQ979KO2rww44Vh\n",
              "iYWygQNxCV+xSO57/CeAD8rxapKUsd/sec3bf6wG1XZvPMPTYfIqgAAAADtBnslFFSw7/wABW6iI\n",
              "vIFgBYyjIEZMwKYsTtLNcaYX+5tCVE5DD7BcrZ4enIf3bOhja0CGt0VcotMEoAAAADEBnuh0Q38A\n",
              "AeWgT9GkLqh72PuWgBGQI+ufxrezy/6US381d/9i0/LVIcecOhOAiubBAAAAKAGe6mpDfwAB5jXI\n",
              "VSkBKfrbzwKM6mADVFMmv1WhgfCLgERLmwi1XbAAAACDQZrsSahBbJlMCCP//rUqgACyjggV5KSG\n",
              "pABV1QvYZOB2TKhmAMrXG/PWspXmP1HUsceJ7zHCFjp+E0imrdK3IRFvBoNF2mAx1UdqWE2zn29R\n",
              "uD3+u/oDjOn/GJr/Q1LxJcVsr8cZMfC36x1IB8zal1MWe96r2PRnK3fcShEfZPq0B/gAAACoQZsQ\n",
              "SeEKUmUwII///rUqgACyio9AiGQffAllucIDdnezxNNYNDzf7HCkH4717ViMrKvsnUYz8d1lICIU\n",
              "Hl42++UDAuWbnrI7QsKKJLRyexZZXFHKr951QiXmp+OIYIoj7Z6qgNspYfTxJt0banr7efI7T1j7\n",
              "rMsWsAbHPdbMTerPYFIM4R2tcGeaQc+Q3PbHQgTSB9EIx/ng8KNqmcP//IO8MkRB0Si9AAAAQUGf\n",
              "LkU0TDv/AAK4YzlkFIP0AJEuZOhW+olJ5JwaL7YbzNd1fqzVT1JzqXuNl7PZgQzuSLbuIgqvf8Oi\n",
              "94HSY5EtAAAAKgGfTXRDfwADzDnaf/CZWk9aQszPnCOejzJdguhjMwDQf0v6AcB/N2kRLQAAACwB\n",
              "n09qQ38AAPMbKe4DaTmLl/h2sAAhP7CeQbVr9ws4yMN3PjZnqgqli+4rggAAAIZBm1RJqEFomUwI\n",
              "I//+tSqAALJ5Hv1KWZ9QA3g0COe6lsuG5irK6tNuC6DQsYaSxbafUWSVO6005N77/PByn/gjeeva\n",
              "od7sNdDTXJDaefn1tKDXRpqif2Z5eklO2baI7YRFnhJoXBeMhRDlFj1wEb4ai7+dhqTpJt6LZa+z\n",
              "r1pfB/fBk5T+gAAAAD5Bn3JFESw7/wACuKwAv53mTbdLHWXz7Ywglm93GFOAD8mduqk22v/aPKAh\n",
              "KXLn3U989LWvq1lqieUv/w6DYQAAAB0Bn5F0Q38AAPKw0Z73yDSEBAJ18lofWQTYJ3x2kwAAADAB\n",
              "n5NqQ38AA8xRC8TFIqfVEKZhh9D0joKAAiD0M6UqBUiRltC2D3iuiI8Pq0fsm3gAAAEFQZuYSahB\n",
              "bJlMCCP//rUqgACzf4gZUxNsy8Q69OY42gAHRHv70L9hLOTPEuY/xcYp1tr4v0CdtzqkWl1n7P19\n",
              "MzVL8K9rtYxQX7Dxfd7yjyyGp5I9uSdF0T5vEREuxg6gDXoFvile4rWU7BFMb1HGrzUJYG0wcD75\n",
              "M3jYubhowDUqUX3E7I9pSUnwFdQvXbCSEFBCQIOrPPiqTVu+41pLju7Vn6zoyrc8SbPzuCgovQwo\n",
              "1XnpYMLqgkWpr9ni017Eeithj5XDhWdItr8dvZCkA9RyzQtpIXpHq3qGlEM6uhD5G9lJ9RrG4jYk\n",
              "KYoxEt9Fjyzl2PwLCS+K8dZ1LG86PgZW9LwhAAAAWEGftkUVLDv/AAK43FNrqYvn3QAWKWxFYIW3\n",
              "3dX0ilNf0R/7nZ4yKAclIsBwmYqQ8UA7Bbdw2pOm/fFiQtJm3zPz5u3xTCDiP/KyT0pNes5SUJDe\n",
              "lQzScIAAAAA4AZ/VdEN/AAPMUZs63UEAC1QLofweJd/3GNk+6R+EepKKzvV6bFLDtj188s9MWejw\n",
              "cq8tz/dKOTEAAAA2AZ/XakN/AAHiSAZdkXIlNvLnG2LgiMvRWIGNifhpsKGQc6AU31eQAJ1aV20A\n",
              "A5EdxLhuLjkHAAAAvUGb3EmoQWyZTAgj//61KoAAWTYaLBSVvgafrADg8VRPQEFDVnMIdSx7bgSO\n",
              "q4VPsAMsbVs/CCOvEP+ueGgb6bx/XHpQFdVbXIh5Or99Z0jAEAa2E4F0lp/r9BCT4FN5iYVKZD2z\n",
              "GbIWySk8u9rfsKKia935ZJZjJaLml5crE++5r+I5xml8nQcpslXqCqSyr9TlNf1NqmqbKS7XrM+A\n",
              "+fj81FM2yoYMHslrbz27/a/PTsEsxa8kz22UQPh8vwAAAGBBn/pFFSw7/wABXEO3UdABKoyYJMAB\n",
              "DfGdQKz1P6zZ/7R5bodqXNVeAzmiEOkcf/r1B3AULVUHR8eRiPCjhtruCghxebcCvAZCJwr8NsyA\n",
              "/ltcsmisO2ZVylbA+MuxIUMAAAAnAZ4ZdEN/AAPMfKx/MkV0P1q6r6u6L+P6FjNOOQ5LjL++cV5/\n",
              "Ga0LAAAAJQGeG2pDfwADy9uuki+SjDKb6OgNJ0nvmC2OHbZggZkpe5qxmrkAAACHQZoASahBbJlM\n",
              "CCP//rUqgABZNq7sgq2KKhADdH/J7aEoQJ8zzyRHPJ/f3fnq+Zi8rj6s5unJxWxrFETWOKmssBwl\n",
              "zZc1WQvV6+W/ZqJBk7ULGqk1uh70nV2M0rUTSYHemGZqBTlLIzVqQhD6VFjb8U2vv+KFucl1bYTp\n",
              "3xIZ6ay58wC/oQWBAAAALkGePkUVLDv/AAFX8FsBJmTQAZzPIm8DtKtJpcPDtb5OgeB8diF12DNK\n",
              "jj+T8FwAAAA8AZ5ddEN/AAHl0779c9q4jeWcQAEP8nC0LWdvZRuXpX34HXqNjm0WWByajl7zy425\n",
              "IBHi6crLfVpnwqJsAAAALwGeX2pDfwAA8xtQkYHggCIT07dfvsfSs5/zdjgADtAB0oX6VwBNS70C\n",
              "R2rpKGWZAAAAskGaREmoQWyZTAgh//6qVQAAsmCU5Z/uqcIEIAG9PMPFgpY8LaXJZPOZAulM9wHi\n",
              "1ANjNhP8iYMNoUjfBR4EPYet3r6RXFNgIh5gZLAOZMg6yeqCrmq1sJBRyC10tpYiv8wL1couKJX2\n",
              "H24fy+nz+HR/ZpxAgLEKXE4WPtQGZl7aofjhzzywOP1dgpcMG5nFm6uP00WLOTpOKrSNUv41webp\n",
              "0Rw0dydXDMrVgxyNLHh9A9AAAABTQZ5iRRUsO/8AAV3IAAWdEwu5q6LsDBNj0Dh12t7W5DQOAE7K\n",
              "eBGW++TMVvNncw+GYqSOVgeFSr+R7cPgJtxYK2+9qKu2HGu+Ltf7Ck7qGSlxepEAAAAtAZ6BdEN/\n",
              "AADyxj40PwmbpF6fwAC2PqhlfGih4NPbv1DoVeN/hLttG5hLR8LSAAAAOQGeg2pDfwAB1lBg80ZM\n",
              "bsSckdDgabWQKAYABbXAI/wAGTLd0ug5USupzlP3GV83DtNL8zdNvnLKQQAAAL9BmoZJqEFsmUwU\n",
              "TBD//qpVAAFlBnhV/h6XXJIAFptffQ6gJAwMC8r71MUUBU/r0q0POeWJrA5rHBgUKraj58dMLob7\n",
              "m8TVgucrRAE2/rijSdwh9KcFcZ7oAFdLx4aZRf5KmRldSm0Hunmvge/Fmc2gSFoPMsqUyM3a43hp\n",
              "t8d1gS0SwuVtVFaRkmy9sVDFPXyAGiIeLMhglzqHY11W9xQb17ZuTC1DEx8kzGijvIxovB7HPoxS\n",
              "zt0uKp64SLUtIQAAAD0BnqVqQ38AA8u5w5AMQBg+UKRxlOpJ8vSNlAiIr69TSNDi2c10xrw4GMQi\n",
              "44XoBGSbETDcOBUSIkqNi191AAAAqEGaqEnhClJlMFLD//6plgAFcCbP131OJ6ADi9EHiveP1Y0C\n",
              "pR97YAipgM9KZgdrAsFn+62uo+Ee/pPhWQC/3E93yosXhV/9iXAotemRlWi0Sh716S8G/ca07oCI\n",
              "TGEMsaqfAS53pUIB0Dtgq6fBpBJkZJyVLIgy86GQb4w2taORa1xQ6KTS3boalzsQtpGuZAv9LrVc\n",
              "gih9bm4ml/yGUX2sgz4Qg7GUQQAAADsBnsdqQ38AA8ylVfB2SuHwIJD6AEtmxt4rVk9NwPxNLxi7\n",
              "kir0zUpSxwG90Oq1u/lfUjJWFbvrP8NQIAAAAI1BmstJ4Q6JlMCG//6nhAAFYiw0g+sp/eSkAJau\n",
              "sCOT9z5XF7O+pA3CawLrb9IY5pIjx+18xJaujqqMD+kl5GZGtkL3On824UhKT7zUUay/qLxYhqPA\n",
              "13m8Smz8sBF7xGXN6qj+gWprIFpQ9R8o9x+k8lX7xjWfnCJcZiEiWtt+TLBWToZW1KznDreKYWYA\n",
              "AABJQZ7pRRU8N/8AA8x87pOXw9gQAM9P+KH9PgQheKkRowDwOLgZAf5dPa6kpmY8q0NYicHKsM16\n",
              "84ZXRd8Boty64InmZJqsf6oQgQAAAEMBnwpqQ38AAdZQYQ6BbPcd8oqLdPoJKdhRKdBavbDJYasj\n",
              "QqHdIck5dcbik+i9Pz1KFhsUWO/ixtJeLigcOEEFz/6AAAAFLm1vb3YAAABsbXZoZAAAAAAAAAAA\n",
              "AAAAAAAAA+gAABEwAAEAAAEAAAAAAAAAAAAAAAABAAAAAAAAAAAAAAAAAAAAAQAAAAAAAAAAAAAA\n",
              "AAAAQAAAAAAAAAAAAAAAAAAAAAAAAAAAAAAAAAAAAAAAAAIAAARYdHJhawAAAFx0a2hkAAAAAwAA\n",
              "AAAAAAAAAAAAAQAAAAAAABEwAAAAAAAAAAAAAAAAAAAAAAABAAAAAAAAAAAAAAAAAAAAAQAAAAAA\n",
              "AAAAAAAAAAAAQAAAAAGwAAABIAAAAAAAJGVkdHMAAAAcZWxzdAAAAAAAAAABAAARMAAACAAAAQAA\n",
              "AAAD0G1kaWEAAAAgbWRoZAAAAAAAAAAAAAAAAAAAKAAAALAAVcQAAAAAAC1oZGxyAAAAAAAAAAB2\n",
              "aWRlAAAAAAAAAAAAAAAAVmlkZW9IYW5kbGVyAAAAA3ttaW5mAAAAFHZtaGQAAAABAAAAAAAAAAAA\n",
              "AAAkZGluZgAAABxkcmVmAAAAAAAAAAEAAAAMdXJsIAAAAAEAAAM7c3RibAAAALNzdHNkAAAAAAAA\n",
              "AAEAAACjYXZjMQAAAAAAAAABAAAAAAAAAAAAAAAAAAAAAAGwASAASAAAAEgAAAAAAAAAAQAAAAAA\n",
              "AAAAAAAAAAAAAAAAAAAAAAAAAAAAAAAAAAAAABj//wAAADFhdmNDAWQAFf/hABhnZAAVrNlBsJaE\n",
              "AAADAAQAAAMAUDxYtlgBAAZo6+PLIsAAAAAcdXVpZGtoQPJfJE/FujmlG88DI/MAAAAAAAAAGHN0\n",
              "dHMAAAAAAAAAAQAAACwAAAQAAAAAFHN0c3MAAAAAAAAAAQAAAAEAAAFgY3R0cwAAAAAAAAAqAAAA\n",
              "AQAACAAAAAABAAAQAAAAAAIAAAQAAAAAAQAAFAAAAAABAAAIAAAAAAEAAAAAAAAAAQAABAAAAAAB\n",
              "AAAUAAAAAAEAAAgAAAAAAQAAAAAAAAABAAAEAAAAAAEAAAgAAAAAAQAAFAAAAAABAAAIAAAAAAEA\n",
              "AAAAAAAAAQAABAAAAAABAAAUAAAAAAEAAAgAAAAAAQAAAAAAAAABAAAEAAAAAAEAABQAAAAAAQAA\n",
              "CAAAAAABAAAAAAAAAAEAAAQAAAAAAQAAFAAAAAABAAAIAAAAAAEAAAAAAAAAAQAABAAAAAABAAAU\n",
              "AAAAAAEAAAgAAAAAAQAAAAAAAAABAAAEAAAAAAEAABQAAAAAAQAACAAAAAABAAAAAAAAAAEAAAQA\n",
              "AAAAAQAADAAAAAABAAAEAAAAAAEAAAwAAAAAAQAABAAAAAABAAAQAAAAAAIAAAQAAAAAHHN0c2MA\n",
              "AAAAAAAAAQAAAAEAAAAsAAAAAQAAAMRzdHN6AAAAAAAAAAAAAAAsAAAEMQAAAKUAAABIAAAALQAA\n",
              "ALYAAAA7AAAAMgAAACkAAACFAAAAPwAAADUAAAAsAAAAhwAAAKwAAABFAAAALgAAADAAAACKAAAA\n",
              "QgAAACEAAAA0AAABCQAAAFwAAAA8AAAAOgAAAMEAAABkAAAAKwAAACkAAACLAAAAMgAAAEAAAAAz\n",
              "AAAAtgAAAFcAAAAxAAAAPQAAAMMAAABBAAAArAAAAD8AAACRAAAATQAAAEcAAAAUc3RjbwAAAAAA\n",
              "AAABAAAALAAAAGJ1ZHRhAAAAWm1ldGEAAAAAAAAAIWhkbHIAAAAAAAAAAG1kaXJhcHBsAAAAAAAA\n",
              "AAAAAAAALWlsc3QAAAAlqXRvbwAAAB1kYXRhAAAAAQAAAABMYXZmNTcuODMuMTAw\n",
              "\">\n",
              "  Your browser does not support the video tag.\n",
              "</video>"
            ],
            "text/plain": [
              "<matplotlib.animation.FuncAnimation at 0x7f1f6c0f2450>"
            ]
          },
          "metadata": {
            "tags": []
          },
          "execution_count": 39
        }
      ]
    },
    {
      "cell_type": "markdown",
      "metadata": {
        "id": "df9WOAce8KbJ"
      },
      "source": [
        "Much better!"
      ]
    },
    {
      "cell_type": "markdown",
      "metadata": {
        "id": "R3_cmcNj8RSO"
      },
      "source": [
        "# Reinforce Algorithm\n",
        "\n",
        "Let's see if the agent can learn a better policy on its own. Policy gradients (PG) optimize the parameters of a policy by following the gradients toward higher rewards. We use a reinforce PG algorithm to automate agent learning."
      ]
    },
    {
      "cell_type": "markdown",
      "metadata": {
        "id": "R_xfFqrP9Zsi"
      },
      "source": [
        "Let the neural network policy play the game several times. At each step, compute the gradients that make the chosen action even more likely. But, don't apply the gradients yet. After running several episodes, compute each action's advantage with a discount factor at each step. A *discount factor* is computed by evaluating an action based on the sum of all rewards that come after the action. If an action's advantage is positive, the action was probably good. So apply the gradients to make the action more likely to be chosen in the future. If it is negative, apply the opposite gradients to make the action less likely to be chosen. Finally, compute the mean of all resultant gradient vectors (gradient (or opposite gradient) x action advantage) and use it to perform a *Gradient Descent* step."
      ]
    },
    {
      "cell_type": "markdown",
      "metadata": {
        "id": "YrL_XCgV_12G"
      },
      "source": [
        "## Train the Model\n",
        "\n",
        "Train the model to learn to balance the pole on the cart."
      ]
    },
    {
      "cell_type": "markdown",
      "metadata": {
        "id": "p7eDd1XMJSKI"
      },
      "source": [
        " ## Create Functions to Play the Game"
      ]
    },
    {
      "cell_type": "markdown",
      "metadata": {
        "id": "j9KbJ0RbJQt4"
      },
      "source": [
        "Create a function that plays one step: "
      ]
    },
    {
      "cell_type": "code",
      "metadata": {
        "id": "wptcEIqRze_a"
      },
      "source": [
        "def play_one_step(env, obs, model, loss_fn):\n",
        "  with tf.GradientTape() as tape:\n",
        "    left_proba = model(obs[np.newaxis])\n",
        "    action = (tf.random.uniform([1, 1]) > left_proba)\n",
        "    y_target = tf.constant(\n",
        "        [[1.]]) - tf.cast(action, tf.float32)\n",
        "    loss = tf.reduce_mean(loss_fn(\n",
        "        y_target, left_proba))\n",
        "  grads = tape.gradient(loss, model.trainable_variables)\n",
        "  obs, reward, done, info = env.step(\n",
        "      int(action[0, 0].numpy()))\n",
        "  return obs, reward, done, grads"
      ],
      "execution_count": 40,
      "outputs": []
    },
    {
      "cell_type": "markdown",
      "metadata": {
        "id": "cov705LpATYH"
      },
      "source": [
        "With the *GradientTape* block, call the model with a single observation. We reshape the observation so that it becomes a batch containing a single instance (the model expects a batch). We get a probability of going left. Sample a random float between 0 and 1, and check if it greater than the probability. The *action* is **False** with probability *left_proba* and **True** with probability *1 - left_proba*. Cast this Boolean to a number of 0 (left) or 1 (right) with the appropriate probabilities. We then define the target probabilities of going left (1 - the action). If the action is 0 (left), the target probability of going left is 1. If the action is 1 (right), the target probability is 0. Whew!\n",
        "\n",
        "We continue by computing the loss and use the tape to compute the gradient of the loss with regard to the model's trainable variables. We tweak the gradients later depending on how good or bad that action turned out to be. Finally, we play the selected action and return the new observation, reward, whether the episode is over or not, and the gradients."
      ]
    },
    {
      "cell_type": "markdown",
      "metadata": {
        "id": "sAKlb6_nCiSY"
      },
      "source": [
        "Create a function to play multiple episodes and return the rewards and gradients for each episode and each step:"
      ]
    },
    {
      "cell_type": "code",
      "metadata": {
        "id": "cmwyhWLNzrwy"
      },
      "source": [
        "def play_multiple_episodes(\n",
        "    env, n_episodes, n_max_steps, model, loss_fn):\n",
        "  all_rewards = []\n",
        "  all_grads = []\n",
        "  for episode in range(n_episodes):\n",
        "    current_rewards = []\n",
        "    current_grads = []\n",
        "    obs = env.reset()\n",
        "    for step in range(n_max_steps):\n",
        "      obs, reward, done, grads = play_one_step(\n",
        "          env, obs, model, loss_fn)\n",
        "      current_rewards.append(reward)\n",
        "      current_grads.append(grads)\n",
        "      if done:\n",
        "        break\n",
        "    all_rewards.append(current_rewards)\n",
        "    all_grads.append(current_grads)\n",
        "  return all_rewards, all_grads"
      ],
      "execution_count": 41,
      "outputs": []
    },
    {
      "cell_type": "markdown",
      "metadata": {
        "id": "k1fCOhBVDD9E"
      },
      "source": [
        "The function returns a list of reward lists. The list contains one reward list per episode. Each reward list contains one reward per step. It also returns a list of gradient lists. The list contains one gradient list per episode. Each gradient list contains one tuple of gradients per step. Each tuple contains one gradient tensor per trainable variable."
      ]
    },
    {
      "cell_type": "markdown",
      "metadata": {
        "id": "rqqnQhgnEKhk"
      },
      "source": [
        "The policy gradient algorithm uses the *play_multiple_episodes()* function to play the game several times. It then goes back and looks at all the rewards to discount and normalize them."
      ]
    },
    {
      "cell_type": "markdown",
      "metadata": {
        "id": "Fy_sFGOgJg0x"
      },
      "source": [
        "## Discount and Normalize the Rewards"
      ]
    },
    {
      "cell_type": "markdown",
      "metadata": {
        "id": "mF-qeOVdJg4D"
      },
      "source": [
        "To discount and normalize rewards, we introduce two functions: *discount_rewards* and *discount_and_normalize_rewards*."
      ]
    },
    {
      "cell_type": "code",
      "metadata": {
        "id": "oh9uVqUEzrzR"
      },
      "source": [
        "def discount_rewards(rewards, discount_rate):\n",
        "  discounted = np.array(rewards)\n",
        "  for step in range(len(rewards) - 2, -1, -1):\n",
        "    discounted[step] += discounted[step + 1] * discount_rate\n",
        "  return discounted\n",
        "\n",
        "def discount_and_normalize_rewards(\n",
        "    all_rewards, discount_rate):\n",
        "  all_discounted_rewards =\\\n",
        "    [discount_rewards(rewards, discount_rate)\n",
        "    for rewards in all_rewards]\n",
        "  flat_rewards = np.concatenate(all_discounted_rewards)\n",
        "  reward_mean = flat_rewards.mean()\n",
        "  reward_std = flat_rewards.std()\n",
        "  return [(discounted_rewards - reward_mean) / reward_std\n",
        "          for discounted_rewards in all_discounted_rewards]"
      ],
      "execution_count": 42,
      "outputs": []
    },
    {
      "cell_type": "markdown",
      "metadata": {
        "id": "eu-GdgSYFLk-"
      },
      "source": [
        "Verify that the function work:"
      ]
    },
    {
      "cell_type": "code",
      "metadata": {
        "colab": {
          "base_uri": "https://localhost:8080/"
        },
        "id": "ujCGqTonzr2G",
        "outputId": "4ee65c89-7635-4d61-e061-a7e96f98d961"
      },
      "source": [
        "discount_rewards([10, 0, -50], discount_rate=0.8)"
      ],
      "execution_count": 43,
      "outputs": [
        {
          "output_type": "execute_result",
          "data": {
            "text/plain": [
              "array([-22, -40, -50])"
            ]
          },
          "metadata": {
            "tags": []
          },
          "execution_count": 43
        }
      ]
    },
    {
      "cell_type": "markdown",
      "metadata": {
        "id": "s4DSEjJxM8z8"
      },
      "source": [
        "We give the function 3 actions. After each action, there is a reward: first 10, then 0, then -50. We use a discount factor of 80%. So, the 3rd action gets -50 (full credit for the last reward), but the 2nd action only gets -40 (80% credit for the last reward), and the 1st action will get 80% of -40 (-32) plus full credit for the first reward (+10) leading to a discounted reward of -22."
      ]
    },
    {
      "cell_type": "markdown",
      "metadata": {
        "id": "SGgfrJomNk1f"
      },
      "source": [
        "To normalize all discounted rewards across all episodes, we compute the mean and standard deviation of all the discounted rewards. We then subtract the mean from each discounted reward and divide by the standard deviation:"
      ]
    },
    {
      "cell_type": "code",
      "metadata": {
        "colab": {
          "base_uri": "https://localhost:8080/"
        },
        "id": "YhvZ0-b4zxv6",
        "outputId": "e15ccb05-1f52-4183-a838-47376272865c"
      },
      "source": [
        "discount_and_normalize_rewards(\n",
        "    [[10, 0, -50], [10, 20]], discount_rate=0.8)"
      ],
      "execution_count": 44,
      "outputs": [
        {
          "output_type": "execute_result",
          "data": {
            "text/plain": [
              "[array([-0.28435071, -0.86597718, -1.18910299]),\n",
              " array([1.26665318, 1.0727777 ])]"
            ]
          },
          "metadata": {
            "tags": []
          },
          "execution_count": 44
        }
      ]
    },
    {
      "cell_type": "markdown",
      "metadata": {
        "id": "xi4Sg8q6FPLd"
      },
      "source": [
        "All actions from the first episode are considered **bad** because normalized advantages are all negative. This makes sense because the sum of the rewards is -40. Conversely, second episode actions are **good** because normalized advantages are positive. The sum of the rewards is 30."
      ]
    },
    {
      "cell_type": "markdown",
      "metadata": {
        "id": "ybgAgornJ6XW"
      },
      "source": [
        "## Build the Model"
      ]
    },
    {
      "cell_type": "markdown",
      "metadata": {
        "id": "qyuuFFXGIWeR"
      },
      "source": [
        "Define the hyperparameters:"
      ]
    },
    {
      "cell_type": "code",
      "metadata": {
        "id": "FPSKsnahzxyi"
      },
      "source": [
        "n_iterations = 150\n",
        "n_episodes_per_update = 10\n",
        "n_max_steps = 200\n",
        "discount_rate = 0.95"
      ],
      "execution_count": 45,
      "outputs": []
    },
    {
      "cell_type": "markdown",
      "metadata": {
        "id": "BAcQD0SiIlcH"
      },
      "source": [
        "Run 150 training iterations, play 10 episodes of the game per iteration, make each episode last at most 200 steps, and use a discount rate of 0.95."
      ]
    },
    {
      "cell_type": "markdown",
      "metadata": {
        "id": "O5RuRjF3I4UA"
      },
      "source": [
        "Define an optimizer and loss function:"
      ]
    },
    {
      "cell_type": "code",
      "metadata": {
        "id": "Fe_7h5Sszx1Q"
      },
      "source": [
        "optimizer = tf.keras.optimizers.Adam(learning_rate=0.01)\n",
        "loss_fn = tf.keras.losses.binary_crossentropy"
      ],
      "execution_count": 47,
      "outputs": []
    },
    {
      "cell_type": "markdown",
      "metadata": {
        "id": "kgN3EJqbI-ZI"
      },
      "source": [
        "Use binary cross_entropy because we are training a binary classifier (two possible actions: left or right)."
      ]
    },
    {
      "cell_type": "markdown",
      "metadata": {
        "id": "g2nbszluKA-p"
      },
      "source": [
        "Create the model:"
      ]
    },
    {
      "cell_type": "code",
      "metadata": {
        "id": "WB6nb9F0z_D9"
      },
      "source": [
        "tf.keras.backend.clear_session()\n",
        "np.random.seed(0)\n",
        "tf.random.set_seed(0)\n",
        "\n",
        "model = Sequential([\n",
        "  Dense(5, activation='elu', input_shape=[4]),\n",
        "  Dense(1, activation='sigmoid'),\n",
        "])"
      ],
      "execution_count": null,
      "outputs": []
    },
    {
      "cell_type": "markdown",
      "metadata": {
        "id": "bAkxWb-xKFQc"
      },
      "source": [
        "Train:"
      ]
    },
    {
      "cell_type": "code",
      "metadata": {
        "colab": {
          "base_uri": "https://localhost:8080/"
        },
        "id": "gwjrIpCgz_GU",
        "outputId": "f9da8537-b152-4366-a317-83bc0618ea43"
      },
      "source": [
        "env = gym.make('CartPole-v1')\n",
        "env.seed(42);\n",
        "\n",
        "for iteration in range(n_iterations):\n",
        "  all_rewards, all_grads = play_multiple_episodes(\n",
        "      env, n_episodes_per_update, n_max_steps,\n",
        "      model, loss_fn)\n",
        "  total_rewards = sum(map(sum, all_rewards))\n",
        "  print('\\rIteration: {}, mean rewards: {:.1f}'.format(\n",
        "      iteration, total_rewards / n_episodes_per_update),\n",
        "      end='')\n",
        "  all_final_rewards = discount_and_normalize_rewards(\n",
        "      all_rewards, discount_rate)\n",
        "  all_mean_grads = []\n",
        "  for var_index in range(len(model.trainable_variables)):\n",
        "    mean_grads = tf.reduce_mean(\n",
        "        [final_reward * all_grads[episode_index][step][var_index]\n",
        "         for episode_index, final_rewards in enumerate(\n",
        "             all_final_rewards)\n",
        "           for step, final_reward in enumerate(\n",
        "               final_rewards)], axis=0)\n",
        "    all_mean_grads.append(mean_grads)\n",
        "  optimizer.apply_gradients(\n",
        "      zip(all_mean_grads, model.trainable_variables))\n",
        "\n",
        "env.close()"
      ],
      "execution_count": null,
      "outputs": [
        {
          "output_type": "stream",
          "text": [
            "Iteration: 113, mean rewards: 178.2"
          ],
          "name": "stdout"
        }
      ]
    },
    {
      "cell_type": "markdown",
      "metadata": {
        "id": "zE0QOoVyKnC0"
      },
      "source": [
        "At each training iteration, call *play_multiple_episodes()*, which plays the game 10 times and returns all the rewards and gradients for every episode and step. Call *discount_and_normalize_rewards()* to compute each action's normalized advantage, which gives us a measure of how good or bad each action actually was in hindsight. For each trainable variable, we compute the weighted mean of the gradients over all episodes and all steps weighted by the *final_reward*. The **final_reward** is each action's normalized advantage. We end by applying the mean gradients using the optimizer, which tweaks the model's trainable variables to hopefully make the policy a bit better."
      ]
    },
    {
      "cell_type": "markdown",
      "metadata": {
        "id": "fm_GfCOIOF2t"
      },
      "source": [
        "## Render Policy"
      ]
    },
    {
      "cell_type": "markdown",
      "metadata": {
        "id": "MFKz61JMOLEV"
      },
      "source": [
        "Render the reinforce algorithm policy:"
      ]
    },
    {
      "cell_type": "code",
      "metadata": {
        "id": "YVZP4ilLOGBF"
      },
      "source": [
        "frames_ra = render_policy_net(model)"
      ],
      "execution_count": null,
      "outputs": []
    },
    {
      "cell_type": "markdown",
      "metadata": {
        "id": "E2IYh3smN5sg"
      },
      "source": [
        "## Animate"
      ]
    },
    {
      "cell_type": "markdown",
      "metadata": {
        "id": "q58B0BXfOXCH"
      },
      "source": [
        "Animate the policy:"
      ]
    },
    {
      "cell_type": "code",
      "metadata": {
        "colab": {
          "base_uri": "https://localhost:8080/",
          "height": 308
        },
        "id": "D3yrbs1Iz_I2",
        "outputId": "4f5216a1-59e0-409f-a0b8-3391a469cb27"
      },
      "source": [
        "anim = plot_animation(frames_ra, repeat=True, interval=100)\n",
        "anim"
      ],
      "execution_count": null,
      "outputs": [
        {
          "output_type": "execute_result",
          "data": {
            "text/html": [
              "<video width=\"432\" height=\"288\" controls autoplay loop>\n",
              "  <source type=\"video/mp4\" src=\"data:video/mp4;base64,AAAAHGZ0eXBNNFYgAAACAGlzb21pc28yYXZjMQAAAAhmcmVlAABJwG1kYXQAAAKuBgX//6rcRem9\n",
              "5tlIt5Ys2CDZI+7veDI2NCAtIGNvcmUgMTUyIHIyODU0IGU5YTU5MDMgLSBILjI2NC9NUEVHLTQg\n",
              "QVZDIGNvZGVjIC0gQ29weWxlZnQgMjAwMy0yMDE3IC0gaHR0cDovL3d3dy52aWRlb2xhbi5vcmcv\n",
              "eDI2NC5odG1sIC0gb3B0aW9uczogY2FiYWM9MSByZWY9MyBkZWJsb2NrPTE6MDowIGFuYWx5c2U9\n",
              "MHgzOjB4MTEzIG1lPWhleCBzdWJtZT03IHBzeT0xIHBzeV9yZD0xLjAwOjAuMDAgbWl4ZWRfcmVm\n",
              "PTEgbWVfcmFuZ2U9MTYgY2hyb21hX21lPTEgdHJlbGxpcz0xIDh4OGRjdD0xIGNxbT0wIGRlYWR6\n",
              "b25lPTIxLDExIGZhc3RfcHNraXA9MSBjaHJvbWFfcXBfb2Zmc2V0PS0yIHRocmVhZHM9MyBsb29r\n",
              "YWhlYWRfdGhyZWFkcz0xIHNsaWNlZF90aHJlYWRzPTAgbnI9MCBkZWNpbWF0ZT0xIGludGVybGFj\n",
              "ZWQ9MCBibHVyYXlfY29tcGF0PTAgY29uc3RyYWluZWRfaW50cmE9MCBiZnJhbWVzPTMgYl9weXJh\n",
              "bWlkPTIgYl9hZGFwdD0xIGJfYmlhcz0wIGRpcmVjdD0xIHdlaWdodGI9MSBvcGVuX2dvcD0wIHdl\n",
              "aWdodHA9MiBrZXlpbnQ9MjUwIGtleWludF9taW49MTAgc2NlbmVjdXQ9NDAgaW50cmFfcmVmcmVz\n",
              "aD0wIHJjX2xvb2thaGVhZD00MCByYz1jcmYgbWJ0cmVlPTEgY3JmPTIzLjAgcWNvbXA9MC42MCBx\n",
              "cG1pbj0wIHFwbWF4PTY5IHFwc3RlcD00IGlwX3JhdGlvPTEuNDAgYXE9MToxLjAwAIAAAAF0ZYiE\n",
              "ABH//veIHzLLafk613IR560urR9Q7kZxXqS9/iAAAAMAFpyZQ/thx05aw0AAQoAAhYvTSyyCQdAD\n",
              "6Q9lx4lw1yeZeErAx2RMecV2kxJH8PZ9HbWPxUoBWH4RPk62fWUeAxCq839y7liZuEk8kP8GrFMl\n",
              "Bxslu0OY+/4RR7lRl7PRCKv5DGgJ5mqvJbYtc/qwOf6p3fj+N5SqGVHiZsz3MLLaCruwjF6JEivh\n",
              "lFuckzmRZwkjgp+3SheEzceH+hJflmy6XuySjcuWWvwn6SFg3utCi3JCZ2CubwTVUSOpejRz/B79\n",
              "6vvLVarZVKovKssHai6TCHGQDcqLCy4+KfWyxX24GWn/+t39fxlddMqRLYFAHdk06+xnmTKUuvdC\n",
              "kWyswp7cyPskXg8hNv4rZ+zyOP6coichED/joih/40rz9t5lmATTl93zuaIUmm+1umZNXRgWoTVd\n",
              "8vrmi0OtKHfNdKe6I3yJi4DaIQAAAwAAAwFDAAAAjUGaJGxBH/61KoAAs30GJxNugAiMBv35BcZC\n",
              "fo/I8ZBV7djNOYmoF1xnUkBdfVFmt0/GowRC6LCmqschtPvC9PQvFZ7VIhoIlBxstCasBwdDwhY5\n",
              "xd6EKOC7v8VbNMp0tyYcfMVCyAzichahhNts2IPILqQiV/d5adTLgi++gEzuoOLf2E7LPMR522uM\n",
              "dQAAAD9BnkJ4h38AArihNP7awWmi0xACa5zFGkysC9jtwONs40Nzex0scS+i4J/ANdjNLYIWn/Br\n",
              "WAtlgSaHjzj9uy0AAAAaAZ5hdEN/AADzKjMINrd7IOrjeNyqZkC435wAAAAcAZ5jakN/AAPMUQbf\n",
              "LJu6laPl4GWxcobzuv8fQQAAAGtBmmhJqEFomUwII//+tSqAALJxsFseJUxigCFy41iP6iVfZn0F\n",
              "SaO+XnNZi07uM0C808mTzMRwgu9ptbtus+SGt6TqwdMLINAq5X4e055qh8CvvBOALFqv3pvTFYLZ\n",
              "esCJuajTZ+Okta9BgQAAACJBnoZFESw7/wACuOGAdFJ4Td5BrlgGYIgA961GqqJEyHahAAAADwGe\n",
              "pXRDfwADzHyTBT3atwAAABgBnqdqQ38AAeYog4LzOYaQG1uHwY+pSYAAAACLQZqsSahBbJlMCCP/\n",
              "/rUqgACyek9DueysAWtm1twumITpDkPkUmw/lPZdAreVciu6YG3OYg8H9bh/+WjKVp3/eTbXF2q1\n",
              "lf5KsG8XTG9RUV+i6ha8GfwMo1PfMJwW1WyatehzTb6GZepBbt21sbMJldb6LAtA/oFC3NVEyB6T\n",
              "RLqxWZuzv3vHrWjZ4AAAAChBnspFFSw7/wACuKv+x2IoXmgAnWk+7Szs/cls3fLtDi/ZenTkfwbB\n",
              "AAAAFgGe6XRDfwAB5dO+jN3tXgMWzRzN7nsAAAAiAZ7rakN/AAPMKo/ZjiImOAC1l9jWOtaLjhdZ\n",
              "IQZsaK5rQAAAAKtBmvBJqEFsmUwII//+tSqAALKUOoBk/Pjn9pvRhuRXCs/eJYahJPSSjL0B6JDu\n",
              "szQvhNDjx4gArlT6uGIVCWP8uxkLUTPxkZ0wNeUEKnewLfMF3Ay9faluDaBObBHF3rAYYQ8xSAAL\n",
              "CAUxLHdCy20pFjD2CCsMfP+QDN/epD78VKv8eqLXpZ7iJ/d6GFTimvWb5aGwuCR1YNzmg0ckNco2\n",
              "fArPaYJ7af7ypT0AAAArQZ8ORRUsO/8AArhjPDHKCBciQxPTTEWHzVTgAtodVgO0H69pPuY8/jDQ\n",
              "gQAAABUBny10Q38AA8x8kwU+DcFhb46o4IEAAAAiAZ8vakN/AAHmKH44gJguFGqm+ADZADySpB7f\n",
              "fTHjFcCtLAAAAIZBmzRJqEFsmUwII//+tSqAAFl/esIAKcCt97mFhIjKy52i9YqWnRvR8m27EI+5\n",
              "HmdYeT9F1q29d2J3Z6FXN/GzYJYg35Ihc0/S7bP5hdg4+CAgS2TMrQYqGNjSukC4lSM9+B6sm+3w\n",
              "fuU3hlAOXrYj368uF01qkPaVtmD9r8DkvwLb5K9BgAAAACRBn1JFFSw7/wACuC53jwH5W2sMSWVp\n",
              "EGSM46QE+SdhhgLLygsAAAAWAZ9xdEN/AAHl07szRyXcKpKn0agSQQAAABoBn3NqQ38AAPMa2mqX\n",
              "mBMp/2czUdSAn9EbCAAAALNBm3ZJqEFsmUwUTBH//rUqgABZNisk1OAIpfjebNMwSRclfVTQZ5G5\n",
              "5a1uHxVhVj4WQtLtAUrqXqPQrgHLfYfRg8vB48e8Y10DlwTmRCdlxsdAkjkg+J3VM45+7D8exZuE\n",
              "blnI7CiGnHFYVe4JbxsMdK3HVPU7QLqWElCRFzWoV/jxIu89iHSQVuk3IBTB3L0f+BGLaqse/1ln\n",
              "YBKXl6QETOXGz5KihKZ2Qvks7RKLNjLR5QAAADkBn5VqQ38AA7alWLFv2ttkAJGla/g4I5iDUVU6\n",
              "UQJJkiHVLdm8gdF4snDgIw885DYm0qDnb69iaAgAAACXQZuaSeEKUmUwII///rUqgACzdaVCGM/a\n",
              "iDzHkE4RBWC7rd39Q+AwNWgBYAFc8MIDHJdPyYnSFRGrA6F6eDzxljo2u4YOX69K7FqqN8YeWnAc\n",
              "3eyEQd9te6UWOre6Ck96Jk3Q+PSFPu8cbuh21wbOteC38Sq/Q2NAFGPlHbhAqJuuYajLufgfFxDX\n",
              "oBooXEwgJh5bw30grQAAACdBn7hFNEw7/wACsYwNZMIuFsd418vOlj1Gff5GSxUHhjHHTxDpfYEA\n",
              "AAArAZ/XdEN/AAHf6G9QKXidwr7a1iFRlpbvYrFZ2kAF4UuwXnRgrwQddML8AgAAABkBn9lqQ38A\n",
              "A8xRC4WuCaBS1SV7jmc+U6K5AAAAnEGb3kmoQWiZTAgj//61KoAAsnUkWhXYwAi0xfThDux1nRDn\n",
              "NrpsZwNNc5Lvg9Sbg9gf10aACaDK0qlaw9Ui1/foWwmelRTtNlqxnYfveWJVrOSGlaSpK/kPPz+w\n",
              "dVL1ywWga1GwIK3I+aEh26fKGTh0xZ/nOcRc64AjAWjCJtxY3PaXJe1t6rtjQFobfbgqs1oGMW1c\n",
              "Cnein12MVgAAADdBn/xFESw7/wACuJgz8NIUCflc0AK9LZabloWhUjddispzhWEYKzFZGlS7rYuP\n",
              "3oLhYrlxEDmBAAAAHgGeG3RDfwAA8vD6XrJ1PI06z4ANqtLVly63+4SvSwAAACIBnh1qQ38AA8xQ\n",
              "1VO32szzgqPQwuFfOje6YHiCrcOvai2kAAAAuUGaAkmoQWyZTAgj//61KoAAsu/pCArlDb4xDcRk\n",
              "I03Gr5hFjrXSi6Q08/WVaGKLqMde2t39RFSTTWGQ3I+/tKnwUKEnwu10E6UXB/3RS2aapq/t92By\n",
              "ZvJYF/YMxALu3DvUBz1pN3XKZPo8bYoUK/TNI0Nz2xn8CeJtq5ZlI6hLMQVpIwZ8VS+YhlsPMDX0\n",
              "YlNBJHLdfVyL1hLcwb8wHhN96MN9IEHnT6Tk1Jiu/upQxR9yxkXCABVYAAAANUGeIEUVLDv/AAK4\n",
              "C7420KjP1KSj73Pcp5LxXt+Fkljp30WxF7PzYsqiHB7gu9TBc+THEJmbAAAALwGeX3RDfwAB2tPL\n",
              "YmkNCcjJVm3s4kM3oseqXGeAAQS2A++2MSSJb83XRL9mRVzAAAAALgGeQWpDfwAB5ZJebWTeZVZx\n",
              "Sj74lNM+TL6IAEIURo8jZ5WQVOv3lWORqV85JwUAAACYQZpGSahBbJlMCCH//qpVAAFk6hSYFPaE\n",
              "7o44Q/5rrBLvbaf2A+a5f4Y/eIYYN0O9H3lB9ZaO7sIwR0iFoQnW6wi0pB3Od4/ljmqeqHoyUv5Y\n",
              "fDmaFxJ6vBRok2ayCizCOMvI77zYKU9bFQJWsP/fYyP3DaUDNHWwz4x+HicVUKLDJiKOsmPCmhGQ\n",
              "uV17wZhELyAB28pfZawAAABIQZ5kRRUsO/8AArhXpN+u4QX6AFpUYAu8htcXfvypsEWjs/YUIQ5N\n",
              "6MsJqjL5rlUZedDJcZnsKqM7SiG/TkoK2tA7SZZONjRJAAAALgGeg3RDfwAB1lBg96Y8pnkB3nNf\n",
              "1yr3dVA+MvmoAQ4nLm1mlLupQCukUiY4E2EAAAAxAZ6FakN/AAO13C3PFthpu6iOOGkEpP5tNRuT\n",
              "AAQ4dWrLh3MDwc/18ESbWzTjWUs2SQAAAFZBmodJqEFsmUwIIf/+qlUAALNJ7iemqnWgArqhLKKs\n",
              "hpeEj0j3UJCCI1RWM5flZBwQlV25R03vh6ctTzNPui5ZJx3AQ9HlUD6GCWnxHp2pWV6kMSehowAA\n",
              "AJZBmqhJ4QpSZTAgj//+tSqAALKGaO2PDnlpABEHZWpjuBjhKTkEKQZ76FutH1bmjLVwNvcuVK57\n",
              "4LS6Ru+7cYBoCssx24+ZAVbpJuJpDQeZaQbVDp1x0ce+2STkGRALJkt36cvosWxo0Ga6ZGgJONij\n",
              "YLBSfm+lUyctzfwlP3OVKlOIWnrwZNzKwo5GIM0yveVk/9/K0cAAAAC5QZrMSeEOiZTAgj/+tSqA\n",
              "ALN1pUmc5noAfVf48LPdPH3TluDbDd5gOGn3D3VDteG8xdhkXAI1TXk/x7re7SxIg2XOSHOJpbkv\n",
              "7Vs31kUuJOMAr8qb2lmICHVpKvJhVM8N2ezdJ95XoWdLJdGoLPsu1W2mnsXC1YGU+DNaopfuzT2w\n",
              "C12DWvZO2RjXYuHaCS6JrysMxMR7VXnz2zXeQ7cJ/jUEg0oWnM4LI/8Qz+RSzUq64Y7Yn6tsWKYA\n",
              "AAA1QZ7qRRE8O/8AAVoOD3pqBRwfc5B2QnJULal+hpKFfwiEMVkdIKSdAwAJhjl+nFhwABJ+tTEA\n",
              "AAAjAZ8JdEN/AAPLZFlqG+rvtndKfKyEqB2lyMyfADwIPZ32P2AAAAAgAZ8LakN/AAHmCPUKbUZ7\n",
              "i4thBZAQlQ3i5ipyejv0CAgAAACcQZsPSahBaJlMCCP//rUqgACy7Lk6ICr1OCSxbdYOa/FUh3KS\n",
              "/mG5j+6flOPXxBJArv41lnWnAkV9BKfespeUfcq8UTCH8k8m7Xdg3RpBTZsjrq3RasmWwJEYrMo/\n",
              "oV/9bC8V39gPtmpyeJ53rmxsvysY2+ZzWCrj4Ixh7KblL4j4WM1wmmFsuOhwH7hKOOddNO1joRUw\n",
              "M2jly/JhAAAAMkGfLUURLDf/AAHlsg06aT9xCVHgNbU6XerBLmVpo0uvMaAD+dSGqFX7DkhR9uNg\n",
              "/SVhAAAAKgGfTmpDfwAB5gj+yb5zGgyFR8Bbd7vAGIAQfGyX8yU93t/WzyRHDK7XTQAAAKVBm1NJ\n",
              "qEFsmUwII//+tSqAALKPtldlx8k3mFAABwMq0yka/WLI+PIOG5oaJA5zEVPlbKlxVftHHH6QXpZu\n",
              "KzD7zn+xfjeesqyEIf1Qx+QGJoTVEOxTWFwY9woBHnmVRiyrYUc/FxuwMX4qy4MI9LXMZVyDx9eU\n",
              "Ogp+87Gb9KwR8CjbhRrhSfZjuC+C7apYJVdRTbAnuWI7uOAemzHSzelu8b10AYAAAABLQZ9xRRUs\n",
              "O/8AArdpfasg+mlQyGz8ABdTAAM3/WegDctm5qySK5wKw9GleZSdX19SCwmBlOGm9kc03xQ9Qy9i\n",
              "AU842ZDNuREJzl78AAAARQGfkHRDfwAB5eExpHoAFxz2vLrXu3I3NBJ9igABTRUCDgcPuiuRiGX6\n",
              "CzfUS3CxyZgTPv2ZR6Yh6hzRT1t/+bIwTjk9IQAAADMBn5JqQ38AA8otaQPjp3VaifmZAC3UW4lS\n",
              "BKuI1qg1RJRsyeyGMXH0Xko4kjJn5egbMAQAAACjQZuXSahBbJlMCCP//rUqgACyeZ3iws9tXM6Z\n",
              "lgBFNm5pR7YqJRFTfM2sYIaY37b8dv/PtftCb0QdiBH2OSzBnG415WWIILeeip5p4r5TH/Frrgj+\n",
              "xTZ48cG+0HTWNrbAqN0S69qI0xzEbRzIVsT6049ykJnmUR8Rtnw7IcWp5gEknMEF+uQ/zXfBVHBp\n",
              "FojB8jRkDQFAi/0EmbpMEtSt7agDYAAAAEBBn7VFFSw7/wACuE4Qq7d1XBgOlnnYKtAADOsfsvgv\n",
              "R0ymxXL4m4awIvT7M97dx7K5EnAAqb4eQlbLeth7ILRJAAAAJgGf1HRDfwADy53b8IZnxFVMd4Yf\n",
              "BToxHMt5PBq0Ss81+StKTBLAAAAANgGf1mpDfwADzEOL8W7iKz5HvUAJassE4KYq/IMDN7lUQTSV\n",
              "44FbYMohwlb+o4LrreLmNeLH6wAAAJpBm9tJqEFsmUwIIf/+qlUAAWTlya+oC4WPbOm7dq3CTz8X\n",
              "ZR2u9pNGd78XOuF5nRFUqeB5Jg2jjpuk/5zvRSFTioaGZQ79J8EzwaQO9ox3ZJLK+KZqc/Gm+6Cz\n",
              "jgcEGRKMWD1Yg+B7KFJE/MYvOvrsytHb+P7SNXvfSmOBL0+zr4Ht3xxxrE+XbYJIDso99Qa0FUWR\n",
              "GuuOdVhHAAAARkGf+UUVLDv/AAK4pDi+AIggciXyJzZL7z5KXGJf4J1DKUFPg50IOy1ML5wtNRoH\n",
              "EdfgZ9EBEpsoe/d1cdP6INozNYmZibgAAAA+AZ4YdEN/AAHf8dS53d2J8AFxP6TslyrrRACWqAAl\n",
              "iQ5piF5C32Y411dZv75zxEsS8fWZfpqE9E2FL/iag0EAAABFAZ4aakN/AAPKnbq1E7KcSwAFhCI2\n",
              "EOS/QFwO8hdtUT+YbmRLwPwKnOMEPF9Uix/c1VyDTqJ6dyszpuZ7LeDmlmV3EjYCAAAAukGaHEmo\n",
              "QWyZTAgj//61KoAAso4IFklsR/LcI2l58PYAQ+v5fHldmAejzPPj/71pbTyXYuKaSOt7mEDW/xmU\n",
              "584fawUbHDK0iNrEHxWrkx1knnIzAKZbwnLR1fvTkdwmFJwRmWrHNkF/8/OGPVfMJdY+jsz2L6T/\n",
              "2vzSAQFoy1vDqVLcP02j+HR8pWwhxRyVDXqMStwWJH3sSxw1NDI2VfMHHKYnmfw6NxukJGDo2G+/\n",
              "xi30JloRo3+7YQAAAJ1BmiBJ4QpSZTAgj//+tSqAALcRB64GN8wyJLSr/8N3M8SM6hbmqAiYR7H3\n",
              "AyDuhUkh1b3SFeu8nyI0cDTjSNLx25ALixQ13VFFv1kjD/uM+0vSP/QYWu8CxpFYvlB7Ung5ARkD\n",
              "Sd+VVtcLAzE7NNK/mk82bHOfOhHXLdtqjZfIdbz+9M2RrcMfxsIqCzZ1zxYm/fz/yz64FCSe562z\n",
              "AAAAT0GeXkU0TDv/AALKLrSzesUAHBllClGjGANkp3eb+PvQb9zgxb9iHMjP60cIP8f81Mx8wJrH\n",
              "jElWTuEudFNUzidmDEPjQBRVXiSY8cAtRWAAAAAxAZ59dEN/AAPhpvcUuVF0AQotr4Q+tfZscW9B\n",
              "rjRvnkfsGgu2XlaPWfhc4Xhv7i4sOAAAACgBnn9qQ38AA+Haw0AsXrHfS/8MBn9nVeTVYLeXMG3v\n",
              "FUEfMzApYU65AAAAn0GaZEmoQWiZTAgj//61KoAAtw8Z1Q+bWYsryZg4AczwB+aKsnnv+TP6Oroy\n",
              "WBfbHFUfYXLScBRr9W/7p53ft3i/you8j9bjb11dtC21D/bynAqWIcJpVPYAziJvGaQ9UX1yyi7l\n",
              "MYZMvDHkRJxdV90euIbIRV3f6yzvyOY7opsMX6LCxp1CkrZfKTlCHkgIGV25v+JYB6XznSRJ+bQi\n",
              "eQAAAEpBnoJFESw7/wACuGNat7zTdGIHFwpK5ADY+QMuMdjJk4g3aWKbvOBbPNJh3ak7G76IEULN\n",
              "eBE8YWyo67HM3w+F+4dhfPGWHl7LoQAAAEABnqF0Q38AA+JfcnRWEtX0yWHdXxHX+iu7ih3mvdCt\n",
              "OEQJMcC/B2JFn+6KrBEk3T+7j4AHO16MmFBD5ymWh4uAAAAAPAGeo2pDfwAD4ciWoilUAJM1XXYa\n",
              "5fHKSPpN3v/o+VZILf61/mJrT9kljUJgitsroCgWooTGvNy+SsaZMQAAAN1BmqhJqEFsmUwII//+\n",
              "tSqAALcPQ60N06BgApv5Z9J2NSxNwh1R7/BkIOHuFXJhCoQCvfkuch38ilY4DJM13OW4ugk5Ni6l\n",
              "dDob3/UwXwNc9wKVoNC81OcUnK1vZ8xOl+G3/LmRtrCMtape+/yysamgeG/lv9Aindz6p1k6ckb6\n",
              "AUafGvQKaKuPGfi2xalOhOlP8znImmD3LQHLELIDwV9B8NqGEeh49PpjPIFPcBFUOWTSFoldrGSJ\n",
              "IpFfVkabEHkWi5+KjXD9r/uKQt8jfjzrdbEIKVFhA37sQ8Ua1QAAAFFBnsZFFSw7/wACyk4QOaDO\n",
              "GjiZB3DWKXa24tQkAK5lVmRCs2fsClwX15ZVSDXQ9ZyR+oEsXlvMDofmwp1M7PyVaNf/zn2Dyg8d\n",
              "jEuA7WJqR10AAAAvAZ7ldEN/AAHxVLigNOVj/Nfl9l8DLFLw4NW/LYANMt7VCnCDPUA7RLF7ihQK\n",
              "/d0AAAAvAZ7nakN/AAPin5gc37aQA4i5HQrF44ECuZBM65Cwxt70cYiIFhEPxDUIJSjbdIAAAAC9\n",
              "QZrrSahBbJlMCCP//rUqgAC2+ZaSuyCsK76yAICAPhGiYVjCve5UQ7Bd0vymYqPp3b3VqMKp8Ar5\n",
              "Tt/mdnOnokcGHVNqm0yTS1szSi/ZbHMDVGCIc18lO/6tTt3MlojOQo1qSBf9l4eDXed3Ea0PXgrz\n",
              "/kJGI+eOFDbPFflAeVyd8RFJg/eD6jd0MjjGdhRIWkgHdBF6PDbNqUIYJrjxyLfGtFOEm1TLj1Cl\n",
              "xGDichFJ/1lmB5k5NMwyo+8gAAAARkGfCUUVLDf/AAHxT8uky1AHr1ERtTfo10s6PWTagurqr7EP\n",
              "4vGJg8vC4LMQxseIFrBEpmhIu/P6dz+6AqnNzRZHTsc0pMEAAAApAZ8qakN/AAHwk1EIsvkLv1Ql\n",
              "PCSKeIOwJfeCoZQAhQwPTY8tNOQ4x1gAAAC3QZsvSahBbJlMCCP//rUqgAC3/QYn5z1o4AN9GAKJ\n",
              "XgQFqsfEvfo72+NIooA12zJdVqOA/0kvd7IG8JzVXgOlrFYZ+LdGYtfzx0Z/FBoPUKVgbEPZZ6tt\n",
              "19QGyZLmIM9P/9fAjzNunKr1wQdftVD4aSSWxvCw5dJU2ZWpZRw8YR4ITRIj50Ab7wVNraBVbFQq\n",
              "osERxAwZpMuBxtlvMKq7Xq+elStzPW5osb79OOm4J+pFP1Jze9dgAAAAQUGfTUUVLDv/AALKpCC0\n",
              "K37cAHap0E+WmQD1Wbj3RkjDMidEywUTcTlibHr7PykrU5FtGNuvsf/nJV4TkhFuO/e5AAAAKgGf\n",
              "bHRDfwAD4mcQPLmKQbR4iSqAwuRwAsAEOKAZIE2/7hy1Ox83T57MXQAAADQBn25qQ38AA+JQ9p4I\n",
              "73dBh/hHPvu3bH/zvaJ7e9MfuQhAAIbjHcZ7teWhANJvXN/r4qxNAAAAxkGbckmoQWyZTAgj//61\n",
              "KoAAW+/O0utGIAiZHl9PaA89ixE5TUxRBUxw+jPXqe/DaTcY2mRZ/zbBVWaX1d6SaKlN/xtZ6rjy\n",
              "juF86xkCfJJ3FiIr64BNZNh3IC2dIwj6EI+UAKADy+yMQz4JskEtf8MFkXko+r6YWakPeRAXEg5e\n",
              "9T6OdHDS4ycs4vuzkKa0E3lhHuTpnsej3watr3vaq8wN8xX29L5FMlb0PCk8WXsahW+Gmfmlz1+j\n",
              "v/NUvz56pCpnnsH/MAAAAD5Bn5BFFSw3/wAB8TW2weAAcOmp/1zwCQQvYkZT+LbOawlfa8GyFzEv\n",
              "LIrVt8J6v0vdyHzl2ZC164BG5YLH7gAAACgBn7FqQ38AA+Hb7vyzUDTEAK7WYGV7Kej/EhtFoBc6\n",
              "LHY47t3HTivvAAAAqEGbtkmoQWyZTAgj//61KoAAW7o+q7aZMAKn8AXWxthKVV89G3nQzVHa01BI\n",
              "7aa/c40ZdsN+eLvIXGfG3g6tW3CTCOqAmr5HelB0nQJuSCd4ehhtLt27naC5hMnqmZWkVeM+fLB7\n",
              "CinVFvUfIBCDDRVNnIGT8qRIB/JYwEDSr0P6SXsiaaCv/HUgppUnfaSYY8L/0c/fNXgGvFgcREMn\n",
              "muh4dbPnJ+E1PwAAAC1Bn9RFFSw7/wABY2c6FE1XwGbNqD425y2ScRr4ZG8it9o+LgnYWKHPNhpU\n",
              "30AAAAAxAZ/zdEN/AAHrHhwCqcfZ5OwFp9JD5ip3AyjYQVSAAgHQmwGD3ZAqKLoVKNjJ7wFfQQAA\n",
              "ABwBn/VqQ38AAPia0J9WhKYsKaScTHAsoYmbQuZIAAAAqUGb+kmoQWyZTAgj//61KoAAW+b+zN/A\n",
              "CHyOTMH6quorAaLSfcstHjkg+ZXDzRNDX5fD9CKcq88uA3bHt+PNO/zOtuNSO8qwYyu7ch8lzwi+\n",
              "c0X6tfCzam9WLZQAGfjfEpu+Gj7qvSGcnR7tNGX9InbJBC2ZXJUsCSagkjPw4GjBT1zP+utuse5x\n",
              "Ht+rmkfaMZgkZwtIXu7W5/kbGTxGe66MJkjpOf+5IgUAAABAQZ4YRRUsO/8AAWSm4phYWViH4Ham\n",
              "dV6a5w98lP6T3ZAo5ABuB25QLjeahWAd/d2xXpJzmUEPb/uBzcWCtxE+gQAAAB8Bnjd0Q38AAfA1\n",
              "HvLqE+RJriTUJmkaDuNpNYFiFIWzAAAAIAGeOWpDfwAA+A6xIwVhbcUSP7f0jtPUpZ8rwwqy2n0J\n",
              "AAAAiEGaPkmoQWyZTAgj//61KoAAW98oqk8AGoYF5uogYynw/f7OKw/zBcP1Z6QExaUI3Y225PRF\n",
              "MiJb4p5DKKcuPsF1dGH2YLELP7efJps7JCLKNxaPfFr6j2OMZcHscq0NP4CYe/frwa2Bj4oiQfw+\n",
              "O+96vNavpO4uKnQsivu7XYXLlosGTUHH/MAAAAAiQZ5cRRUsO/8AAWTvRIeRRFYr/EIGNTa9M1si\n",
              "nKJG+w4s+wAAAB4Bnnt0Q38AAfCfyGISEFSlwn/Jx8iUgl5C5Vyn84EAAAAdAZ59akN/AAHmKItz\n",
              "UrtjKr6XAUvh4QvcgPyD5FwAAACTQZpiSahBbJlMCCP//rUqgABbwZqmApgAqzPeKA+9G27PqzbT\n",
              "OQrbk36sfpcOZseXb/52NaLXb91bj3fRurb2gbe8zj8dhqURWmZgNrIAEUuA0aU8UDpmg5Ia2WjE\n",
              "cYLKFxe3mBLe5AO5Djpfc4FjTiV6z+Tct27ceTOaHD1ULJmXigh1VmYYLOkfS740v2QZgrD8AAAA\n",
              "M0GegEUVLDv/AAFlQ/JIsANLbzcJl6VLcfmn8xOP8c9ITGwnEA4MVYwf3Qg8aJaZL1PCfQAAACIB\n",
              "nr90Q38AAe73/0Ce/GUHE1Kn/zMd+XBgda3scgjy622AAAAALQGeoWpDfwAB8KZrsMukALQ1uZqz\n",
              "Fd6b4Bo09zAPRomRsjZhICGgPStHLtrawQAAAL9BmqZJqEFsmUwII//+tSqAAFvPlokb0D8AG3xr\n",
              "+t9BpZkQpoz22BEzdq4MlEp+cwk3wyJIUaRnVT9tOg/Djq/nKLdnJUgB5U2SvJ9eTVVJyJu1I9mS\n",
              "HdxOkSAEb4WCm4Vg3bFjGrwaPP0ZCL45Y79iNHpDHA21TZlg5ddGKW+/rJZH/9xoWIBzf4hdyWd5\n",
              "6pgHn2HWL1OKvau27AVapEekuCQw/QFGGg6kMwxOEO3BDfQutkRjaBErB5+nJdX4QAAAADxBnsRF\n",
              "FSw7/wABZGKa0x9u9cnV4JKcBPAGSmLdziG4xtaMNkgSbQE3TJsPM8zAobQveZU15XeHTlapj+kA\n",
              "AAAcAZ7jdEN/AAHwdTQtCgTeUm0Oz97WO8f6wmukEwAAAB8BnuVqQ38AAPhVweNR4Yjpl4Ur23/m\n",
              "JPgU0DKoBaY/AAAAr0Ga6kmoQWyZTAgj//61KoAAW9GVugfLIlwwAcJFIiLw1s6RBHUXryobjdf/\n",
              "Ap6FsxJuEd8zkPYrGEUPUgIOC2m+bps/AsHg+xyTyCwJyGzR6xaSAILTYW2cJruK0lnob0zoFybQ\n",
              "9+XEM1trL9Y3S2+We0lTCWIoMP5JImie4b+awK/Qsfv+m8eNySRUNcdEpYM59t0luXpT+Z+nlSKl\n",
              "hWfi9/8uDDs7y6Dnh3VUxqEAAABdQZ8IRRUsO/8AAWTX7HBHj0AFpx14+71LYN/I/NDhWPaUJ1ez\n",
              "AydYB8BuID2Ug1g/zAQmrT+/YKgrkd6+j9xNMhzJ3Wzt4HtPuS/6Qnq2NDOQ5R8a8N7HRinI71+A\n",
              "AAAALgGfJ3RDfwAB8C3rpY5ddEStECwP2R9JmDCdN7arRMnx+DwNtAAO0AHShYfB4voAAAAyAZ8p\n",
              "akN/AAHwsc7DmGVLJa2PcIZjKKoNjUAJTZ+kT07mLXbpnCDHi0Vc8TxHzyjoWYEAAADFQZsuSahB\n",
              "bJlMCCP//rUqgABbd/pf/lv1SQAlVDQ67hEJxY3LyrnoZReWo1Ol1vw/VLwHLypYdZIwnH+ubGih\n",
              "fEBcWBsXEdvdJ9La3fRjQYTIu8VRzJ7St86FXj1dyjeYDX1QBKMkCRumuKwmUMz5XszZetWS3qSh\n",
              "kp05ysMQ17HZEIpe39MJx1i5+0ZXx1eyg45PN4JIG0qF9l5k4hFsLNEdlW/nHzUeq26mZQbxo4g6\n",
              "IDJDjxH34DfjhNsHotV2NMoNBsYAAABIQZ9MRRUsO/8AAWRwHnDjvIxPADRYCMT1V0Y1L1j5cbHk\n",
              "ktwcbhGVV7X5/nlzQmhm9frdSZvgV/D+3/tGfBm2xpwiScSlD9MwAAAAOAGfa3RDfwAB8TDHwE2p\n",
              "R2yvt71rYACje0z4Twecr9bf60Xe9nNXvh7JWASL4uwpB98R5T9NuO1xAAAAJAGfbWpDfwAB8QkX\n",
              "HNlC7ulGHSHKn2lcJrXeov5XgrctuedxZwAAAMNBm3JJqEFsmUwII//+tSqAALJ3TpICsXlXxLb0\n",
              "rzvkPsdPaZFxcL4BbjkKwrz4JyvfDPIvaAPC55rBrIewR3NkR7Mv3neIYyoi+HiXdhvEm62uh6BY\n",
              "Op0eITRsg5mQx/BsLkdhFxXoWcZIA7qCKhyZeMdAXMMbmfMjKcfwXuEzHgfZyDrk+iB0E0WKU75f\n",
              "bl10K6jIdk/xpF3xV9ZFk1o/Y8VWRkLvaeX1IdGll3ZUZY5wqNVrgN7IVNXYlW5UeJkHed0AAABR\n",
              "QZ+QRRUsO/8AArhI6wXVWKXwJO+AA1pHODZuUDVtTsnnN3mrTAjFJe3X8OnoubD9vMoAo5NrOpDH\n",
              "/BfUSUCjHt13hhtnrsUn2QNOwqZZi5wgAAAAMgGfr3RDfwADzHyu4M2BJ/wPQvnbXAAtI5CMSHF0\n",
              "fRvqNJPA60hpOD07k2prKCkQwKLcAAAARgGfsWpDfwADzFEW0XNcxHEANuY4Y35rVvDefDka8KAx\n",
              "QEZsTo7a/XXCatuPeN/Gdhum8Iu7cSj+nCN00EpiG+ZfXH+Cxm8AAACsQZu2SahBbJlMCCP//rUq\n",
              "gACyjkxWEsVOnw3ACEHx0jKix3ez2CaUhMqDKFDJpT81CdH27j8p76khrmomcSPGXva91tpZQMYj\n",
              "kHzhy/9+T3gphdCRJuSCWy/3DnSKB7BbQ19Pfpgvx3vBqbeI5UT0EYUkUaZMrK0kwKv+S8acbU1v\n",
              "FUy1wOj+yLlcZj21qdqpp9dwCXkn/PnRdTbb8xHCiBA/qMC/HKTkO9i8yQAAAGpBn9RFFSw7/wAC\n",
              "uEfoGDevihJAAFp3Dq2ZgR60jACOIZJt4gmpbwIEWfAGNXrkg6DSt6e3VfETjSYDhI3YlWDvqxp1\n",
              "ZlgRO50HRiHSIJedu79hsNYJ5eRbNiJYJbFxyyzqYJhdEAJKOYlgAAAANgGf83RDfwADy5oH+tqx\n",
              "9dj4ikH4utqUK4+AFZdjF6PCy4dZCjfa+wjgYMh7UWDb/T4RlQlEsQAAACwBn/VqQ38AA8u4dYtn\n",
              "zCLmxgCrXCvPrElvSZS1JdHYiSCN9xkkyOICSuKNgAAAANNBm/pJqEFsmUwII//+tSqAALKOklWg\n",
              "D99NMDm639oCmsJFHyiMyGJD1LAUSbIOD3iPy+cZItdl1Zhf0pPeMCeT/TCGYcrirmHhsUHagz+m\n",
              "1uXnFmF+syvNXSbumMdVYPBtx6+FwfG0CANhWick8PtVM45G8w8tgWSm+xpINkql7tUZLAzq0Jjx\n",
              "WegW81hYe2qN8hJrvbliqa5Rq4vrRb4xeaVm1R/pr+9WsIG8BU3Y5Fv6CIxYXRpWNuItdJnXfNMb\n",
              "U6pf7a0UhlqtmTVnZ3Zz7jTdAAAAV0GeGEUVLDv/AAK4S1X+nRO55wAtlR4yYimhkCXFFy+B9F/t\n",
              "g+7rmsSj5eNZIbM7ruhUI5DUk9peCyBrj8g9i9luqBO8UVljk+dPPqBjmCgWZ/pARceoQQAAACYB\n",
              "njd0Q38AA8uL7R3I83dd7ecvQ/8qj7FFskP/07G/zV+zwrwYEAAAADsBnjlqQ38AA8vBEyQ3rtzR\n",
              "hEtAAuS9wDS1EdvtRI1BZldjNaJutd+X4zGRUA0WVG0X3gB+50JsP9j+6QAAALJBmj5JqEFsmUwI\n",
              "I//+tSqAALJsX0p3kAqgjM790g1fl0MVFsyOS+Dsw/lD5+7KuzDoP1bnx5tnpkhB7rxlMKSa/5SH\n",
              "fh76t3CwlQKa7eB2bszxX/AlZQgO/la6ZquZUGKrI0k1pvduH8Prms2ebob0bx+XrSHGtuAKpUKJ\n",
              "IkvhObQMlJCHOoSGA73T28+3OiQsD4XJ1OJeV24ThIheHfNymBE5hbE0VDyrS8QX+sbLkHSAAAAA\n",
              "XkGeXEUVLDv/AAK4SOq2w8Vw+VABdV2eIfVEzuVmr9Y76syFC/gmd+wRSS6V5VDySEZ10o+fB5CG\n",
              "CgyJ8nkmFe5Vc9paTRPeTwvFkQuqhLqmyXC5Nf+C/Sd5MfsEpMEAAAA4AZ57dEN/AAPMAlV7VQa4\n",
              "nAcgkD5RyFwcyfgJsyQn8nUFTWVcAAOt6GT9aDDzMbdiEH/7H0z7DBsAAAAyAZ59akN/AAPMQc+G\n",
              "ClCbocD5L9udENKm9qyF0pi4VxZeg0AYmg4AOJGDke/vA7+lhLAAAACQQZpiSahBbJlMCCP//rUq\n",
              "gACyjhG/QOQY/X9pTymG7NIJvzABxvoyEmf3xgE+h36cCcSmClelmSoDbVpss0rEMB59luUgaSta\n",
              "RJTcZmpIOdAjrR8aLDBSIFt3OsJZZmIYKgaLKekhSYh0GAcg2AsU1I9OLOTXCJt9GObhZyv5DjPD\n",
              "dBxFHLaMjc8hncP79P/fAAAAa0GegEUVLDv/AAK4ojwyXhx8l3uAC38YoKiv2aXf/9DMTKJHF6du\n",
              "iGPbiJ+f5y61OA+TQT4PzaoNw58D6vcy9OLUybxz3fFyRCngImeq7qH7kzbHWSOjVX0Tu83CF0LQ\n",
              "U0REX0JuVQhP9HGFAAAAOgGev3RDfwADy5NmtkY+UjEALZ7UmouPIuWN46IYMl7OQ17KxvFszV0N\n",
              "zKBFClvAvji6LfiftT4LLYAAAABTAZ6hakN/AAPLwPp50Jy5hnwDaQA2fmADagINr1NNDOUg+Ax8\n",
              "4B3NKH9WkbSlwvzE4gsfYDquH8nAYw50uxqN7v79hUFxLzqpqkraNATba77oRKEAAAClQZqmSahB\n",
              "bJlMCCP//rUqgACzfQUNKaFangaiiRoFfYpvuOYBsEAJ9v+1AC0WEYPd23zxi881wdbbLmboSaaU\n",
              "Lmi6bRz2nZXDTaRtP4q8p0oTnCZgimsYCRu+TP3+hFFv9CO+OoqDtD1XXTn7af4x+0+/GanrwxRv\n",
              "ukkF1gWsSc5XveUEjR8cUNsNSxOHdRmdNQf+bwIHV1iXBUGqaT6kV9GzgcNwAAAAW0GexEUVLDv/\n",
              "AAK4YpDK/We2QVfX4AV/WlACUqtvVbbUb1TgKy/rWEXOksTHvccs1Shut6nBY07M5L8GJzlVPVn5\n",
              "vLR3XKgV6qAZTEFOBVvXT0CprNwQxf3mMEsAAAA7AZ7jdEN/AAPLps9/ojxokDkADifA/RDvtqVM\n",
              "Vikcdv8cHB0HZX+Qy3qNbVYC9vV7z3K6h8W3TadkKKUAAAAzAZ7lakN/AAO1wRfi4s6Uh1657z/c\n",
              "uMa+0gC6Uo7K38wQwY9vouaaHRNHQXQHREsot3zBAAAAxkGa6kmoQWyZTAgj//61KoAArg4R1knr\n",
              "/wjLk7kNQBGfbS6B/uYa6I/lT3GQC8jU14xDfjv6q5sxx+rzXlw9RXfgDwInDzs4rDPM8uciDdl6\n",
              "YP8abdH0ncZZ5ywik4n1WxgXoRoSt2vQgefxwW/CoGPGROQWD/9U3I78JGck5n3wdN+fP3Um4XMp\n",
              "gIVBqefDz9NhJrHPIebsc2pZy7oQxJfUNex/VnMPMrISfx3HpKfQeDoW5XX09kMtmtUWcM9vNx3L\n",
              "6eu3kQAAAFJBnwhFFSw7/wACpsGbr5g2P/x44rhACPxz3TJVfQP/XXK1GPpyA0mPwdOFSMNMtL/o\n",
              "BTu3yK3oOVRet2RrUTUAgYIVUtBr4H2cvq4od5GSWJmAAAAARwGfJ3RDfwADtZTSSsRIuGIBGu7B\n",
              "nv2KqZLHsmgHr8GiMb/fnmLd2vjD+iuCWXUoC3w+Fta5ANlG5k3Ww3mhAu6Wqkat7ZJQAAAAJwGf\n",
              "KWpDfwAB2jFxCe1FANsG9BZxT/DZuP4w/CSmJ6gjzJ8j2Sk/8wAAALtBmy5JqEFsmUwII//+tSqA\n",
              "AK35naZgJ0DODcHmKwczYAbbJIEA/sgzBCmL3CuU8h38FNROwux4uinNibwP+4pm/wMKFtxh8iw1\n",
              "khE0JxsQeufGXX/eomktW+jaobaoQMqW5W8RJjWyPV8oIJ+LvO25y/42CH44ZTgy28qET8VXwxzm\n",
              "OU8LqgArD4inf9e8RrWBmvkfPBpnIeD7bz4Qbvyj/5sGdmXoeuBpJwxGXZQ8tivibIR/e0j9QCOA\n",
              "AAAASkGfTEUVLDv/AAFR2/prFiu7AALrYeQjzJ1bvz/pZGmBGMz+tcRUYc1WC1OYqIe+wnUkKX8B\n",
              "ITYBnkdUEITVyruZBCHXpWv1QgqAAAAALgGfa3RDfwAB2Gp081gZfo3AALrYoleF9vyuiWbQ0azR\n",
              "kwm5CbAPjnbe1XIyOsEAAAA/AZ9takN/AAHa4jv0AAuoAAH21zQotuHz/Fd59AHEdA7pV2edmH1i\n",
              "WL+MMjNjWau0fJd3ZAc9brWylVVH0GWRAAAApkGbckmoQWyZTAgj//61KoAArvWlQhjiqHtbniiv\n",
              "d7VqJrbb/rMWuQZ4PFC9fPYKbGILTRCSIRln2V3j5Q9sQ+Ut2BLKKYK030a8xOpvZKT+n8ktw9m1\n",
              "u6wfbpm64XIpPVfQrGN2Ab6dH+q8cCAiRK+9QW6K0+vXroG3kRtUoV84EIBFzZ2HLqrpjltsPPhc\n",
              "s2YGXoAqc+9/ZznrvqYTXS2QIQvnFGkAAABIQZ+QRRUsO/8AAqfmoFPWxm7d7rpPq/eqHEMCH0BU\n",
              "YCr6DGkR0wJRtRArIb1tvVGoOhb6YaZ+sb4DJT1kusnbGliTGmedoe9kAAAASAGfr3RDfwADrBLp\n",
              "teas9CznBs+7UAJaoABjUB1dcTHiCy/JdXHcJLCzPmmyrShte2VQZpa79SsfKHLhcej5MDPmFX07\n",
              "ufZCwAAAAEUBn7FqQ38AAeXtOyPbyneOwAlmAGs55OG+CxHBuXLcRVimnVYjy/7Y2wrAWa/qtoqY\n",
              "CiHZTMzlzImwsu0tvfKvUPtTVMEAAADLQZu2SahBbJlMCCH//qpVAAFb5fOFXok27uFQAqH1zlmQ\n",
              "JHcja/3MDn6gh2tQU0vggOX+7GQm26M6DA3weI26WKVA+ZLhzR+zkxdw4R560UBJCtmT6/llX/gg\n",
              "LHlCF0Jf9OplupKJA6VxQ0JdxdtZTeYcpyExFBBXfUPjJpu763uDXXVtoFbr2QPfXk2RthCi0D8Z\n",
              "Gshs6dae2ATH4RObi1mVWiYqsq8PRUd9b1Js+ztpznM5UguQ0zKOndL+FFM/Hy+t7eOjbnecPWAA\n",
              "AABNQZ/URRUsO/8AAqajyVIykiFFB5TRgnJ2x0AJa6WUE5ySwyI17wrg3L2C6h3ZqnpqPzhQol5s\n",
              "FfDxLLDm6IW4RJ/IWsDMAZBYmjju+SQAAABIAZ/zdEN/AAO2OdntlAAju2A+HQE2hV66rkvKK54Y\n",
              "Im4/HkOui4SJ9ahWQvxAAcNCJ7Bz6OTOW82wqQUCrR5GauktNozCbWXTAAAAPQGf9WpDfwAB2uMy\n",
              "K+qsW/93MnnrfXE6AALqAUZG7ZHZO0CyfavLuiZZ+UiGhL+JsOXVh1aOqHClNzrrHzAAAACiQZv3\n",
              "SahBbJlMCCP//rUqgACu/QYoje77eAwAIZPIlmx5Kj99nhvhrFtcb8xwRGRztgyPJlGO6zeK5QOb\n",
              "xKLc6IEsXf7j/wf2kayJiDpA39AzCMTEIzZiy1X1hVdeAg2lgcQLULo57PWSKPrSxVFbEdZOguGo\n",
              "ZYU5MFxWKe18YGan02+G/Gu/2PHi9Via/2lng1AVR689XkAJzmiU4YaLp74ZAAAA50GaG0nhClJl\n",
              "MCCP//61KoAAV2aP5eI3lgCGvRsVh3P7RNzGxsOP6M/LoVkKFgLTo4DD5JZcFO57PpdfGS9iXpa4\n",
              "5jdc0ACGSYMeOikwEoCN6yeuxX3pBe+owU4tp6ZDx7op3z9vu+MxMVFLkc7qOEN8TchV52/ewJ5r\n",
              "J/+Raf2xZcNAu3ZbD9UXtEBn6/DvNvcZ9bNlbieolTe37dmrFr6WS4IjTeutqGESiIh/j2Mdh3w/\n",
              "IVduQayUyAgsOzQrDo/m6SrzvqAcBZLiIoaKRMVDelgi4kvslb4siFxSuuae9ISsxQp7HQAAAFtB\n",
              "njlFNEw7/wABUFbienb82KYsALGSnPShnto1Ecy0IZzKmTdCoe4rjF1Y4Zo5pZMQ4jBojNNhTWJ/\n",
              "MshKzT5HvnAFh/Yg14vLc14eLbk/AhqZt0vrlqcHrVSAAAAALwGeWHRDfwADtnxPm5U5ivYzNyqW\n",
              "S8gVfi5AkUGX9M2X8i/gGkakAG8hHWiDc3WBAAAAOwGeWmpDfwADtduujnanBr8Dra4tER+VVb8o\n",
              "b9s4yKAAh/WJIsVvI4VrqOmQmIR83wXZcb89pJl9qctgAAAA5EGaX0moQWiZTAgj//61KoAAV2Ek\n",
              "7aqkgBtsKVtIbmL7OUqdwA/Cs6oF/IK7Dnk9lPzUn4+VtKero0dgWVTCVdgKxEL0VFKuIlw/e3qd\n",
              "6OnbOqMM2bxVkA83Xg0IYOK+NrEA4MCwMVqPt7fimfuB/+GYvQA2dMx22fPD+6Jx5oika1fQm2jN\n",
              "7WCglVTlrfkVLykSv6irq0mOKkjKvN1RdHKotcccICutaeHodP7Hb7TgOvQTZZtjMQKi/rxmBT+y\n",
              "xGpoClEy2IGZLuuS+V4geqn02TclxyIsFxB9D/RIpTGLvpTKkQAAAFBBnn1FESw7/wABUWcYItXH\n",
              "CwA1eC8i4dCjVYYieevzwZZ5HZV4n5bACS/SYFJNJcJUQX2QN9kX9oSKtWdUN/IoNWPGYada70FK\n",
              "WMiY/wiNgQAAADIBnpx0Q38AAdUq3cUlwAC48dX+TwT6RE8/IAFPQpbneiUaS61EcDUJ8qAwpBau\n",
              "9gLmwAAAACABnp5qQ38AAdUq+vHA+akvdZVMXC0rF0e/ahP4hMiNgAAAAJxBmoNJqEFsmUwII//+\n",
              "tSqAAFdS10+rtoAQjE2DzgcMkRjvOx6eaVjT0ScyqbXRVdOzv1R95GHBbfWAJeiACYSEisJvUXEi\n",
              "XdvCYKOvm5pMXGjrGySzQB/lQtuBMHTqkGBurPd3kr0mfAujXDWCg8TanRls43makp/fTGnAhi0e\n",
              "on+YzlXRtXktkhK5hn/lu0lK4sz8JaV2y9Db1pEAAAAzQZ6hRRUsO/8AAVGN++bwgLAC2sDOv4Im\n",
              "onI6L/7oo/SB41ArYfgmcF/V3GXPuJ3MNZNQAAAAIAGewHRDfwADtnysxlZiSCXp0Q8FewI9YHjq\n",
              "Qk2as7qBAAAAKAGewmpDfwADtdv05U9GZEx4kevINiDTyWaKKtQAlzBpze48bsvO1cAAAABiQZrF\n",
              "SahBbJlMFEwR//61KoAAVvvvHmAEJm3dgD4loNzDnKFyE79V1vVTVHRlYPB+pm66TuvFLQioweym\n",
              "hxJIpEulUqgvpY7dglJe4rJTIE3IfYkSkip/fJHo4RsEAN3F9aUAAAAeAZ7kakN/AAB21dr40Ngz\n",
              "ArcRU9hTYEYxDfs2sb1pAAAA40Ga6EnhClJlMCCP//61KoAAVvdwayL0YaQA3KI1orLm8bhyL3QK\n",
              "ox1yxIL7TazPuvelz+aq9S2xOKiDXPNMfwPO+4oVxTJ7ilBj/IDRrp15WT7S+cFvQj/0PH+5cubA\n",
              "dg0mltO2zQmUhxgZqMiXHKg9REDNJYbL0Xcrp3C7Vsri4kqVphALO+aL3d/O71GuEMnLp2EJMUmM\n",
              "rwFiWEV9XkTLBlcFFBbKi/N94QY2ZUR6v/XabJk5LyYSni3VRqvCcg4NKzHGDWZ35FHDIgm5BBL7\n",
              "X+9722534akvM5qkKXW6IT/NAAAAQkGfBkU0TDf/AAHVKOkVAimgAa/T46pBaOmfo0He2U+8PUco\n",
              "DwIm44TZTKbRDN6h+BVZFeYpvoGE4k4ddDiFxuGSEQAAACcBnydqQ38AAdAKao7YEwz+/9N6rZxV\n",
              "P/pCL+pw4iFwD01pNv4/X4AAAACVQZssSahBaJlMCCP//rUqgABXCBOz6ADWbYUHc9wkP69550Im\n",
              "903i/bHG97OH9EhFUtOHpTSwHBHd0jHwzyqWgQxANXVdEsrFIyqnqKBb1D03Kx1m9VxF+riB9uU/\n",
              "1y9W61sXKXVxm4mq32x7jrUX9e2hKPzehr5z9p9U+EhU+kwXw3s6ZI+nKzMkM+TgCQj9RImm2kgA\n",
              "AAA2QZ9KRREsO/8AAVKjlNBvcdt25yGV6G/g2Glo6KpzmdlpkN85cPLkaADamC7NXTPM8XgcDj0Z\n",
              "AAAAHQGfaXRDfwAA7VGrRE/42KLmoAtSAkUYNLuZSueoAAAAJQGfa2pDfwABz+4W76Qsc5Oywgzs\n",
              "TyyumBwT8TCvAfBgvAAMkYAAAADIQZtwSahBbJlMCCP//rUqgABW92Kba+4iY2g92AEUzfrRYLwU\n",
              "cOA52fpDdgx9kN3+WDz4xsJZvd+dK8ty1PmYQ6w98zseh4Uw2YGk1yV0ztDj/bSf5Tt+T1IKSF9a\n",
              "X31e+PVDzZeVmjMswgra1J8fPjmnuZNIiSRhZvfugs8nBPrQ7F1SQSdu9kex+YBn70dpGx1WhR0d\n",
              "L/3H/MHGuMtyy2kR14n0WXV0p45b1/SfVEQb1Pk0TB9umKMS1ZN1eACjiTLKH5N5BcEAAABQQZ+O\n",
              "RRUsO/8AAVBMoefL8OXXoAVIPSMgN1FoSBFWlqbgiRSuD+5HfSfWJjb7sFYCEzDuXwARyfvvKU5L\n",
              "LaYxroctCq+Y0hzB9KP8imqpC0EAAAAzAZ+tdEN/AAO2fKzEQST7SU2h6s9pvndp+Ic7q/bIFLz4\n",
              "u/U5wGrTAAIJxLgOq9m4O/7BAAAALAGfr2pDfwADtdvu8gPLR7Gl0YgchgqbLtwgADi7oGDALbCE\n",
              "I0GF8Um27lNcAAAAsEGbtEmoQWyZTAgj//61KoAAVvYXeb0C0dABJwJwG1ahuQh1NUeq87l2ynoN\n",
              "3u9qlBiBmS+etevVbfjzMQR+wRZmo2zSoUc8ut5LP6gmS6OyHb5MeV35h3DRqxfnksPiB5Gkd7Sw\n",
              "Hd53uWldHlY7sS+xkVfyhdRs/ZtsPzDPuZ7He4TrBOlsUWEB3VD0XD8cTwOTiUf4Ybvqaaw4hDJj\n",
              "2IhIc/48qqpZO7f+WsUXE9aQAAAASEGf0kUVLDv/AAKmq/qXlPmpgOjACsHNtVGi0M8aDdGldQqE\n",
              "PJrNjAukiN4vgAcatvGgVDHgWmqv/G/N2y6W+7Hzs3YJn8Cp8QAAADIBn/F0Q38AA7Z8g9TogBby\n",
              "rDVfbEhWJEfcCygLzZ02fjS6UbW10JiSnMjp21awFmTNwAAAADQBn/NqQ38AA7alURFgZ6B9o69Y\n",
              "GcYASruRqww2aUs3rjmtcpGw9JwBk+eGpIKJRF1sZKWAAAAApUGb+EmoQWyZTAgj//61KoAArjX1\n",
              "aGkmG5jB+kACyDJMFQmJcY1TRkyxPrK+GQvMf0vF/C8JLCPsiagFVnB4WUAVL0hMbd9ChW3eyy+4\n",
              "X3ABUK60mVjWN2D8wtNYJW7N2d3ZGD24cwX2KTd0HH279dzBWPlFx81gtv/+60D/8wjbTgcq+B5w\n",
              "w0WOvmcE3LyD9b+rGYmDTO+1XjPDPwhc77wW4Q6+wQAAAENBnhZFFSw7/wACpkhoVcoC9B39r0AB\n",
              "H42pmyoYVvZy6BKjZYfuihnYReYAoqLJkWIP5tL2u7v6iEAYsIYQSjkOsp7IAAAAQwGeNXRDfwAD\n",
              "rKqQZMqWf9CQziRuTWOsAFiuoEF+EYVNEicqQtHb7wO9m3ET4itfnvFK9B+KjeH5lMx7WhXEox3n\n",
              "L8EAAAA8AZ43akN/AAO0NsDvjGkt2+dcAC43jsXpOPVzKZUfcEVdduBKm+nSrejNp7wUKIbRujNp\n",
              "v2q7XNrDNiFhAAAAmkGaPEmoQWyZTAgh//6qVQABXE94pfoX5HJaV5Kige8ezboxaSwtEXJIdbEN\n",
              "Dx8jiqw+5GH2wXTreB9lcfijVkNRKto2P8QXXxXCHtnKbzYDfIH9osLJEdHNHdZ1QbJPPClG5u25\n",
              "+6lZWmjZUJuu8o7dgp0OZACNux5CGTSdlJcdMdd1PK7qClnbgp9OA8C6iHCiqR03bPyduNsAAABN\n",
              "QZ5aRRUsO/8AAqaje38H0NiZJlOtG2AAuIrCey1atzvm7HCj/JH7EbB81RwFht9JqeA5hEZ9krRB\n",
              "fB0eXh2UbJmhY6JUQgVoPxdRCNUAAAA5AZ55dEN/AAHl01WIV/MqAAWqpW7OeJ/K5ro3AjGLXSQU\n",
              "+pxhbHRDgMINWyKWTcKfUOMFzvUSRhdKAAAAUgGee2pDfwADtp4/D4UAqJAH514AALqAAB+hgMtW\n",
              "0iyCOhUNhshFVXPDCpdVxwuN42Kr5uhcEGCN55aXT/te8UglzpfCzQVhdkOEu6Vd0ScRMVEAAACi\n",
              "QZp+SahBbJlMFEwR//61KoAArfMutL1O+NUMAKrA85L/zxLMlWv4YPogFuyenuEmcrHCYxz1Q2hH\n",
              "njSXBHlcYxgzQcNg2pd+lle6awdyPnFiqfJZmynJgeRo1ZmacRkHb5sD1kZMb0zRLchqwzPMjoJc\n",
              "F7fECkngDmIIeRHr2DoAhUBolsT1Er87Y52UkWyBQNoHG6I+ln//McTnHyopRfeBAAAAQQGenWpD\n",
              "fwADtpxiT8WpkIxYAlA4VI0HMhMF85KC3BqmjJUkX+6kDYANoSc9nSFYBVKNTp0v03OT/7dFWfUp\n",
              "HchYAAAAn0GagknhClJlMCCH//6qVQABZRbHxZPyNC7Xxf4+sQA24lpa1XehDHhEUCgEKd6dfdDO\n",
              "pZPot3OBYpsinXllVYxoGeOfBfZ/dnBEcEKLO0GOBuKnNnMkNiEb7ohWft4CP8dszwtxoA3IqCcT\n",
              "ne/BSslSV0SIGvMtQQJJpRKtlTi6OehsUouyAH0JjketXngUhXnRegOJaEfSzbDTX9AQQAAAAFJB\n",
              "nqBFNEw7/wACuKvWCnxwK4qID1pSj43OFQDoJkvypaYv76+lgJGbEgwrjlya+7WcbxW6foKPVLmY\n",
              "QDHPLLShhEaN+9FiLBfReg5Ap++PiklVAAAALQGe33RDfwADzHuImddYpTF65qQggDfa0LEXCJPy\n",
              "1Uw45jeFGjcrFCcYotgZewAAAEoBnsFqQ38AA8ylJts0Mgyn5OmYl3ZgACsRknxFIVbJmKj29C+F\n",
              "qBvgysy0zOFrdoKssXqZ8U5NmeVeFyxtLwGmM3pZu9crNgM5CQAAAGxBmsZJqEFomUwId//+qZYA\n",
              "BW9Ddm7QekpB32ggAOD8Q1q+qOJQOqQWDSZd7H6o38egRtRc+RvFfjZKh4ReVVOoDbC0eSJzGp/s\n",
              "q2PZA8SNSBHDprPQgCbIaqWXs/cHlZHaq71vwckrPTB0CYAAAABZQZ7kRREsO/8AArhIZueL9BUo\n",
              "kWaAC0kz+9oTymndeJy660dNZ0q2qvKUaXk+idjkxrsBiDCPT0JA8tVUDJTjjL/UgnttXQdGpNQG\n",
              "416nC5rYRaMHyTg3KyUAAAA+AZ8DdEN/AAPLlbG9XxiAAXUnMEqqGeawBcJpCDADbUYnyOh4IXix\n",
              "9c7zlZorRqN6UW528NF3pO9YIRwhAPEAAAA7AZ8FakN/AAPLt0ey7LbNTerCkfhM5bUSAAjUkSsF\n",
              "KwdigQIqciuOUBsJCh6lImbyw0GakZIPHDLlmBsAAABJQZsHSahBbJlMCG///qeEAArGZoha6GDA\n",
              "AXVdUm0H+BHJdtwKlUoABBWdk4P/AfFoOEQ3us+e2E6EQvriijf4P255eM9hDdRLaQAADGZtb292\n",
              "AAAAbG12aGQAAAAAAAAAAAAAAAAAAAPoAABOIAABAAABAAAAAAAAAAAAAAAAAQAAAAAAAAAAAAAA\n",
              "AAAAAAEAAAAAAAAAAAAAAAAAAEAAAAAAAAAAAAAAAAAAAAAAAAAAAAAAAAAAAAAAAAACAAALkHRy\n",
              "YWsAAABcdGtoZAAAAAMAAAAAAAAAAAAAAAEAAAAAAABOIAAAAAAAAAAAAAAAAAAAAAAAAQAAAAAA\n",
              "AAAAAAAAAAAAAAEAAAAAAAAAAAAAAAAAAEAAAAABsAAAASAAAAAAACRlZHRzAAAAHGVsc3QAAAAA\n",
              "AAAAAQAATiAAAAgAAAEAAAAACwhtZGlhAAAAIG1kaGQAAAAAAAAAAAAAAAAAACgAAAMgAFXEAAAA\n",
              "AAAtaGRscgAAAAAAAAAAdmlkZQAAAAAAAAAAAAAAAFZpZGVvSGFuZGxlcgAAAAqzbWluZgAAABR2\n",
              "bWhkAAAAAQAAAAAAAAAAAAAAJGRpbmYAAAAcZHJlZgAAAAAAAAABAAAADHVybCAAAAABAAAKc3N0\n",
              "YmwAAACzc3RzZAAAAAAAAAABAAAAo2F2YzEAAAAAAAAAAQAAAAAAAAAAAAAAAAAAAAABsAEgAEgA\n",
              "AABIAAAAAAAAAAEAAAAAAAAAAAAAAAAAAAAAAAAAAAAAAAAAAAAAAAAAAAAY//8AAAAxYXZjQwFk\n",
              "ABX/4QAYZ2QAFazZQbCWhAAAAwAEAAADAFA8WLZYAQAGaOvjyyLAAAAAHHV1aWRraEDyXyRPxbo5\n",
              "pRvPAyPzAAAAAAAAABhzdHRzAAAAAAAAAAEAAADIAAAEAAAAABRzdHNzAAAAAAAAAAEAAAABAAAG\n",
              "KGN0dHMAAAAAAAAAwwAAAAEAAAgAAAAAAQAAFAAAAAABAAAIAAAAAAEAAAAAAAAAAQAABAAAAAAB\n",
              "AAAUAAAAAAEAAAgAAAAAAQAAAAAAAAABAAAEAAAAAAEAABQAAAAAAQAACAAAAAABAAAAAAAAAAEA\n",
              "AAQAAAAAAQAAFAAAAAABAAAIAAAAAAEAAAAAAAAAAQAABAAAAAABAAAUAAAAAAEAAAgAAAAAAQAA\n",
              "AAAAAAABAAAEAAAAAAEAAAwAAAAAAQAABAAAAAABAAAUAAAAAAEAAAgAAAAAAQAAAAAAAAABAAAE\n",
              "AAAAAAEAABQAAAAAAQAACAAAAAABAAAAAAAAAAEAAAQAAAAAAQAAFAAAAAABAAAIAAAAAAEAAAAA\n",
              "AAAAAQAABAAAAAABAAAUAAAAAAEAAAgAAAAAAQAAAAAAAAABAAAEAAAAAAIAAAgAAAAAAQAAFAAA\n",
              "AAABAAAIAAAAAAEAAAAAAAAAAQAABAAAAAABAAAQAAAAAAIAAAQAAAAAAQAAFAAAAAABAAAIAAAA\n",
              "AAEAAAAAAAAAAQAABAAAAAABAAAUAAAAAAEAAAgAAAAAAQAAAAAAAAABAAAEAAAAAAEAABQAAAAA\n",
              "AQAACAAAAAABAAAAAAAAAAEAAAQAAAAAAQAACAAAAAABAAAUAAAAAAEAAAgAAAAAAQAAAAAAAAAB\n",
              "AAAEAAAAAAEAABQAAAAAAQAACAAAAAABAAAAAAAAAAEAAAQAAAAAAQAAFAAAAAABAAAIAAAAAAEA\n",
              "AAAAAAAAAQAABAAAAAABAAAQAAAAAAIAAAQAAAAAAQAAFAAAAAABAAAIAAAAAAEAAAAAAAAAAQAA\n",
              "BAAAAAABAAAQAAAAAAIAAAQAAAAAAQAAFAAAAAABAAAIAAAAAAEAAAAAAAAAAQAABAAAAAABAAAU\n",
              "AAAAAAEAAAgAAAAAAQAAAAAAAAABAAAEAAAAAAEAABQAAAAAAQAACAAAAAABAAAAAAAAAAEAAAQA\n",
              "AAAAAQAAFAAAAAABAAAIAAAAAAEAAAAAAAAAAQAABAAAAAABAAAUAAAAAAEAAAgAAAAAAQAAAAAA\n",
              "AAABAAAEAAAAAAEAABQAAAAAAQAACAAAAAABAAAAAAAAAAEAAAQAAAAAAQAAFAAAAAABAAAIAAAA\n",
              "AAEAAAAAAAAAAQAABAAAAAABAAAUAAAAAAEAAAgAAAAAAQAAAAAAAAABAAAEAAAAAAEAABQAAAAA\n",
              "AQAACAAAAAABAAAAAAAAAAEAAAQAAAAAAQAAFAAAAAABAAAIAAAAAAEAAAAAAAAAAQAABAAAAAAB\n",
              "AAAUAAAAAAEAAAgAAAAAAQAAAAAAAAABAAAEAAAAAAEAABQAAAAAAQAACAAAAAABAAAAAAAAAAEA\n",
              "AAQAAAAAAQAAFAAAAAABAAAIAAAAAAEAAAAAAAAAAQAABAAAAAABAAAUAAAAAAEAAAgAAAAAAQAA\n",
              "AAAAAAABAAAEAAAAAAEAABQAAAAAAQAACAAAAAABAAAAAAAAAAEAAAQAAAAAAQAAFAAAAAABAAAI\n",
              "AAAAAAEAAAAAAAAAAQAABAAAAAABAAAUAAAAAAEAAAgAAAAAAQAAAAAAAAABAAAEAAAAAAEAAAgA\n",
              "AAAAAQAAFAAAAAABAAAIAAAAAAEAAAAAAAAAAQAABAAAAAABAAAUAAAAAAEAAAgAAAAAAQAAAAAA\n",
              "AAABAAAEAAAAAAEAABQAAAAAAQAACAAAAAABAAAAAAAAAAEAAAQAAAAAAQAADAAAAAABAAAEAAAA\n",
              "AAEAABAAAAAAAgAABAAAAAABAAAUAAAAAAEAAAgAAAAAAQAAAAAAAAABAAAEAAAAAAEAABQAAAAA\n",
              "AQAACAAAAAABAAAAAAAAAAEAAAQAAAAAAQAAFAAAAAABAAAIAAAAAAEAAAAAAAAAAQAABAAAAAAB\n",
              "AAAUAAAAAAEAAAgAAAAAAQAAAAAAAAABAAAEAAAAAAEAABQAAAAAAQAACAAAAAABAAAAAAAAAAEA\n",
              "AAQAAAAAAQAADAAAAAABAAAEAAAAAAEAABQAAAAAAQAACAAAAAABAAAAAAAAAAEAAAQAAAAAAQAA\n",
              "FAAAAAABAAAIAAAAAAEAAAAAAAAAAQAABAAAAAABAAAIAAAAABxzdHNjAAAAAAAAAAEAAAABAAAA\n",
              "yAAAAAEAAAM0c3RzegAAAAAAAAAAAAAAyAAABCoAAACRAAAAQwAAAB4AAAAgAAAAbwAAACYAAAAT\n",
              "AAAAHAAAAI8AAAAsAAAAGgAAACYAAACvAAAALwAAABkAAAAmAAAAigAAACgAAAAaAAAAHgAAALcA\n",
              "AAA9AAAAmwAAACsAAAAvAAAAHQAAAKAAAAA7AAAAIgAAACYAAAC9AAAAOQAAADMAAAAyAAAAnAAA\n",
              "AEwAAAAyAAAANQAAAFoAAACaAAAAvQAAADkAAAAnAAAAJAAAAKAAAAA2AAAALgAAAKkAAABPAAAA\n",
              "SQAAADcAAACnAAAARAAAACoAAAA6AAAAngAAAEoAAABCAAAASQAAAL4AAAChAAAAUwAAADUAAAAs\n",
              "AAAAowAAAE4AAABEAAAAQAAAAOEAAABVAAAAMwAAADMAAADBAAAASgAAAC0AAAC7AAAARQAAAC4A\n",
              "AAA4AAAAygAAAEIAAAAsAAAArAAAADEAAAA1AAAAIAAAAK0AAABEAAAAIwAAACQAAACMAAAAJgAA\n",
              "ACIAAAAhAAAAlwAAADcAAAAmAAAAMQAAAMMAAABAAAAAIAAAACMAAACzAAAAYQAAADIAAAA2AAAA\n",
              "yQAAAEwAAAA8AAAAKAAAAMcAAABVAAAANgAAAEoAAACwAAAAbgAAADoAAAAwAAAA1wAAAFsAAAAq\n",
              "AAAAPwAAALYAAABiAAAAPAAAADYAAACUAAAAbwAAAD4AAABXAAAAqQAAAF8AAAA/AAAANwAAAMoA\n",
              "AABWAAAASwAAACsAAAC/AAAATgAAADIAAABDAAAAqgAAAEwAAABMAAAASQAAAM8AAABRAAAATAAA\n",
              "AEEAAACmAAAA6wAAAF8AAAAzAAAAPwAAAOgAAABUAAAANgAAACQAAACgAAAANwAAACQAAAAsAAAA\n",
              "ZgAAACIAAADnAAAARgAAACsAAACZAAAAOgAAACEAAAApAAAAzAAAAFQAAAA3AAAAMAAAALQAAABM\n",
              "AAAANgAAADgAAACpAAAARwAAAEcAAABAAAAAngAAAFEAAAA9AAAAVgAAAKYAAABFAAAAowAAAFYA\n",
              "AAAxAAAATgAAAHAAAABdAAAAQgAAAD8AAABNAAAAFHN0Y28AAAAAAAAAAQAAACwAAABidWR0YQAA\n",
              "AFptZXRhAAAAAAAAACFoZGxyAAAAAAAAAABtZGlyYXBwbAAAAAAAAAAAAAAAAC1pbHN0AAAAJal0\n",
              "b28AAAAdZGF0YQAAAAEAAAAATGF2ZjU3LjgzLjEwMA==\n",
              "\">\n",
              "  Your browser does not support the video tag.\n",
              "</video>"
            ],
            "text/plain": [
              "<matplotlib.animation.FuncAnimation at 0x7f79166c82e8>"
            ]
          },
          "metadata": {
            "tags": []
          },
          "execution_count": 45
        }
      ]
    },
    {
      "cell_type": "markdown",
      "metadata": {
        "id": "czFkl3al9MJa"
      },
      "source": [
        "A bit less wobbly."
      ]
    }
  ]
}